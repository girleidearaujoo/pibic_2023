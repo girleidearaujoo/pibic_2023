{
 "cells": [
  {
   "cell_type": "code",
   "execution_count": 1,
   "metadata": {
    "executionInfo": {
     "elapsed": 1210,
     "status": "ok",
     "timestamp": 1684262159873,
     "user": {
      "displayName": "Girleide de Araujo Silva",
      "userId": "16954863466274623397"
     },
     "user_tz": 180
    },
    "id": "ceIxne0zPPx_"
   },
   "outputs": [],
   "source": [
    "import pandas as pd"
   ]
  },
  {
   "cell_type": "code",
   "execution_count": 2,
   "metadata": {
    "executionInfo": {
     "elapsed": 44945,
     "status": "ok",
     "timestamp": 1684262404054,
     "user": {
      "displayName": "Girleide de Araujo Silva",
      "userId": "16954863466274623397"
     },
     "user_tz": 180
    },
    "id": "zDrFV9tfPZ1g"
   },
   "outputs": [],
   "source": [
    "#df = pd.read_csv('https://drive.google.com/file/d/1rV8FqW9lwtl7G-KWCy7eyQFxMHpXy3rX/view?usp=sharing')\n",
    "df = pd.read_csv('./Chicago_2001_to_Present.csv')"
   ]
  },
  {
   "cell_type": "code",
   "execution_count": 5,
   "metadata": {
    "colab": {
     "base_uri": "https://localhost:8080/"
    },
    "executionInfo": {
     "elapsed": 9,
     "status": "ok",
     "timestamp": 1684262404055,
     "user": {
      "displayName": "Girleide de Araujo Silva",
      "userId": "16954863466274623397"
     },
     "user_tz": 180
    },
    "id": "PknT_8fwQNV3",
    "outputId": "133103b5-6436-4c49-eebe-bc7cc7b74130"
   },
   "outputs": [
    {
     "data": {
      "text/plain": [
       "(7749627, 22)"
      ]
     },
     "execution_count": 5,
     "metadata": {},
     "output_type": "execute_result"
    }
   ],
   "source": [
    "df.shape"
   ]
  },
  {
   "cell_type": "code",
   "execution_count": 6,
   "metadata": {
    "colab": {
     "base_uri": "https://localhost:8080/"
    },
    "executionInfo": {
     "elapsed": 7,
     "status": "ok",
     "timestamp": 1684262404055,
     "user": {
      "displayName": "Girleide de Araujo Silva",
      "userId": "16954863466274623397"
     },
     "user_tz": 180
    },
    "id": "pDdPWpfBjoFM",
    "outputId": "03583364-43d7-40b7-e87b-3755c380829c"
   },
   "outputs": [
    {
     "name": "stdout",
     "output_type": "stream",
     "text": [
      "<class 'pandas.core.frame.DataFrame'>\n",
      "RangeIndex: 7749627 entries, 0 to 7749626\n",
      "Data columns (total 22 columns):\n",
      " #   Column                Dtype  \n",
      "---  ------                -----  \n",
      " 0   ID                    int64  \n",
      " 1   Case Number           object \n",
      " 2   Date                  object \n",
      " 3   Block                 object \n",
      " 4   IUCR                  object \n",
      " 5   Primary Type          object \n",
      " 6   Description           object \n",
      " 7   Location Description  object \n",
      " 8   Arrest                bool   \n",
      " 9   Domestic              bool   \n",
      " 10  Beat                  int64  \n",
      " 11  District              float64\n",
      " 12  Ward                  float64\n",
      " 13  Community Area        float64\n",
      " 14  FBI Code              object \n",
      " 15  X Coordinate          float64\n",
      " 16  Y Coordinate          float64\n",
      " 17  Year                  int64  \n",
      " 18  Updated On            object \n",
      " 19  Latitude              float64\n",
      " 20  Longitude             float64\n",
      " 21  Location              object \n",
      "dtypes: bool(2), float64(7), int64(3), object(10)\n",
      "memory usage: 1.2+ GB\n"
     ]
    }
   ],
   "source": [
    "df.info()"
   ]
  },
  {
   "cell_type": "code",
   "execution_count": 3,
   "metadata": {
    "executionInfo": {
     "elapsed": 3,
     "status": "ok",
     "timestamp": 1684262404055,
     "user": {
      "displayName": "Girleide de Araujo Silva",
      "userId": "16954863466274623397"
     },
     "user_tz": 180
    },
    "id": "ePx6w26MQorO"
   },
   "outputs": [],
   "source": [
    "dfChicago = df"
   ]
  },
  {
   "cell_type": "code",
   "execution_count": 8,
   "metadata": {
    "colab": {
     "base_uri": "https://localhost:8080/"
    },
    "executionInfo": {
     "elapsed": 18275,
     "status": "ok",
     "timestamp": 1684262422327,
     "user": {
      "displayName": "Girleide de Araujo Silva",
      "userId": "16954863466274623397"
     },
     "user_tz": 180
    },
    "id": "ov8V1iogQNtJ",
    "outputId": "056722f2-6bc5-498b-cac4-4fd3f859c4db"
   },
   "outputs": [
    {
     "data": {
      "text/plain": [
       "ID                           0\n",
       "Case Number                  4\n",
       "Date                         0\n",
       "Block                        0\n",
       "IUCR                         0\n",
       "Primary Type                 0\n",
       "Description                  0\n",
       "Location Description     10158\n",
       "Arrest                       0\n",
       "Domestic                     0\n",
       "Beat                         0\n",
       "District                    47\n",
       "Ward                    614847\n",
       "Community Area          613476\n",
       "FBI Code                     0\n",
       "X Coordinate             85346\n",
       "Y Coordinate             85346\n",
       "Year                         0\n",
       "Updated On                   0\n",
       "Latitude                 85346\n",
       "Longitude                85346\n",
       "Location                 85346\n",
       "dtype: int64"
      ]
     },
     "execution_count": 8,
     "metadata": {},
     "output_type": "execute_result"
    }
   ],
   "source": [
    "df.isnull().sum()"
   ]
  },
  {
   "cell_type": "code",
   "execution_count": 4,
   "metadata": {
    "colab": {
     "base_uri": "https://localhost:8080/",
     "height": 869
    },
    "executionInfo": {
     "elapsed": 15233,
     "status": "ok",
     "timestamp": 1684262437558,
     "user": {
      "displayName": "Girleide de Araujo Silva",
      "userId": "16954863466274623397"
     },
     "user_tz": 180
    },
    "id": "x3oycCqBQknW",
    "outputId": "1a3b80fc-5404-4a23-ba98-7914211fd18e"
   },
   "outputs": [
    {
     "data": {
      "text/html": [
       "<div>\n",
       "<style scoped>\n",
       "    .dataframe tbody tr th:only-of-type {\n",
       "        vertical-align: middle;\n",
       "    }\n",
       "\n",
       "    .dataframe tbody tr th {\n",
       "        vertical-align: top;\n",
       "    }\n",
       "\n",
       "    .dataframe thead th {\n",
       "        text-align: right;\n",
       "    }\n",
       "</style>\n",
       "<table border=\"1\" class=\"dataframe\">\n",
       "  <thead>\n",
       "    <tr style=\"text-align: right;\">\n",
       "      <th></th>\n",
       "      <th>ID</th>\n",
       "      <th>Case Number</th>\n",
       "      <th>Date</th>\n",
       "      <th>Block</th>\n",
       "      <th>IUCR</th>\n",
       "      <th>Primary Type</th>\n",
       "      <th>Description</th>\n",
       "      <th>Location Description</th>\n",
       "      <th>Arrest</th>\n",
       "      <th>Domestic</th>\n",
       "      <th>...</th>\n",
       "      <th>Ward</th>\n",
       "      <th>Community Area</th>\n",
       "      <th>FBI Code</th>\n",
       "      <th>X Coordinate</th>\n",
       "      <th>Y Coordinate</th>\n",
       "      <th>Year</th>\n",
       "      <th>Updated On</th>\n",
       "      <th>Latitude</th>\n",
       "      <th>Longitude</th>\n",
       "      <th>Location</th>\n",
       "    </tr>\n",
       "  </thead>\n",
       "  <tbody>\n",
       "    <tr>\n",
       "      <th>0</th>\n",
       "      <td>10224738</td>\n",
       "      <td>HY411648</td>\n",
       "      <td>09/05/2015 01:30:00 PM</td>\n",
       "      <td>043XX S WOOD ST</td>\n",
       "      <td>0486</td>\n",
       "      <td>BATTERY</td>\n",
       "      <td>DOMESTIC BATTERY SIMPLE</td>\n",
       "      <td>RESIDENCE</td>\n",
       "      <td>False</td>\n",
       "      <td>True</td>\n",
       "      <td>...</td>\n",
       "      <td>12.0</td>\n",
       "      <td>61.0</td>\n",
       "      <td>08B</td>\n",
       "      <td>1165074.0</td>\n",
       "      <td>1875917.0</td>\n",
       "      <td>2015</td>\n",
       "      <td>02/10/2018 03:50:01 PM</td>\n",
       "      <td>41.815117</td>\n",
       "      <td>-87.670000</td>\n",
       "      <td>(41.815117282, -87.669999562)</td>\n",
       "    </tr>\n",
       "    <tr>\n",
       "      <th>1</th>\n",
       "      <td>10224739</td>\n",
       "      <td>HY411615</td>\n",
       "      <td>09/04/2015 11:30:00 AM</td>\n",
       "      <td>008XX N CENTRAL AVE</td>\n",
       "      <td>0870</td>\n",
       "      <td>THEFT</td>\n",
       "      <td>POCKET-PICKING</td>\n",
       "      <td>CTA BUS</td>\n",
       "      <td>False</td>\n",
       "      <td>False</td>\n",
       "      <td>...</td>\n",
       "      <td>29.0</td>\n",
       "      <td>25.0</td>\n",
       "      <td>06</td>\n",
       "      <td>1138875.0</td>\n",
       "      <td>1904869.0</td>\n",
       "      <td>2015</td>\n",
       "      <td>02/10/2018 03:50:01 PM</td>\n",
       "      <td>41.895080</td>\n",
       "      <td>-87.765400</td>\n",
       "      <td>(41.895080471, -87.765400451)</td>\n",
       "    </tr>\n",
       "    <tr>\n",
       "      <th>2</th>\n",
       "      <td>11646166</td>\n",
       "      <td>JC213529</td>\n",
       "      <td>09/01/2018 12:01:00 AM</td>\n",
       "      <td>082XX S INGLESIDE AVE</td>\n",
       "      <td>0810</td>\n",
       "      <td>THEFT</td>\n",
       "      <td>OVER $500</td>\n",
       "      <td>RESIDENCE</td>\n",
       "      <td>False</td>\n",
       "      <td>True</td>\n",
       "      <td>...</td>\n",
       "      <td>8.0</td>\n",
       "      <td>44.0</td>\n",
       "      <td>06</td>\n",
       "      <td>NaN</td>\n",
       "      <td>NaN</td>\n",
       "      <td>2018</td>\n",
       "      <td>04/06/2019 04:04:43 PM</td>\n",
       "      <td>NaN</td>\n",
       "      <td>NaN</td>\n",
       "      <td>NaN</td>\n",
       "    </tr>\n",
       "    <tr>\n",
       "      <th>3</th>\n",
       "      <td>10224740</td>\n",
       "      <td>HY411595</td>\n",
       "      <td>09/05/2015 12:45:00 PM</td>\n",
       "      <td>035XX W BARRY AVE</td>\n",
       "      <td>2023</td>\n",
       "      <td>NARCOTICS</td>\n",
       "      <td>POSS: HEROIN(BRN/TAN)</td>\n",
       "      <td>SIDEWALK</td>\n",
       "      <td>True</td>\n",
       "      <td>False</td>\n",
       "      <td>...</td>\n",
       "      <td>35.0</td>\n",
       "      <td>21.0</td>\n",
       "      <td>18</td>\n",
       "      <td>1152037.0</td>\n",
       "      <td>1920384.0</td>\n",
       "      <td>2015</td>\n",
       "      <td>02/10/2018 03:50:01 PM</td>\n",
       "      <td>41.937406</td>\n",
       "      <td>-87.716650</td>\n",
       "      <td>(41.937405765, -87.716649687)</td>\n",
       "    </tr>\n",
       "    <tr>\n",
       "      <th>4</th>\n",
       "      <td>10224741</td>\n",
       "      <td>HY411610</td>\n",
       "      <td>09/05/2015 01:00:00 PM</td>\n",
       "      <td>0000X N LARAMIE AVE</td>\n",
       "      <td>0560</td>\n",
       "      <td>ASSAULT</td>\n",
       "      <td>SIMPLE</td>\n",
       "      <td>APARTMENT</td>\n",
       "      <td>False</td>\n",
       "      <td>True</td>\n",
       "      <td>...</td>\n",
       "      <td>28.0</td>\n",
       "      <td>25.0</td>\n",
       "      <td>08A</td>\n",
       "      <td>1141706.0</td>\n",
       "      <td>1900086.0</td>\n",
       "      <td>2015</td>\n",
       "      <td>02/10/2018 03:50:01 PM</td>\n",
       "      <td>41.881903</td>\n",
       "      <td>-87.755121</td>\n",
       "      <td>(41.881903443, -87.755121152)</td>\n",
       "    </tr>\n",
       "    <tr>\n",
       "      <th>...</th>\n",
       "      <td>...</td>\n",
       "      <td>...</td>\n",
       "      <td>...</td>\n",
       "      <td>...</td>\n",
       "      <td>...</td>\n",
       "      <td>...</td>\n",
       "      <td>...</td>\n",
       "      <td>...</td>\n",
       "      <td>...</td>\n",
       "      <td>...</td>\n",
       "      <td>...</td>\n",
       "      <td>...</td>\n",
       "      <td>...</td>\n",
       "      <td>...</td>\n",
       "      <td>...</td>\n",
       "      <td>...</td>\n",
       "      <td>...</td>\n",
       "      <td>...</td>\n",
       "      <td>...</td>\n",
       "      <td>...</td>\n",
       "      <td>...</td>\n",
       "    </tr>\n",
       "    <tr>\n",
       "      <th>7749622</th>\n",
       "      <td>12847575</td>\n",
       "      <td>JF420478</td>\n",
       "      <td>09/01/2022 05:00:00 AM</td>\n",
       "      <td>005XX W SURF ST</td>\n",
       "      <td>2825</td>\n",
       "      <td>OTHER OFFENSE</td>\n",
       "      <td>HARASSMENT BY TELEPHONE</td>\n",
       "      <td>RESIDENCE</td>\n",
       "      <td>False</td>\n",
       "      <td>True</td>\n",
       "      <td>...</td>\n",
       "      <td>44.0</td>\n",
       "      <td>6.0</td>\n",
       "      <td>26</td>\n",
       "      <td>1172497.0</td>\n",
       "      <td>1919410.0</td>\n",
       "      <td>2022</td>\n",
       "      <td>01/03/2023 03:46:28 PM</td>\n",
       "      <td>41.934305</td>\n",
       "      <td>-87.641485</td>\n",
       "      <td>(41.934304581, -87.641484982)</td>\n",
       "    </tr>\n",
       "    <tr>\n",
       "      <th>7749623</th>\n",
       "      <td>12847801</td>\n",
       "      <td>JF420319</td>\n",
       "      <td>07/08/2022 12:00:00 AM</td>\n",
       "      <td>114XX S PRAIRIE AVE</td>\n",
       "      <td>1130</td>\n",
       "      <td>DECEPTIVE PRACTICE</td>\n",
       "      <td>FRAUD OR CONFIDENCE GAME</td>\n",
       "      <td>STREET</td>\n",
       "      <td>False</td>\n",
       "      <td>False</td>\n",
       "      <td>...</td>\n",
       "      <td>9.0</td>\n",
       "      <td>49.0</td>\n",
       "      <td>11</td>\n",
       "      <td>1179966.0</td>\n",
       "      <td>1828818.0</td>\n",
       "      <td>2022</td>\n",
       "      <td>01/03/2023 03:46:28 PM</td>\n",
       "      <td>41.685544</td>\n",
       "      <td>-87.616813</td>\n",
       "      <td>(41.685543881, -87.616812541)</td>\n",
       "    </tr>\n",
       "    <tr>\n",
       "      <th>7749624</th>\n",
       "      <td>12847324</td>\n",
       "      <td>JF420102</td>\n",
       "      <td>09/27/2022 11:00:00 AM</td>\n",
       "      <td>023XX E 70TH ST</td>\n",
       "      <td>0810</td>\n",
       "      <td>THEFT</td>\n",
       "      <td>OVER $500</td>\n",
       "      <td>RESIDENCE</td>\n",
       "      <td>False</td>\n",
       "      <td>False</td>\n",
       "      <td>...</td>\n",
       "      <td>5.0</td>\n",
       "      <td>43.0</td>\n",
       "      <td>06</td>\n",
       "      <td>1193181.0</td>\n",
       "      <td>1859005.0</td>\n",
       "      <td>2022</td>\n",
       "      <td>01/03/2023 03:46:28 PM</td>\n",
       "      <td>41.768068</td>\n",
       "      <td>-87.567453</td>\n",
       "      <td>(41.768068052, -87.567452932)</td>\n",
       "    </tr>\n",
       "    <tr>\n",
       "      <th>7749625</th>\n",
       "      <td>12847570</td>\n",
       "      <td>JF420427</td>\n",
       "      <td>09/03/2022 10:25:00 AM</td>\n",
       "      <td>052XX W CARMEN AVE</td>\n",
       "      <td>2021</td>\n",
       "      <td>NARCOTICS</td>\n",
       "      <td>POSSESS - BARBITURATES</td>\n",
       "      <td>RESIDENCE - YARD (FRONT / BACK)</td>\n",
       "      <td>True</td>\n",
       "      <td>False</td>\n",
       "      <td>...</td>\n",
       "      <td>45.0</td>\n",
       "      <td>11.0</td>\n",
       "      <td>18</td>\n",
       "      <td>1140553.0</td>\n",
       "      <td>1933418.0</td>\n",
       "      <td>2022</td>\n",
       "      <td>01/03/2023 03:46:28 PM</td>\n",
       "      <td>41.973391</td>\n",
       "      <td>-87.758535</td>\n",
       "      <td>(41.973391184, -87.758534512)</td>\n",
       "    </tr>\n",
       "    <tr>\n",
       "      <th>7749626</th>\n",
       "      <td>12840464</td>\n",
       "      <td>JF411839</td>\n",
       "      <td>09/26/2022 07:20:00 PM</td>\n",
       "      <td>0000X N MASON AVE</td>\n",
       "      <td>143A</td>\n",
       "      <td>WEAPONS VIOLATION</td>\n",
       "      <td>UNLAWFUL POSSESSION - HANDGUN</td>\n",
       "      <td>SIDEWALK</td>\n",
       "      <td>True</td>\n",
       "      <td>False</td>\n",
       "      <td>...</td>\n",
       "      <td>29.0</td>\n",
       "      <td>25.0</td>\n",
       "      <td>15</td>\n",
       "      <td>1136773.0</td>\n",
       "      <td>1899652.0</td>\n",
       "      <td>2022</td>\n",
       "      <td>01/03/2023 03:46:28 PM</td>\n",
       "      <td>41.880802</td>\n",
       "      <td>-87.773246</td>\n",
       "      <td>(41.880802263, -87.773245737)</td>\n",
       "    </tr>\n",
       "  </tbody>\n",
       "</table>\n",
       "<p>7749627 rows × 22 columns</p>\n",
       "</div>"
      ],
      "text/plain": [
       "               ID Case Number                    Date                  Block  \\\n",
       "0        10224738    HY411648  09/05/2015 01:30:00 PM        043XX S WOOD ST   \n",
       "1        10224739    HY411615  09/04/2015 11:30:00 AM    008XX N CENTRAL AVE   \n",
       "2        11646166    JC213529  09/01/2018 12:01:00 AM  082XX S INGLESIDE AVE   \n",
       "3        10224740    HY411595  09/05/2015 12:45:00 PM      035XX W BARRY AVE   \n",
       "4        10224741    HY411610  09/05/2015 01:00:00 PM    0000X N LARAMIE AVE   \n",
       "...           ...         ...                     ...                    ...   \n",
       "7749622  12847575    JF420478  09/01/2022 05:00:00 AM        005XX W SURF ST   \n",
       "7749623  12847801    JF420319  07/08/2022 12:00:00 AM    114XX S PRAIRIE AVE   \n",
       "7749624  12847324    JF420102  09/27/2022 11:00:00 AM        023XX E 70TH ST   \n",
       "7749625  12847570    JF420427  09/03/2022 10:25:00 AM     052XX W CARMEN AVE   \n",
       "7749626  12840464    JF411839  09/26/2022 07:20:00 PM      0000X N MASON AVE   \n",
       "\n",
       "         IUCR        Primary Type                    Description  \\\n",
       "0        0486             BATTERY        DOMESTIC BATTERY SIMPLE   \n",
       "1        0870               THEFT                 POCKET-PICKING   \n",
       "2        0810               THEFT                      OVER $500   \n",
       "3        2023           NARCOTICS          POSS: HEROIN(BRN/TAN)   \n",
       "4        0560             ASSAULT                         SIMPLE   \n",
       "...       ...                 ...                            ...   \n",
       "7749622  2825       OTHER OFFENSE        HARASSMENT BY TELEPHONE   \n",
       "7749623  1130  DECEPTIVE PRACTICE       FRAUD OR CONFIDENCE GAME   \n",
       "7749624  0810               THEFT                      OVER $500   \n",
       "7749625  2021           NARCOTICS         POSSESS - BARBITURATES   \n",
       "7749626  143A   WEAPONS VIOLATION  UNLAWFUL POSSESSION - HANDGUN   \n",
       "\n",
       "                    Location Description  Arrest  Domestic  ...  Ward  \\\n",
       "0                              RESIDENCE   False      True  ...  12.0   \n",
       "1                                CTA BUS   False     False  ...  29.0   \n",
       "2                              RESIDENCE   False      True  ...   8.0   \n",
       "3                               SIDEWALK    True     False  ...  35.0   \n",
       "4                              APARTMENT   False      True  ...  28.0   \n",
       "...                                  ...     ...       ...  ...   ...   \n",
       "7749622                        RESIDENCE   False      True  ...  44.0   \n",
       "7749623                           STREET   False     False  ...   9.0   \n",
       "7749624                        RESIDENCE   False     False  ...   5.0   \n",
       "7749625  RESIDENCE - YARD (FRONT / BACK)    True     False  ...  45.0   \n",
       "7749626                         SIDEWALK    True     False  ...  29.0   \n",
       "\n",
       "         Community Area  FBI Code  X Coordinate Y Coordinate  Year  \\\n",
       "0                  61.0       08B     1165074.0    1875917.0  2015   \n",
       "1                  25.0        06     1138875.0    1904869.0  2015   \n",
       "2                  44.0        06           NaN          NaN  2018   \n",
       "3                  21.0        18     1152037.0    1920384.0  2015   \n",
       "4                  25.0       08A     1141706.0    1900086.0  2015   \n",
       "...                 ...       ...           ...          ...   ...   \n",
       "7749622             6.0        26     1172497.0    1919410.0  2022   \n",
       "7749623            49.0        11     1179966.0    1828818.0  2022   \n",
       "7749624            43.0        06     1193181.0    1859005.0  2022   \n",
       "7749625            11.0        18     1140553.0    1933418.0  2022   \n",
       "7749626            25.0        15     1136773.0    1899652.0  2022   \n",
       "\n",
       "                     Updated On   Latitude  Longitude  \\\n",
       "0        02/10/2018 03:50:01 PM  41.815117 -87.670000   \n",
       "1        02/10/2018 03:50:01 PM  41.895080 -87.765400   \n",
       "2        04/06/2019 04:04:43 PM        NaN        NaN   \n",
       "3        02/10/2018 03:50:01 PM  41.937406 -87.716650   \n",
       "4        02/10/2018 03:50:01 PM  41.881903 -87.755121   \n",
       "...                         ...        ...        ...   \n",
       "7749622  01/03/2023 03:46:28 PM  41.934305 -87.641485   \n",
       "7749623  01/03/2023 03:46:28 PM  41.685544 -87.616813   \n",
       "7749624  01/03/2023 03:46:28 PM  41.768068 -87.567453   \n",
       "7749625  01/03/2023 03:46:28 PM  41.973391 -87.758535   \n",
       "7749626  01/03/2023 03:46:28 PM  41.880802 -87.773246   \n",
       "\n",
       "                              Location  \n",
       "0        (41.815117282, -87.669999562)  \n",
       "1        (41.895080471, -87.765400451)  \n",
       "2                                  NaN  \n",
       "3        (41.937405765, -87.716649687)  \n",
       "4        (41.881903443, -87.755121152)  \n",
       "...                                ...  \n",
       "7749622  (41.934304581, -87.641484982)  \n",
       "7749623  (41.685543881, -87.616812541)  \n",
       "7749624  (41.768068052, -87.567452932)  \n",
       "7749625  (41.973391184, -87.758534512)  \n",
       "7749626  (41.880802263, -87.773245737)  \n",
       "\n",
       "[7749627 rows x 22 columns]"
      ]
     },
     "execution_count": 4,
     "metadata": {},
     "output_type": "execute_result"
    }
   ],
   "source": [
    "df"
   ]
  },
  {
   "cell_type": "code",
   "execution_count": 10,
   "metadata": {
    "executionInfo": {
     "elapsed": 16,
     "status": "ok",
     "timestamp": 1684262437559,
     "user": {
      "displayName": "Girleide de Araujo Silva",
      "userId": "16954863466274623397"
     },
     "user_tz": 180
    },
    "id": "lZEWs5t-nxWg"
   },
   "outputs": [],
   "source": [
    "#remove dados duplicados\n",
    "#df.drop_duplicates()"
   ]
  },
  {
   "cell_type": "code",
   "execution_count": 4,
   "metadata": {
    "executionInfo": {
     "elapsed": 15,
     "status": "ok",
     "timestamp": 1684262437560,
     "user": {
      "displayName": "Girleide de Araujo Silva",
      "userId": "16954863466274623397"
     },
     "user_tz": 180
    },
    "id": "w4PBpycsRYIm"
   },
   "outputs": [],
   "source": [
    "### colunas importantes\n",
    "dfChicago = dfChicago.filter(['Primary Type', 'Date', 'Year', 'Latitude', 'Longitude'])"
   ]
  },
  {
   "cell_type": "code",
   "execution_count": 9,
   "metadata": {
    "colab": {
     "base_uri": "https://localhost:8080/"
    },
    "executionInfo": {
     "elapsed": 14427,
     "status": "ok",
     "timestamp": 1684262451972,
     "user": {
      "displayName": "Girleide de Araujo Silva",
      "userId": "16954863466274623397"
     },
     "user_tz": 180
    },
    "id": "8oJtTb_VWoDl",
    "outputId": "fe43b327-d54e-4871-8699-f3057bc618cd"
   },
   "outputs": [
    {
     "data": {
      "text/plain": [
       "Primary Type        0\n",
       "Date                0\n",
       "Year                0\n",
       "Latitude        85346\n",
       "Longitude       85346\n",
       "dtype: int64"
      ]
     },
     "execution_count": 9,
     "metadata": {},
     "output_type": "execute_result"
    }
   ],
   "source": [
    "dfChicago.isnull().sum()"
   ]
  },
  {
   "cell_type": "code",
   "execution_count": 13,
   "metadata": {
    "colab": {
     "base_uri": "https://localhost:8080/",
     "height": 423
    },
    "executionInfo": {
     "elapsed": 14,
     "status": "ok",
     "timestamp": 1684262451973,
     "user": {
      "displayName": "Girleide de Araujo Silva",
      "userId": "16954863466274623397"
     },
     "user_tz": 180
    },
    "id": "_vnpe_x8RoP5",
    "outputId": "2bd919c9-400f-479d-ff33-e1c573c183fc"
   },
   "outputs": [
    {
     "data": {
      "text/html": [
       "\n",
       "  <div id=\"df-a35a7253-6653-4638-b940-b9594e7807ca\">\n",
       "    <div class=\"colab-df-container\">\n",
       "      <div>\n",
       "<style scoped>\n",
       "    .dataframe tbody tr th:only-of-type {\n",
       "        vertical-align: middle;\n",
       "    }\n",
       "\n",
       "    .dataframe tbody tr th {\n",
       "        vertical-align: top;\n",
       "    }\n",
       "\n",
       "    .dataframe thead th {\n",
       "        text-align: right;\n",
       "    }\n",
       "</style>\n",
       "<table border=\"1\" class=\"dataframe\">\n",
       "  <thead>\n",
       "    <tr style=\"text-align: right;\">\n",
       "      <th></th>\n",
       "      <th>Primary Type</th>\n",
       "      <th>Date</th>\n",
       "      <th>Year</th>\n",
       "      <th>Latitude</th>\n",
       "      <th>Longitude</th>\n",
       "    </tr>\n",
       "  </thead>\n",
       "  <tbody>\n",
       "    <tr>\n",
       "      <th>0</th>\n",
       "      <td>BATTERY</td>\n",
       "      <td>09/05/2015 01:30:00 PM</td>\n",
       "      <td>2015</td>\n",
       "      <td>41.815117</td>\n",
       "      <td>-87.670000</td>\n",
       "    </tr>\n",
       "    <tr>\n",
       "      <th>1</th>\n",
       "      <td>THEFT</td>\n",
       "      <td>09/04/2015 11:30:00 AM</td>\n",
       "      <td>2015</td>\n",
       "      <td>41.895080</td>\n",
       "      <td>-87.765400</td>\n",
       "    </tr>\n",
       "    <tr>\n",
       "      <th>2</th>\n",
       "      <td>THEFT</td>\n",
       "      <td>09/01/2018 12:01:00 AM</td>\n",
       "      <td>2018</td>\n",
       "      <td>NaN</td>\n",
       "      <td>NaN</td>\n",
       "    </tr>\n",
       "    <tr>\n",
       "      <th>3</th>\n",
       "      <td>NARCOTICS</td>\n",
       "      <td>09/05/2015 12:45:00 PM</td>\n",
       "      <td>2015</td>\n",
       "      <td>41.937406</td>\n",
       "      <td>-87.716650</td>\n",
       "    </tr>\n",
       "    <tr>\n",
       "      <th>4</th>\n",
       "      <td>ASSAULT</td>\n",
       "      <td>09/05/2015 01:00:00 PM</td>\n",
       "      <td>2015</td>\n",
       "      <td>41.881903</td>\n",
       "      <td>-87.755121</td>\n",
       "    </tr>\n",
       "    <tr>\n",
       "      <th>...</th>\n",
       "      <td>...</td>\n",
       "      <td>...</td>\n",
       "      <td>...</td>\n",
       "      <td>...</td>\n",
       "      <td>...</td>\n",
       "    </tr>\n",
       "    <tr>\n",
       "      <th>7749622</th>\n",
       "      <td>OTHER OFFENSE</td>\n",
       "      <td>09/01/2022 05:00:00 AM</td>\n",
       "      <td>2022</td>\n",
       "      <td>41.934305</td>\n",
       "      <td>-87.641485</td>\n",
       "    </tr>\n",
       "    <tr>\n",
       "      <th>7749623</th>\n",
       "      <td>DECEPTIVE PRACTICE</td>\n",
       "      <td>07/08/2022 12:00:00 AM</td>\n",
       "      <td>2022</td>\n",
       "      <td>41.685544</td>\n",
       "      <td>-87.616813</td>\n",
       "    </tr>\n",
       "    <tr>\n",
       "      <th>7749624</th>\n",
       "      <td>THEFT</td>\n",
       "      <td>09/27/2022 11:00:00 AM</td>\n",
       "      <td>2022</td>\n",
       "      <td>41.768068</td>\n",
       "      <td>-87.567453</td>\n",
       "    </tr>\n",
       "    <tr>\n",
       "      <th>7749625</th>\n",
       "      <td>NARCOTICS</td>\n",
       "      <td>09/03/2022 10:25:00 AM</td>\n",
       "      <td>2022</td>\n",
       "      <td>41.973391</td>\n",
       "      <td>-87.758535</td>\n",
       "    </tr>\n",
       "    <tr>\n",
       "      <th>7749626</th>\n",
       "      <td>WEAPONS VIOLATION</td>\n",
       "      <td>09/26/2022 07:20:00 PM</td>\n",
       "      <td>2022</td>\n",
       "      <td>41.880802</td>\n",
       "      <td>-87.773246</td>\n",
       "    </tr>\n",
       "  </tbody>\n",
       "</table>\n",
       "<p>7749627 rows × 5 columns</p>\n",
       "</div>\n",
       "      <button class=\"colab-df-convert\" onclick=\"convertToInteractive('df-a35a7253-6653-4638-b940-b9594e7807ca')\"\n",
       "              title=\"Convert this dataframe to an interactive table.\"\n",
       "              style=\"display:none;\">\n",
       "        \n",
       "  <svg xmlns=\"http://www.w3.org/2000/svg\" height=\"24px\"viewBox=\"0 0 24 24\"\n",
       "       width=\"24px\">\n",
       "    <path d=\"M0 0h24v24H0V0z\" fill=\"none\"/>\n",
       "    <path d=\"M18.56 5.44l.94 2.06.94-2.06 2.06-.94-2.06-.94-.94-2.06-.94 2.06-2.06.94zm-11 1L8.5 8.5l.94-2.06 2.06-.94-2.06-.94L8.5 2.5l-.94 2.06-2.06.94zm10 10l.94 2.06.94-2.06 2.06-.94-2.06-.94-.94-2.06-.94 2.06-2.06.94z\"/><path d=\"M17.41 7.96l-1.37-1.37c-.4-.4-.92-.59-1.43-.59-.52 0-1.04.2-1.43.59L10.3 9.45l-7.72 7.72c-.78.78-.78 2.05 0 2.83L4 21.41c.39.39.9.59 1.41.59.51 0 1.02-.2 1.41-.59l7.78-7.78 2.81-2.81c.8-.78.8-2.07 0-2.86zM5.41 20L4 18.59l7.72-7.72 1.47 1.35L5.41 20z\"/>\n",
       "  </svg>\n",
       "      </button>\n",
       "      \n",
       "  <style>\n",
       "    .colab-df-container {\n",
       "      display:flex;\n",
       "      flex-wrap:wrap;\n",
       "      gap: 12px;\n",
       "    }\n",
       "\n",
       "    .colab-df-convert {\n",
       "      background-color: #E8F0FE;\n",
       "      border: none;\n",
       "      border-radius: 50%;\n",
       "      cursor: pointer;\n",
       "      display: none;\n",
       "      fill: #1967D2;\n",
       "      height: 32px;\n",
       "      padding: 0 0 0 0;\n",
       "      width: 32px;\n",
       "    }\n",
       "\n",
       "    .colab-df-convert:hover {\n",
       "      background-color: #E2EBFA;\n",
       "      box-shadow: 0px 1px 2px rgba(60, 64, 67, 0.3), 0px 1px 3px 1px rgba(60, 64, 67, 0.15);\n",
       "      fill: #174EA6;\n",
       "    }\n",
       "\n",
       "    [theme=dark] .colab-df-convert {\n",
       "      background-color: #3B4455;\n",
       "      fill: #D2E3FC;\n",
       "    }\n",
       "\n",
       "    [theme=dark] .colab-df-convert:hover {\n",
       "      background-color: #434B5C;\n",
       "      box-shadow: 0px 1px 3px 1px rgba(0, 0, 0, 0.15);\n",
       "      filter: drop-shadow(0px 1px 2px rgba(0, 0, 0, 0.3));\n",
       "      fill: #FFFFFF;\n",
       "    }\n",
       "  </style>\n",
       "\n",
       "      <script>\n",
       "        const buttonEl =\n",
       "          document.querySelector('#df-a35a7253-6653-4638-b940-b9594e7807ca button.colab-df-convert');\n",
       "        buttonEl.style.display =\n",
       "          google.colab.kernel.accessAllowed ? 'block' : 'none';\n",
       "\n",
       "        async function convertToInteractive(key) {\n",
       "          const element = document.querySelector('#df-a35a7253-6653-4638-b940-b9594e7807ca');\n",
       "          const dataTable =\n",
       "            await google.colab.kernel.invokeFunction('convertToInteractive',\n",
       "                                                     [key], {});\n",
       "          if (!dataTable) return;\n",
       "\n",
       "          const docLinkHtml = 'Like what you see? Visit the ' +\n",
       "            '<a target=\"_blank\" href=https://colab.research.google.com/notebooks/data_table.ipynb>data table notebook</a>'\n",
       "            + ' to learn more about interactive tables.';\n",
       "          element.innerHTML = '';\n",
       "          dataTable['output_type'] = 'display_data';\n",
       "          await google.colab.output.renderOutput(dataTable, element);\n",
       "          const docLink = document.createElement('div');\n",
       "          docLink.innerHTML = docLinkHtml;\n",
       "          element.appendChild(docLink);\n",
       "        }\n",
       "      </script>\n",
       "    </div>\n",
       "  </div>\n",
       "  "
      ],
      "text/plain": [
       "               Primary Type                    Date  Year   Latitude  \\\n",
       "0                   BATTERY  09/05/2015 01:30:00 PM  2015  41.815117   \n",
       "1                     THEFT  09/04/2015 11:30:00 AM  2015  41.895080   \n",
       "2                     THEFT  09/01/2018 12:01:00 AM  2018        NaN   \n",
       "3                 NARCOTICS  09/05/2015 12:45:00 PM  2015  41.937406   \n",
       "4                   ASSAULT  09/05/2015 01:00:00 PM  2015  41.881903   \n",
       "...                     ...                     ...   ...        ...   \n",
       "7749622       OTHER OFFENSE  09/01/2022 05:00:00 AM  2022  41.934305   \n",
       "7749623  DECEPTIVE PRACTICE  07/08/2022 12:00:00 AM  2022  41.685544   \n",
       "7749624               THEFT  09/27/2022 11:00:00 AM  2022  41.768068   \n",
       "7749625           NARCOTICS  09/03/2022 10:25:00 AM  2022  41.973391   \n",
       "7749626   WEAPONS VIOLATION  09/26/2022 07:20:00 PM  2022  41.880802   \n",
       "\n",
       "         Longitude  \n",
       "0       -87.670000  \n",
       "1       -87.765400  \n",
       "2              NaN  \n",
       "3       -87.716650  \n",
       "4       -87.755121  \n",
       "...            ...  \n",
       "7749622 -87.641485  \n",
       "7749623 -87.616813  \n",
       "7749624 -87.567453  \n",
       "7749625 -87.758535  \n",
       "7749626 -87.773246  \n",
       "\n",
       "[7749627 rows x 5 columns]"
      ]
     },
     "execution_count": 13,
     "metadata": {},
     "output_type": "execute_result"
    }
   ],
   "source": [
    "dfChicago"
   ]
  },
  {
   "cell_type": "code",
   "execution_count": 5,
   "metadata": {
    "executionInfo": {
     "elapsed": 2079,
     "status": "ok",
     "timestamp": 1684262454039,
     "user": {
      "displayName": "Girleide de Araujo Silva",
      "userId": "16954863466274623397"
     },
     "user_tz": 180
    },
    "id": "zjHFrkJxaVoZ"
   },
   "outputs": [],
   "source": [
    "dfChicago = dfChicago.dropna(axis=0)"
   ]
  },
  {
   "cell_type": "code",
   "execution_count": 6,
   "metadata": {
    "colab": {
     "base_uri": "https://localhost:8080/"
    },
    "executionInfo": {
     "elapsed": 8,
     "status": "ok",
     "timestamp": 1684262454040,
     "user": {
      "displayName": "Girleide de Araujo Silva",
      "userId": "16954863466274623397"
     },
     "user_tz": 180
    },
    "id": "3j2KvV4lTBFv",
    "outputId": "db623718-2b31-410d-d19a-518eefab1b1d"
   },
   "outputs": [],
   "source": [
    "dfChicago.rename(columns={'Primary Type':'Category'}, inplace= True)"
   ]
  },
  {
   "cell_type": "code",
   "execution_count": 7,
   "metadata": {
    "executionInfo": {
     "elapsed": 20476,
     "status": "ok",
     "timestamp": 1684262474512,
     "user": {
      "displayName": "Girleide de Araujo Silva",
      "userId": "16954863466274623397"
     },
     "user_tz": 180
    },
    "id": "TLV7ZCZ8VJb8"
   },
   "outputs": [],
   "source": [
    "dfChicago.drop_duplicates(ignore_index = True, inplace = True)"
   ]
  },
  {
   "cell_type": "code",
   "execution_count": 8,
   "metadata": {
    "colab": {
     "base_uri": "https://localhost:8080/"
    },
    "executionInfo": {
     "elapsed": 269,
     "status": "ok",
     "timestamp": 1684262474778,
     "user": {
      "displayName": "Girleide de Araujo Silva",
      "userId": "16954863466274623397"
     },
     "user_tz": 180
    },
    "id": "aKjc1AzfVloC",
    "outputId": "6f29b0a4-9337-4b0d-8a12-ee98daa6dc66"
   },
   "outputs": [
    {
     "data": {
      "text/plain": [
       "(7636541, 5)"
      ]
     },
     "execution_count": 8,
     "metadata": {},
     "output_type": "execute_result"
    }
   ],
   "source": [
    "dfChicago.shape"
   ]
  },
  {
   "cell_type": "code",
   "execution_count": 14,
   "metadata": {
    "colab": {
     "base_uri": "https://localhost:8080/"
    },
    "executionInfo": {
     "elapsed": 4135,
     "status": "ok",
     "timestamp": 1684262478911,
     "user": {
      "displayName": "Girleide de Araujo Silva",
      "userId": "16954863466274623397"
     },
     "user_tz": 180
    },
    "id": "LIIqUxDEmBgN",
    "outputId": "38d71b16-7b4a-48dc-f6d9-3588b600cb13"
   },
   "outputs": [
    {
     "data": {
      "text/plain": [
       "Category     0\n",
       "Date         0\n",
       "Year         0\n",
       "Latitude     0\n",
       "Longitude    0\n",
       "dtype: int64"
      ]
     },
     "execution_count": 14,
     "metadata": {},
     "output_type": "execute_result"
    }
   ],
   "source": [
    "dfChicago.isnull().sum()"
   ]
  },
  {
   "cell_type": "code",
   "execution_count": 9,
   "metadata": {
    "executionInfo": {
     "elapsed": 94807,
     "status": "ok",
     "timestamp": 1684262683769,
     "user": {
      "displayName": "Girleide de Araujo Silva",
      "userId": "16954863466274623397"
     },
     "user_tz": 180
    },
    "id": "HJHqZAY_GOTQ"
   },
   "outputs": [],
   "source": [
    "dfChicago['Dates'] = pd.to_datetime(dfChicago['Date'].loc[0:(dfChicago.shape[0] // 11 + 1)])"
   ]
  },
  {
   "cell_type": "code",
   "execution_count": 10,
   "metadata": {
    "colab": {
     "base_uri": "https://localhost:8080/"
    },
    "executionInfo": {
     "elapsed": 6,
     "status": "ok",
     "timestamp": 1684262683770,
     "user": {
      "displayName": "Girleide de Araujo Silva",
      "userId": "16954863466274623397"
     },
     "user_tz": 180
    },
    "id": "5ODenhYpSbLI",
    "outputId": "62bec06b-aefd-4944-c473-efc50e6115e3"
   },
   "outputs": [
    {
     "data": {
      "text/plain": [
       "694231     04/12/2018 05:40:00 AM\n",
       "694232     04/12/2018 06:00:00 PM\n",
       "694233     04/12/2018 04:00:00 PM\n",
       "694234     04/12/2018 06:00:00 PM\n",
       "694235     04/12/2018 04:00:00 PM\n",
       "                    ...          \n",
       "1388458    10/16/2001 08:28:56 AM\n",
       "1388459    10/15/2001 07:00:00 PM\n",
       "1388460    10/11/2001 06:30:00 AM\n",
       "1388461    10/16/2001 07:44:56 AM\n",
       "1388462    10/16/2001 05:00:00 PM\n",
       "Name: Date, Length: 694232, dtype: object"
      ]
     },
     "execution_count": 10,
     "metadata": {},
     "output_type": "execute_result"
    }
   ],
   "source": [
    "dfChicago['Date'].loc[(dfChicago.shape[0] // 11):(dfChicago.shape[0] // 11) + (dfChicago.shape[0] // 11)]"
   ]
  },
  {
   "cell_type": "code",
   "execution_count": 11,
   "metadata": {
    "executionInfo": {
     "elapsed": 4,
     "status": "ok",
     "timestamp": 1684262683770,
     "user": {
      "displayName": "Girleide de Araujo Silva",
      "userId": "16954863466274623397"
     },
     "user_tz": 180
    },
    "id": "_spVbS1cmby5"
   },
   "outputs": [],
   "source": [
    "lista = list(map(lambda x: str(x),  [*range(2008,2023)])) \n",
    "def find(index):\n",
    "  for i in lista:\n",
    "    if i in dfChicago['Date'].loc[index]:\n",
    "      return True\n",
    "  return False"
   ]
  },
  {
   "cell_type": "code",
   "execution_count": 21,
   "metadata": {
    "colab": {
     "base_uri": "https://localhost:8080/",
     "height": 311
    },
    "executionInfo": {
     "elapsed": 725726,
     "status": "error",
     "timestamp": 1684263409492,
     "user": {
      "displayName": "Girleide de Araujo Silva",
      "userId": "16954863466274623397"
     },
     "user_tz": 180
    },
    "id": "hmjk5WsEbWgo",
    "outputId": "4feab333-81cf-4c39-eb79-3044adfdb919"
   },
   "outputs": [
    {
     "ename": "TypeError",
     "evalue": "argument of type 'Timestamp' is not iterable",
     "output_type": "error",
     "traceback": [
      "\u001b[1;31m---------------------------------------------------------------------------\u001b[0m",
      "\u001b[1;31mTypeError\u001b[0m                                 Traceback (most recent call last)",
      "Cell \u001b[1;32mIn[21], line 1\u001b[0m\n\u001b[1;32m----> 1\u001b[0m indexDf \u001b[38;5;241m=\u001b[39m [index \u001b[38;5;28;01mfor\u001b[39;00m index, row \u001b[38;5;129;01min\u001b[39;00m dfChicago\u001b[38;5;241m.\u001b[39miterrows() \u001b[38;5;28;01mif\u001b[39;00m find(index)]\n",
      "Cell \u001b[1;32mIn[21], line 1\u001b[0m, in \u001b[0;36m<listcomp>\u001b[1;34m(.0)\u001b[0m\n\u001b[1;32m----> 1\u001b[0m indexDf \u001b[38;5;241m=\u001b[39m [index \u001b[38;5;28;01mfor\u001b[39;00m index, row \u001b[38;5;129;01min\u001b[39;00m dfChicago\u001b[38;5;241m.\u001b[39miterrows() \u001b[38;5;28;01mif\u001b[39;00m \u001b[43mfind\u001b[49m\u001b[43m(\u001b[49m\u001b[43mindex\u001b[49m\u001b[43m)\u001b[49m]\n",
      "Cell \u001b[1;32mIn[11], line 4\u001b[0m, in \u001b[0;36mfind\u001b[1;34m(index)\u001b[0m\n\u001b[0;32m      2\u001b[0m \u001b[38;5;28;01mdef\u001b[39;00m \u001b[38;5;21mfind\u001b[39m(index):\n\u001b[0;32m      3\u001b[0m   \u001b[38;5;28;01mfor\u001b[39;00m i \u001b[38;5;129;01min\u001b[39;00m lista:\n\u001b[1;32m----> 4\u001b[0m     \u001b[38;5;28;01mif\u001b[39;00m \u001b[43mi\u001b[49m\u001b[43m \u001b[49m\u001b[38;5;129;43;01min\u001b[39;49;00m\u001b[43m \u001b[49m\u001b[43mdfChicago\u001b[49m\u001b[43m[\u001b[49m\u001b[38;5;124;43m'\u001b[39;49m\u001b[38;5;124;43mDate\u001b[39;49m\u001b[38;5;124;43m'\u001b[39;49m\u001b[43m]\u001b[49m\u001b[38;5;241;43m.\u001b[39;49m\u001b[43mloc\u001b[49m\u001b[43m[\u001b[49m\u001b[43mindex\u001b[49m\u001b[43m]\u001b[49m:\n\u001b[0;32m      5\u001b[0m       \u001b[38;5;28;01mreturn\u001b[39;00m \u001b[38;5;28;01mTrue\u001b[39;00m\n\u001b[0;32m      6\u001b[0m   \u001b[38;5;28;01mreturn\u001b[39;00m \u001b[38;5;28;01mFalse\u001b[39;00m\n",
      "\u001b[1;31mTypeError\u001b[0m: argument of type 'Timestamp' is not iterable"
     ]
    }
   ],
   "source": [
    "indexDf = [index for index, row in dfChicago.iterrows() if find(index)]"
   ]
  },
  {
   "cell_type": "code",
   "execution_count": 13,
   "metadata": {
    "executionInfo": {
     "elapsed": 7,
     "status": "aborted",
     "timestamp": 1684263409493,
     "user": {
      "displayName": "Girleide de Araujo Silva",
      "userId": "16954863466274623397"
     },
     "user_tz": 180
    },
    "id": "QcPT7e0ut0W9"
   },
   "outputs": [],
   "source": [
    "dfChicago = dfChicago.loc[indexDf]"
   ]
  },
  {
   "cell_type": "code",
   "execution_count": 11,
   "metadata": {
    "executionInfo": {
     "elapsed": 7,
     "status": "aborted",
     "timestamp": 1684263409493,
     "user": {
      "displayName": "Girleide de Araujo Silva",
      "userId": "16954863466274623397"
     },
     "user_tz": 180
    },
    "id": "tYh9GVJ5-yT2"
   },
   "outputs": [
    {
     "data": {
      "text/plain": [
       "(4453126, 5)"
      ]
     },
     "execution_count": 11,
     "metadata": {},
     "output_type": "execute_result"
    }
   ],
   "source": [
    "dfChicago.shape"
   ]
  },
  {
   "cell_type": "code",
   "execution_count": 14,
   "metadata": {
    "executionInfo": {
     "elapsed": 8,
     "status": "aborted",
     "timestamp": 1684263409494,
     "user": {
      "displayName": "Girleide de Araujo Silva",
      "userId": "16954863466274623397"
     },
     "user_tz": 180
    },
    "id": "wwImR0Zt_K8y"
   },
   "outputs": [],
   "source": [
    "dfChicago['Date'] = pd.to_datetime(dfChicago['Date'])"
   ]
  },
  {
   "cell_type": "code",
   "execution_count": null,
   "metadata": {
    "executionInfo": {
     "elapsed": 11,
     "status": "aborted",
     "timestamp": 1684262536715,
     "user": {
      "displayName": "Girleide de Araujo Silva",
      "userId": "16954863466274623397"
     },
     "user_tz": 180
    },
    "id": "zaXR7uDoI8ul"
   },
   "outputs": [],
   "source": [
    "dfChicago.to_csv('dfChicago.csv')"
   ]
  },
  {
   "cell_type": "code",
   "execution_count": 15,
   "metadata": {
    "executionInfo": {
     "elapsed": 8,
     "status": "aborted",
     "timestamp": 1684263409494,
     "user": {
      "displayName": "Girleide de Araujo Silva",
      "userId": "16954863466274623397"
     },
     "user_tz": 180
    },
    "id": "z64blZk5kbKy"
   },
   "outputs": [],
   "source": [
    "# separando as datas\n",
    "\n",
    "dfChicago['Year'] = dfChicago['Date'].dt.year\n",
    "dfChicago['Month'] = dfChicago['Date'].dt.month\n",
    "dfChicago['Day'] = dfChicago['Date'].dt.day\n",
    "dfChicago['Time'] = dfChicago['Date'].dt.hour"
   ]
  },
  {
   "cell_type": "code",
   "execution_count": 16,
   "metadata": {
    "executionInfo": {
     "elapsed": 8,
     "status": "aborted",
     "timestamp": 1684263409495,
     "user": {
      "displayName": "Girleide de Araujo Silva",
      "userId": "16954863466274623397"
     },
     "user_tz": 180
    },
    "id": "ycBAxcvpThp6"
   },
   "outputs": [],
   "source": [
    "# criando coluna com os nomes da semana\n",
    "import datetime \n",
    "import calendar\n",
    "week=[]"
   ]
  },
  {
   "cell_type": "code",
   "execution_count": 17,
   "metadata": {
    "executionInfo": {
     "elapsed": 8,
     "status": "aborted",
     "timestamp": 1684263409495,
     "user": {
      "displayName": "Girleide de Araujo Silva",
      "userId": "16954863466274623397"
     },
     "user_tz": 180
    },
    "id": "9_66oF9nCU3N"
   },
   "outputs": [],
   "source": [
    "dfChicago = dfChicago.reset_index().drop(['index'], axis=1)"
   ]
  },
  {
   "cell_type": "code",
   "execution_count": 18,
   "metadata": {
    "executionInfo": {
     "elapsed": 8,
     "status": "aborted",
     "timestamp": 1684263409495,
     "user": {
      "displayName": "Girleide de Araujo Silva",
      "userId": "16954863466274623397"
     },
     "user_tz": 180
    },
    "id": "bgkgawYjT3JS"
   },
   "outputs": [],
   "source": [
    "for i in range(len(dfChicago)):\n",
    "    my_date = datetime.date(dfChicago['Year'][i], dfChicago['Month'][i], dfChicago['Day'][i])\n",
    "    week.append(calendar.day_name[my_date.weekday()])"
   ]
  },
  {
   "cell_type": "code",
   "execution_count": 19,
   "metadata": {
    "executionInfo": {
     "elapsed": 9,
     "status": "aborted",
     "timestamp": 1684263409496,
     "user": {
      "displayName": "Girleide de Araujo Silva",
      "userId": "16954863466274623397"
     },
     "user_tz": 180
    },
    "id": "w8uTkdWKUKGc"
   },
   "outputs": [],
   "source": [
    "dfChicago['DayOfWeek'] = week "
   ]
  },
  {
   "cell_type": "code",
   "execution_count": 18,
   "metadata": {
    "executionInfo": {
     "elapsed": 11,
     "status": "aborted",
     "timestamp": 1684262536716,
     "user": {
      "displayName": "Girleide de Araujo Silva",
      "userId": "16954863466274623397"
     },
     "user_tz": 180
    },
    "id": "xdrctFSAQhfR"
   },
   "outputs": [
    {
     "data": {
      "text/plain": [
       "2008    427160\n",
       "2009    392816\n",
       "2010    370492\n",
       "2011    351959\n",
       "2012    336260\n",
       "2013    307462\n",
       "2014    275727\n",
       "2015    264737\n",
       "2016    269777\n",
       "2017    269049\n",
       "2018    268752\n",
       "2019    261214\n",
       "2020    212045\n",
       "2021    208444\n",
       "2022    237232\n",
       "Name: Year, dtype: int64"
      ]
     },
     "execution_count": 18,
     "metadata": {},
     "output_type": "execute_result"
    }
   ],
   "source": [
    "dfChicago['Year'].value_counts().sort_index()"
   ]
  },
  {
   "cell_type": "code",
   "execution_count": null,
   "metadata": {
    "executionInfo": {
     "elapsed": 11,
     "status": "aborted",
     "timestamp": 1684262536716,
     "user": {
      "displayName": "Girleide de Araujo Silva",
      "userId": "16954863466274623397"
     },
     "user_tz": 180
    },
    "id": "7NEe-3EzRgBx"
   },
   "outputs": [],
   "source": [
    "#df = pd.read_csv('/content/drive/MyDrive/chicago-crimes-2008')\n",
    "#dfChicago = pd.concat([dfChicago, df])"
   ]
  },
  {
   "cell_type": "code",
   "execution_count": null,
   "metadata": {
    "executionInfo": {
     "elapsed": 11,
     "status": "aborted",
     "timestamp": 1684262536717,
     "user": {
      "displayName": "Girleide de Araujo Silva",
      "userId": "16954863466274623397"
     },
     "user_tz": 180
    },
    "id": "faYywy4Qs5OD"
   },
   "outputs": [],
   "source": [
    "dfChicago.info()"
   ]
  },
  {
   "cell_type": "code",
   "execution_count": 28,
   "metadata": {
    "executionInfo": {
     "elapsed": 11,
     "status": "aborted",
     "timestamp": 1684262536717,
     "user": {
      "displayName": "Girleide de Araujo Silva",
      "userId": "16954863466274623397"
     },
     "user_tz": 180
    },
    "id": "yJiwhZOkT5ip"
   },
   "outputs": [
    {
     "name": "stdout",
     "output_type": "stream",
     "text": [
      "Requirement already satisfied: geopandas in c:\\users\\geniar\\anaconda3\\lib\\site-packages (0.12.2)\n",
      "Requirement already satisfied: fiona>=1.8 in c:\\users\\geniar\\anaconda3\\lib\\site-packages (from geopandas) (1.9.3)\n",
      "Requirement already satisfied: shapely>=1.7 in c:\\users\\geniar\\anaconda3\\lib\\site-packages (from geopandas) (2.0.1)\n",
      "Requirement already satisfied: pyproj>=2.6.1.post1 in c:\\users\\geniar\\anaconda3\\lib\\site-packages (from geopandas) (3.5.0)\n",
      "Requirement already satisfied: pandas>=1.0.0 in c:\\users\\geniar\\anaconda3\\lib\\site-packages (from geopandas) (1.5.3)\n",
      "Requirement already satisfied: packaging in c:\\users\\geniar\\anaconda3\\lib\\site-packages (from geopandas) (22.0)\n",
      "Requirement already satisfied: munch>=2.3.2 in c:\\users\\geniar\\anaconda3\\lib\\site-packages (from fiona>=1.8->geopandas) (2.5.0)\n",
      "Requirement already satisfied: click~=8.0 in c:\\users\\geniar\\anaconda3\\lib\\site-packages (from fiona>=1.8->geopandas) (8.0.4)\n",
      "Requirement already satisfied: attrs>=19.2.0 in c:\\users\\geniar\\anaconda3\\lib\\site-packages (from fiona>=1.8->geopandas) (22.1.0)\n",
      "Requirement already satisfied: click-plugins>=1.0 in c:\\users\\geniar\\anaconda3\\lib\\site-packages (from fiona>=1.8->geopandas) (1.1.1)\n",
      "Requirement already satisfied: cligj>=0.5 in c:\\users\\geniar\\anaconda3\\lib\\site-packages (from fiona>=1.8->geopandas) (0.7.2)\n",
      "Requirement already satisfied: certifi in c:\\users\\geniar\\anaconda3\\lib\\site-packages (from fiona>=1.8->geopandas) (2022.12.7)\n",
      "Requirement already satisfied: pytz>=2020.1 in c:\\users\\geniar\\anaconda3\\lib\\site-packages (from pandas>=1.0.0->geopandas) (2022.7)\n",
      "Requirement already satisfied: numpy>=1.21.0 in c:\\users\\geniar\\anaconda3\\lib\\site-packages (from pandas>=1.0.0->geopandas) (1.23.5)\n",
      "Requirement already satisfied: python-dateutil>=2.8.1 in c:\\users\\geniar\\anaconda3\\lib\\site-packages (from pandas>=1.0.0->geopandas) (2.8.2)\n",
      "Requirement already satisfied: colorama in c:\\users\\geniar\\anaconda3\\lib\\site-packages (from click~=8.0->fiona>=1.8->geopandas) (0.4.6)\n",
      "Requirement already satisfied: six in c:\\users\\geniar\\anaconda3\\lib\\site-packages (from munch>=2.3.2->fiona>=1.8->geopandas) (1.16.0)\n",
      "Note: you may need to restart the kernel to use updated packages.\n"
     ]
    }
   ],
   "source": [
    "pip install geopandas"
   ]
  },
  {
   "cell_type": "code",
   "execution_count": 29,
   "metadata": {
    "executionInfo": {
     "elapsed": 11,
     "status": "aborted",
     "timestamp": 1684262536717,
     "user": {
      "displayName": "Girleide de Araujo Silva",
      "userId": "16954863466274623397"
     },
     "user_tz": 180
    },
    "id": "1ccDmqptT8E4"
   },
   "outputs": [],
   "source": [
    "import geopandas as gpd"
   ]
  },
  {
   "cell_type": "code",
   "execution_count": 21,
   "metadata": {
    "executionInfo": {
     "elapsed": 11,
     "status": "aborted",
     "timestamp": 1684262536717,
     "user": {
      "displayName": "Girleide de Araujo Silva",
      "userId": "16954863466274623397"
     },
     "user_tz": 180
    },
    "id": "RzuM2sOb16xC"
   },
   "outputs": [
    {
     "name": "stderr",
     "output_type": "stream",
     "text": [
      "'unzip' não é reconhecido como um comando interno\n",
      "ou externo, um programa operável ou um arquivo em lotes.\n"
     ]
    }
   ],
   "source": [
    "!unzip '/content/drive/MyDrive/Pessoal/girleide/Boundaries - Community Areas (current).zip'"
   ]
  },
  {
   "cell_type": "code",
   "execution_count": 31,
   "metadata": {
    "executionInfo": {
     "elapsed": 11,
     "status": "aborted",
     "timestamp": 1684262536717,
     "user": {
      "displayName": "Girleide de Araujo Silva",
      "userId": "16954863466274623397"
     },
     "user_tz": 180
    },
    "id": "Dm44PIq-UEI7"
   },
   "outputs": [
    {
     "data": {
      "text/plain": [
       "<Axes: >"
      ]
     },
     "execution_count": 31,
     "metadata": {},
     "output_type": "execute_result"
    },
    {
     "data": {
      "image/png": "[encoded data removed]",
      "text/plain": [
       "<Figure size 640x480 with 1 Axes>"
      ]
     },
     "metadata": {},
     "output_type": "display_data"
    }
   ],
   "source": [
    "mapa = gpd.read_file('./Chicago_Boundaries - City.zip (Unzipped Files)/geo_export_1a9e2d9e-031b-4fb2-8597-27a2291a2cf6.shp')\n",
    "#mapa = gpd.read_file('/content/drive/MyDrive/Chicago_Boundaries - City.zip (Unzipped Files)/geo_export_1a9e2d9e-031b-4fb2-8597-27a2291a2cf6.shp')\n",
    "mapa.plot()"
   ]
  },
  {
   "cell_type": "code",
   "execution_count": 24,
   "metadata": {
    "executionInfo": {
     "elapsed": 12,
     "status": "aborted",
     "timestamp": 1684262536718,
     "user": {
      "displayName": "Girleide de Araujo Silva",
      "userId": "16954863466274623397"
     },
     "user_tz": 180
    },
    "id": "_PLgpI_UShsQ"
   },
   "outputs": [],
   "source": [
    "coord = gpd.GeoDataFrame(dfChicago, geometry=gpd.points_from_xy(dfChicago.Latitude, dfChicago.Longitude))\n",
    "coord.crs = 'EPSG:3435'"
   ]
  },
  {
   "cell_type": "code",
   "execution_count": null,
   "metadata": {
    "executionInfo": {
     "elapsed": 12,
     "status": "aborted",
     "timestamp": 1684262536718,
     "user": {
      "displayName": "Girleide de Araujo Silva",
      "userId": "16954863466274623397"
     },
     "user_tz": 180
    },
    "id": "7xflkiOMUkqh"
   },
   "outputs": [],
   "source": [
    "import matplotlib.pyplot as plt"
   ]
  },
  {
   "cell_type": "code",
   "execution_count": null,
   "metadata": {
    "executionInfo": {
     "elapsed": 11,
     "status": "aborted",
     "timestamp": 1684262536718,
     "user": {
      "displayName": "Girleide de Araujo Silva",
      "userId": "16954863466274623397"
     },
     "user_tz": 180
    },
    "id": "hmpPZapBT4vx"
   },
   "outputs": [],
   "source": [
    "plt.scatter(dfChicago.Longitude, dfChicago.Latitude,\n",
    "            c = 'darkgreen', marker = 'p')\n",
    "\n",
    "plt.xlabel('Longitude')\n",
    "plt.ylabel('Latitude')\n",
    "plt.title('Chicago Crimes')\n",
    "plt.grid()\n",
    "plt.show()"
   ]
  },
  {
   "cell_type": "code",
   "execution_count": 26,
   "metadata": {
    "executionInfo": {
     "elapsed": 11,
     "status": "aborted",
     "timestamp": 1684262536718,
     "user": {
      "displayName": "Girleide de Araujo Silva",
      "userId": "16954863466274623397"
     },
     "user_tz": 180
    },
    "id": "7PMBeHvGVOiG"
   },
   "outputs": [],
   "source": [
    "from shapely import Point"
   ]
  },
  {
   "cell_type": "code",
   "execution_count": null,
   "metadata": {
    "executionInfo": {
     "elapsed": 11,
     "status": "aborted",
     "timestamp": 1684262536718,
     "user": {
      "displayName": "Girleide de Araujo Silva",
      "userId": "16954863466274623397"
     },
     "user_tz": 180
    },
    "id": "BKR8_oHOZA1C"
   },
   "outputs": [],
   "source": [
    "#df2008 = pd.read_csv('/content/drive/MyDrive/chicago-crimes-2008')\n",
    "#df2008.rename(columns={'Hour':'Time'}, inplace=True)\n",
    "# csv de 2008"
   ]
  },
  {
   "cell_type": "code",
   "execution_count": null,
   "metadata": {
    "executionInfo": {
     "elapsed": 12,
     "status": "aborted",
     "timestamp": 1684262536719,
     "user": {
      "displayName": "Girleide de Araujo Silva",
      "userId": "16954863466274623397"
     },
     "user_tz": 180
    },
    "id": "0jwFyYjLXS-S"
   },
   "outputs": [],
   "source": [
    "#newDf = pd.read_csv('/content/drive/MyDrive/dfChicago.csv')\n",
    "# csv 2009-2022\n",
    "#newDf"
   ]
  },
  {
   "cell_type": "code",
   "execution_count": null,
   "metadata": {
    "executionInfo": {
     "elapsed": 12,
     "status": "aborted",
     "timestamp": 1684262536719,
     "user": {
      "displayName": "Girleide de Araujo Silva",
      "userId": "16954863466274623397"
     },
     "user_tz": 180
    },
    "id": "MKrHa9jzXf9N"
   },
   "outputs": [],
   "source": [
    "dfChicago"
   ]
  },
  {
   "cell_type": "code",
   "execution_count": null,
   "metadata": {
    "executionInfo": {
     "elapsed": 12,
     "status": "aborted",
     "timestamp": 1684262536719,
     "user": {
      "displayName": "Girleide de Araujo Silva",
      "userId": "16954863466274623397"
     },
     "user_tz": 180
    },
    "id": "qLhJr2HIaSxR"
   },
   "outputs": [],
   "source": [
    "# criando coluna com os nomes da semana\n",
    "# df de 2009-2022 não possui\n",
    "#import datetime \n",
    "#import calendar\n",
    "#week=[]"
   ]
  },
  {
   "cell_type": "code",
   "execution_count": null,
   "metadata": {
    "executionInfo": {
     "elapsed": 12,
     "status": "aborted",
     "timestamp": 1684262536719,
     "user": {
      "displayName": "Girleide de Araujo Silva",
      "userId": "16954863466274623397"
     },
     "user_tz": 180
    },
    "id": "Xa95urRsaU8i"
   },
   "outputs": [],
   "source": [
    "#for i in range(len(newDf)):\n",
    "#  week.append(calendar.day_name[datetime.date(newDf['Year'][i], newDf['Month'][i], newDf['Day'][i]).weekday()])"
   ]
  },
  {
   "cell_type": "code",
   "execution_count": null,
   "metadata": {
    "executionInfo": {
     "elapsed": 119229,
     "status": "aborted",
     "timestamp": 1684262536720,
     "user": {
      "displayName": "Girleide de Araujo Silva",
      "userId": "16954863466274623397"
     },
     "user_tz": 180
    },
    "id": "_pMMnHAdanli"
   },
   "outputs": [],
   "source": [
    "#newDf['DayOfWeek'] = week"
   ]
  },
  {
   "cell_type": "code",
   "execution_count": null,
   "metadata": {
    "executionInfo": {
     "elapsed": 118605,
     "status": "aborted",
     "timestamp": 1684262536720,
     "user": {
      "displayName": "Girleide de Araujo Silva",
      "userId": "16954863466274623397"
     },
     "user_tz": 180
    },
    "id": "MSGFdst0ZnRT"
   },
   "outputs": [],
   "source": [
    "#dfChicago = pd.concat([newDf, df2008])"
   ]
  },
  {
   "cell_type": "code",
   "execution_count": 26,
   "metadata": {
    "executionInfo": {
     "elapsed": 118087,
     "status": "aborted",
     "timestamp": 1684262536720,
     "user": {
      "displayName": "Girleide de Araujo Silva",
      "userId": "16954863466274623397"
     },
     "user_tz": 180
    },
    "id": "HIAVgd3iaEJV"
   },
   "outputs": [
    {
     "data": {
      "text/plain": [
       "Primary Type        0\n",
       "Date                0\n",
       "Year                0\n",
       "Latitude        52816\n",
       "Longitude       52816\n",
       "Month               0\n",
       "Day                 0\n",
       "Time                0\n",
       "DayOfWeek           0\n",
       "geometry            0\n",
       "dtype: int64"
      ]
     },
     "execution_count": 26,
     "metadata": {},
     "output_type": "execute_result"
    }
   ],
   "source": [
    "dfChicago.isnull().sum()"
   ]
  },
  {
   "cell_type": "code",
   "execution_count": 23,
   "metadata": {
    "executionInfo": {
     "elapsed": 117477,
     "status": "aborted",
     "timestamp": 1684262536720,
     "user": {
      "displayName": "Girleide de Araujo Silva",
      "userId": "16954863466274623397"
     },
     "user_tz": 180
    },
    "id": "ZkCfg4eokt9i"
   },
   "outputs": [
    {
     "name": "stdout",
     "output_type": "stream",
     "text": [
      "<class 'pandas.core.frame.DataFrame'>\n",
      "RangeIndex: 4388364 entries, 0 to 4388363\n",
      "Data columns (total 10 columns):\n",
      " #   Column     Dtype         \n",
      "---  ------     -----         \n",
      " 0   Category   object        \n",
      " 1   Date       datetime64[ns]\n",
      " 2   Year       int64         \n",
      " 3   Latitude   float64       \n",
      " 4   Longitude  float64       \n",
      " 5   Dates      datetime64[ns]\n",
      " 6   Month      int64         \n",
      " 7   Day        int64         \n",
      " 8   Time       int64         \n",
      " 9   DayOfWeek  object        \n",
      "dtypes: datetime64[ns](2), float64(2), int64(4), object(2)\n",
      "memory usage: 334.8+ MB\n"
     ]
    }
   ],
   "source": [
    "dfChicago.info()"
   ]
  },
  {
   "cell_type": "code",
   "execution_count": null,
   "metadata": {
    "executionInfo": {
     "elapsed": 116814,
     "status": "aborted",
     "timestamp": 1684262536720,
     "user": {
      "displayName": "Girleide de Araujo Silva",
      "userId": "16954863466274623397"
     },
     "user_tz": 180
    },
    "id": "CJs6hz2nWwPo"
   },
   "outputs": [],
   "source": [
    "#dfChicago.to_csv('chicago-crimes-2008-2022') # salvando caso queima de memória"
   ]
  },
  {
   "cell_type": "code",
   "execution_count": null,
   "metadata": {
    "executionInfo": {
     "elapsed": 115584,
     "status": "aborted",
     "timestamp": 1684262536721,
     "user": {
      "displayName": "Girleide de Araujo Silva",
      "userId": "16954863466274623397"
     },
     "user_tz": 180
    },
    "id": "RSuJAbcegLeJ"
   },
   "outputs": [],
   "source": [
    "#df2008_2022 = pd.read_csv('/content/drive/MyDrive/chicago-crimes-2008-2022')"
   ]
  },
  {
   "cell_type": "code",
   "execution_count": null,
   "metadata": {
    "executionInfo": {
     "elapsed": 114685,
     "status": "aborted",
     "timestamp": 1684262536721,
     "user": {
      "displayName": "Girleide de Araujo Silva",
      "userId": "16954863466274623397"
     },
     "user_tz": 180
    },
    "id": "PVf4jThigXue"
   },
   "outputs": [],
   "source": [
    "#dfChicago = df2008_2022"
   ]
  },
  {
   "cell_type": "code",
   "execution_count": null,
   "metadata": {
    "executionInfo": {
     "elapsed": 113615,
     "status": "aborted",
     "timestamp": 1684262536721,
     "user": {
      "displayName": "Girleide de Araujo Silva",
      "userId": "16954863466274623397"
     },
     "user_tz": 180
    },
    "id": "gF2RB_2BZyNh"
   },
   "outputs": [],
   "source": [
    "dfChicago"
   ]
  },
  {
   "cell_type": "code",
   "execution_count": 32,
   "metadata": {
    "executionInfo": {
     "elapsed": 113056,
     "status": "aborted",
     "timestamp": 1684262536721,
     "user": {
      "displayName": "Girleide de Araujo Silva",
      "userId": "16954863466274623397"
     },
     "user_tz": 180
    },
    "id": "oED75q0xU_Cz"
   },
   "outputs": [
    {
     "name": "stderr",
     "output_type": "stream",
     "text": [
      "C:\\Users\\Geniar\\anaconda3\\lib\\site-packages\\pyproj\\crs\\crs.py:141: FutureWarning: '+init=<authority>:<code>' syntax is deprecated. '<authority>:<code>' is the preferred initialization method. When making the change, be mindful of axis order changes: https://pyproj4.github.io/pyproj/stable/gotchas.html#axis-order-changes-in-proj-6\n",
      "  in_crs_string = _prepare_from_proj_string(in_crs_string)\n",
      "C:\\Users\\Geniar\\anaconda3\\lib\\site-packages\\IPython\\core\\interactiveshell.py:3400: FutureWarning: The `op` parameter is deprecated and will be removed in a future release. Please use the `predicate` parameter instead.\n",
      "  if await self.run_code(code, result, async_=asy):\n",
      "C:\\Users\\Geniar\\AppData\\Local\\Temp\\ipykernel_14464\\2227298300.py:5: UserWarning: CRS mismatch between the CRS of left geometries and the CRS of right geometries.\n",
      "Use `to_crs()` to reproject one of the input geometries to match the CRS of the other.\n",
      "\n",
      "Left CRS: GEOGCS[\"WGS84(DD)\",DATUM[\"WGS84\",SPHEROID[\"WGS84\", ...\n",
      "Right CRS: EPSG:3435\n",
      "\n",
      "  crimes_inside_chicago = gpd.sjoin(mapa, geo_crimes, op = 'intersects')\n"
     ]
    }
   ],
   "source": [
    "dfChicago['geometry'] = dfChicago.apply(lambda x: Point((x.Longitude, x.Latitude)), axis = 1)\n",
    "crimes_crs = {'init': 'epsg:3435'}\n",
    "geo_crimes = gpd.GeoDataFrame(dfChicago,crs = crimes_crs,geometry = dfChicago.geometry)\n",
    "#geo_crimes.head(3)\n",
    "crimes_inside_chicago = gpd.sjoin(mapa, geo_crimes, op = 'intersects')"
   ]
  },
  {
   "cell_type": "code",
   "execution_count": 38,
   "metadata": {
    "executionInfo": {
     "elapsed": 112323,
     "status": "aborted",
     "timestamp": 1684262536721,
     "user": {
      "displayName": "Girleide de Araujo Silva",
      "userId": "16954863466274623397"
     },
     "user_tz": 180
    },
    "id": "AVJlccZbF_G2"
   },
   "outputs": [
    {
     "data": {
      "text/html": [
       "<div>\n",
       "<style scoped>\n",
       "    .dataframe tbody tr th:only-of-type {\n",
       "        vertical-align: middle;\n",
       "    }\n",
       "\n",
       "    .dataframe tbody tr th {\n",
       "        vertical-align: top;\n",
       "    }\n",
       "\n",
       "    .dataframe thead th {\n",
       "        text-align: right;\n",
       "    }\n",
       "</style>\n",
       "<table border=\"1\" class=\"dataframe\">\n",
       "  <thead>\n",
       "    <tr style=\"text-align: right;\">\n",
       "      <th></th>\n",
       "      <th>name</th>\n",
       "      <th>objectid</th>\n",
       "      <th>shape_area</th>\n",
       "      <th>shape_len</th>\n",
       "      <th>geometry</th>\n",
       "      <th>index_right</th>\n",
       "      <th>Primary Type</th>\n",
       "      <th>Date</th>\n",
       "      <th>Year</th>\n",
       "      <th>Latitude</th>\n",
       "      <th>Longitude</th>\n",
       "      <th>Month</th>\n",
       "      <th>Day</th>\n",
       "      <th>Time</th>\n",
       "      <th>DayOfWeek</th>\n",
       "    </tr>\n",
       "  </thead>\n",
       "  <tbody>\n",
       "    <tr>\n",
       "      <th>0</th>\n",
       "      <td>CHICAGO</td>\n",
       "      <td>1.0</td>\n",
       "      <td>6.450277e+09</td>\n",
       "      <td>845282.931362</td>\n",
       "      <td>MULTIPOLYGON (((-87.93514 42.00089, -87.93521 ...</td>\n",
       "      <td>2363518</td>\n",
       "      <td>ROBBERY</td>\n",
       "      <td>2011-04-11 09:15:00</td>\n",
       "      <td>2011</td>\n",
       "      <td>41.951856</td>\n",
       "      <td>-87.908269</td>\n",
       "      <td>4</td>\n",
       "      <td>11</td>\n",
       "      <td>9</td>\n",
       "      <td>Monday</td>\n",
       "    </tr>\n",
       "    <tr>\n",
       "      <th>0</th>\n",
       "      <td>CHICAGO</td>\n",
       "      <td>1.0</td>\n",
       "      <td>6.450277e+09</td>\n",
       "      <td>845282.931362</td>\n",
       "      <td>MULTIPOLYGON (((-87.93514 42.00089, -87.93521 ...</td>\n",
       "      <td>4108149</td>\n",
       "      <td>CRIMINAL DAMAGE</td>\n",
       "      <td>2021-10-10 01:38:00</td>\n",
       "      <td>2021</td>\n",
       "      <td>41.951856</td>\n",
       "      <td>-87.908269</td>\n",
       "      <td>10</td>\n",
       "      <td>10</td>\n",
       "      <td>1</td>\n",
       "      <td>Sunday</td>\n",
       "    </tr>\n",
       "    <tr>\n",
       "      <th>0</th>\n",
       "      <td>CHICAGO</td>\n",
       "      <td>1.0</td>\n",
       "      <td>6.450277e+09</td>\n",
       "      <td>845282.931362</td>\n",
       "      <td>MULTIPOLYGON (((-87.93514 42.00089, -87.93521 ...</td>\n",
       "      <td>3350209</td>\n",
       "      <td>THEFT</td>\n",
       "      <td>2014-04-07 16:00:00</td>\n",
       "      <td>2014</td>\n",
       "      <td>41.952488</td>\n",
       "      <td>-87.910607</td>\n",
       "      <td>4</td>\n",
       "      <td>7</td>\n",
       "      <td>16</td>\n",
       "      <td>Monday</td>\n",
       "    </tr>\n",
       "    <tr>\n",
       "      <th>0</th>\n",
       "      <td>CHICAGO</td>\n",
       "      <td>1.0</td>\n",
       "      <td>6.450277e+09</td>\n",
       "      <td>845282.931362</td>\n",
       "      <td>MULTIPOLYGON (((-87.93514 42.00089, -87.93521 ...</td>\n",
       "      <td>1440423</td>\n",
       "      <td>DECEPTIVE PRACTICE</td>\n",
       "      <td>2008-08-21 09:00:00</td>\n",
       "      <td>2008</td>\n",
       "      <td>41.952488</td>\n",
       "      <td>-87.910607</td>\n",
       "      <td>8</td>\n",
       "      <td>21</td>\n",
       "      <td>9</td>\n",
       "      <td>Thursday</td>\n",
       "    </tr>\n",
       "    <tr>\n",
       "      <th>0</th>\n",
       "      <td>CHICAGO</td>\n",
       "      <td>1.0</td>\n",
       "      <td>6.450277e+09</td>\n",
       "      <td>845282.931362</td>\n",
       "      <td>MULTIPOLYGON (((-87.93514 42.00089, -87.93521 ...</td>\n",
       "      <td>2041514</td>\n",
       "      <td>ASSAULT</td>\n",
       "      <td>2010-04-22 15:05:00</td>\n",
       "      <td>2010</td>\n",
       "      <td>41.952488</td>\n",
       "      <td>-87.910607</td>\n",
       "      <td>4</td>\n",
       "      <td>22</td>\n",
       "      <td>15</td>\n",
       "      <td>Thursday</td>\n",
       "    </tr>\n",
       "    <tr>\n",
       "      <th>...</th>\n",
       "      <td>...</td>\n",
       "      <td>...</td>\n",
       "      <td>...</td>\n",
       "      <td>...</td>\n",
       "      <td>...</td>\n",
       "      <td>...</td>\n",
       "      <td>...</td>\n",
       "      <td>...</td>\n",
       "      <td>...</td>\n",
       "      <td>...</td>\n",
       "      <td>...</td>\n",
       "      <td>...</td>\n",
       "      <td>...</td>\n",
       "      <td>...</td>\n",
       "      <td>...</td>\n",
       "    </tr>\n",
       "    <tr>\n",
       "      <th>0</th>\n",
       "      <td>CHICAGO</td>\n",
       "      <td>1.0</td>\n",
       "      <td>6.450277e+09</td>\n",
       "      <td>845282.931362</td>\n",
       "      <td>MULTIPOLYGON (((-87.93514 42.00089, -87.93521 ...</td>\n",
       "      <td>3785644</td>\n",
       "      <td>BATTERY</td>\n",
       "      <td>2020-01-23 17:05:00</td>\n",
       "      <td>2020</td>\n",
       "      <td>42.022537</td>\n",
       "      <td>-87.673747</td>\n",
       "      <td>1</td>\n",
       "      <td>23</td>\n",
       "      <td>17</td>\n",
       "      <td>Thursday</td>\n",
       "    </tr>\n",
       "    <tr>\n",
       "      <th>0</th>\n",
       "      <td>CHICAGO</td>\n",
       "      <td>1.0</td>\n",
       "      <td>6.450277e+09</td>\n",
       "      <td>845282.931362</td>\n",
       "      <td>MULTIPOLYGON (((-87.93514 42.00089, -87.93521 ...</td>\n",
       "      <td>3915798</td>\n",
       "      <td>CRIMINAL SEXUAL ASSAULT</td>\n",
       "      <td>2020-04-12 03:00:00</td>\n",
       "      <td>2020</td>\n",
       "      <td>42.022537</td>\n",
       "      <td>-87.673747</td>\n",
       "      <td>4</td>\n",
       "      <td>12</td>\n",
       "      <td>3</td>\n",
       "      <td>Sunday</td>\n",
       "    </tr>\n",
       "    <tr>\n",
       "      <th>0</th>\n",
       "      <td>CHICAGO</td>\n",
       "      <td>1.0</td>\n",
       "      <td>6.450277e+09</td>\n",
       "      <td>845282.931362</td>\n",
       "      <td>MULTIPOLYGON (((-87.93514 42.00089, -87.93521 ...</td>\n",
       "      <td>924855</td>\n",
       "      <td>CRIMINAL DAMAGE</td>\n",
       "      <td>2018-11-15 23:02:00</td>\n",
       "      <td>2018</td>\n",
       "      <td>42.022537</td>\n",
       "      <td>-87.673747</td>\n",
       "      <td>11</td>\n",
       "      <td>15</td>\n",
       "      <td>23</td>\n",
       "      <td>Thursday</td>\n",
       "    </tr>\n",
       "    <tr>\n",
       "      <th>0</th>\n",
       "      <td>CHICAGO</td>\n",
       "      <td>1.0</td>\n",
       "      <td>6.450277e+09</td>\n",
       "      <td>845282.931362</td>\n",
       "      <td>MULTIPOLYGON (((-87.93514 42.00089, -87.93521 ...</td>\n",
       "      <td>1216513</td>\n",
       "      <td>BATTERY</td>\n",
       "      <td>2008-06-04 23:01:11</td>\n",
       "      <td>2008</td>\n",
       "      <td>42.022537</td>\n",
       "      <td>-87.673747</td>\n",
       "      <td>6</td>\n",
       "      <td>4</td>\n",
       "      <td>23</td>\n",
       "      <td>Wednesday</td>\n",
       "    </tr>\n",
       "    <tr>\n",
       "      <th>0</th>\n",
       "      <td>CHICAGO</td>\n",
       "      <td>1.0</td>\n",
       "      <td>6.450277e+09</td>\n",
       "      <td>845282.931362</td>\n",
       "      <td>MULTIPOLYGON (((-87.93514 42.00089, -87.93521 ...</td>\n",
       "      <td>2409560</td>\n",
       "      <td>NARCOTICS</td>\n",
       "      <td>2011-05-30 14:16:00</td>\n",
       "      <td>2011</td>\n",
       "      <td>42.022537</td>\n",
       "      <td>-87.673747</td>\n",
       "      <td>5</td>\n",
       "      <td>30</td>\n",
       "      <td>14</td>\n",
       "      <td>Monday</td>\n",
       "    </tr>\n",
       "  </tbody>\n",
       "</table>\n",
       "<p>4387927 rows × 15 columns</p>\n",
       "</div>"
      ],
      "text/plain": [
       "       name  objectid    shape_area      shape_len  \\\n",
       "0   CHICAGO       1.0  6.450277e+09  845282.931362   \n",
       "0   CHICAGO       1.0  6.450277e+09  845282.931362   \n",
       "0   CHICAGO       1.0  6.450277e+09  845282.931362   \n",
       "0   CHICAGO       1.0  6.450277e+09  845282.931362   \n",
       "0   CHICAGO       1.0  6.450277e+09  845282.931362   \n",
       "..      ...       ...           ...            ...   \n",
       "0   CHICAGO       1.0  6.450277e+09  845282.931362   \n",
       "0   CHICAGO       1.0  6.450277e+09  845282.931362   \n",
       "0   CHICAGO       1.0  6.450277e+09  845282.931362   \n",
       "0   CHICAGO       1.0  6.450277e+09  845282.931362   \n",
       "0   CHICAGO       1.0  6.450277e+09  845282.931362   \n",
       "\n",
       "                                             geometry  index_right  \\\n",
       "0   MULTIPOLYGON (((-87.93514 42.00089, -87.93521 ...      2363518   \n",
       "0   MULTIPOLYGON (((-87.93514 42.00089, -87.93521 ...      4108149   \n",
       "0   MULTIPOLYGON (((-87.93514 42.00089, -87.93521 ...      3350209   \n",
       "0   MULTIPOLYGON (((-87.93514 42.00089, -87.93521 ...      1440423   \n",
       "0   MULTIPOLYGON (((-87.93514 42.00089, -87.93521 ...      2041514   \n",
       "..                                                ...          ...   \n",
       "0   MULTIPOLYGON (((-87.93514 42.00089, -87.93521 ...      3785644   \n",
       "0   MULTIPOLYGON (((-87.93514 42.00089, -87.93521 ...      3915798   \n",
       "0   MULTIPOLYGON (((-87.93514 42.00089, -87.93521 ...       924855   \n",
       "0   MULTIPOLYGON (((-87.93514 42.00089, -87.93521 ...      1216513   \n",
       "0   MULTIPOLYGON (((-87.93514 42.00089, -87.93521 ...      2409560   \n",
       "\n",
       "               Primary Type                Date  Year   Latitude  Longitude  \\\n",
       "0                   ROBBERY 2011-04-11 09:15:00  2011  41.951856 -87.908269   \n",
       "0           CRIMINAL DAMAGE 2021-10-10 01:38:00  2021  41.951856 -87.908269   \n",
       "0                     THEFT 2014-04-07 16:00:00  2014  41.952488 -87.910607   \n",
       "0        DECEPTIVE PRACTICE 2008-08-21 09:00:00  2008  41.952488 -87.910607   \n",
       "0                   ASSAULT 2010-04-22 15:05:00  2010  41.952488 -87.910607   \n",
       "..                      ...                 ...   ...        ...        ...   \n",
       "0                   BATTERY 2020-01-23 17:05:00  2020  42.022537 -87.673747   \n",
       "0   CRIMINAL SEXUAL ASSAULT 2020-04-12 03:00:00  2020  42.022537 -87.673747   \n",
       "0           CRIMINAL DAMAGE 2018-11-15 23:02:00  2018  42.022537 -87.673747   \n",
       "0                   BATTERY 2008-06-04 23:01:11  2008  42.022537 -87.673747   \n",
       "0                 NARCOTICS 2011-05-30 14:16:00  2011  42.022537 -87.673747   \n",
       "\n",
       "    Month  Day  Time  DayOfWeek  \n",
       "0       4   11     9     Monday  \n",
       "0      10   10     1     Sunday  \n",
       "0       4    7    16     Monday  \n",
       "0       8   21     9   Thursday  \n",
       "0       4   22    15   Thursday  \n",
       "..    ...  ...   ...        ...  \n",
       "0       1   23    17   Thursday  \n",
       "0       4   12     3     Sunday  \n",
       "0      11   15    23   Thursday  \n",
       "0       6    4    23  Wednesday  \n",
       "0       5   30    14     Monday  \n",
       "\n",
       "[4387927 rows x 15 columns]"
      ]
     },
     "execution_count": 38,
     "metadata": {},
     "output_type": "execute_result"
    }
   ],
   "source": [
    "crimes_inside_chicago"
   ]
  },
  {
   "cell_type": "code",
   "execution_count": 29,
   "metadata": {
    "executionInfo": {
     "elapsed": 111999,
     "status": "aborted",
     "timestamp": 1684262536722,
     "user": {
      "displayName": "Girleide de Araujo Silva",
      "userId": "16954863466274623397"
     },
     "user_tz": 180
    },
    "id": "CcHp9Z5S6Zfp"
   },
   "outputs": [
    {
     "data": {
      "text/plain": [
       "count    4.387927e+06\n",
       "mean     4.184190e+01\n",
       "std      8.643922e-02\n",
       "min      4.164459e+01\n",
       "25%      4.176775e+01\n",
       "50%      4.185753e+01\n",
       "75%      4.190617e+01\n",
       "max      4.202271e+01\n",
       "Name: Latitude, dtype: float64"
      ]
     },
     "execution_count": 29,
     "metadata": {},
     "output_type": "execute_result"
    }
   ],
   "source": [
    "crimes_inside_chicago['Latitude'].describe()"
   ]
  },
  {
   "cell_type": "code",
   "execution_count": 30,
   "metadata": {
    "executionInfo": {
     "elapsed": 111738,
     "status": "aborted",
     "timestamp": 1684262536722,
     "user": {
      "displayName": "Girleide de Araujo Silva",
      "userId": "16954863466274623397"
     },
     "user_tz": 180
    },
    "id": "mgkgk9OoB-ak"
   },
   "outputs": [
    {
     "data": {
      "text/plain": [
       "count    4.387927e+06\n",
       "mean    -8.767115e+01\n",
       "std      5.925244e-02\n",
       "min     -8.793457e+01\n",
       "25%     -8.771386e+01\n",
       "50%     -8.766530e+01\n",
       "75%     -8.762793e+01\n",
       "max     -8.752453e+01\n",
       "Name: Longitude, dtype: float64"
      ]
     },
     "execution_count": 30,
     "metadata": {},
     "output_type": "execute_result"
    }
   ],
   "source": [
    "crimes_inside_chicago['Longitude'].describe()"
   ]
  },
  {
   "cell_type": "code",
   "execution_count": 33,
   "metadata": {
    "executionInfo": {
     "elapsed": 111497,
     "status": "aborted",
     "timestamp": 1684262536722,
     "user": {
      "displayName": "Girleide de Araujo Silva",
      "userId": "16954863466274623397"
     },
     "user_tz": 180
    },
    "id": "CbIiTH1TFyQt"
   },
   "outputs": [
    {
     "data": {
      "text/plain": [
       "(4376004, 16)"
      ]
     },
     "execution_count": 33,
     "metadata": {},
     "output_type": "execute_result"
    }
   ],
   "source": [
    "crimes_inside_chicago.shape"
   ]
  },
  {
   "cell_type": "code",
   "execution_count": null,
   "metadata": {
    "executionInfo": {
     "elapsed": 111365,
     "status": "aborted",
     "timestamp": 1684262536722,
     "user": {
      "displayName": "Girleide de Araujo Silva",
      "userId": "16954863466274623397"
     },
     "user_tz": 180
    },
    "id": "ppPp8AL0Ga-Z"
   },
   "outputs": [],
   "source": [
    "dfChicago.columns"
   ]
  },
  {
   "cell_type": "code",
   "execution_count": 34,
   "metadata": {
    "executionInfo": {
     "elapsed": 110904,
     "status": "aborted",
     "timestamp": 1684262536723,
     "user": {
      "displayName": "Girleide de Araujo Silva",
      "userId": "16954863466274623397"
     },
     "user_tz": 180
    },
    "id": "A_ledxMBGoK4"
   },
   "outputs": [],
   "source": [
    "crimes_inside_chicago = crimes_inside_chicago.filter(['Category', 'Date', 'Year', 'Latitude',\n",
    "       'Longitude', 'Month', 'Day', 'Time', 'DayOfWeek', 'geometry', 'index_right']).rename(columns={'index_right':'fips'}).reset_index().drop(['index'], axis=1)"
   ]
  },
  {
   "cell_type": "code",
   "execution_count": 36,
   "metadata": {
    "executionInfo": {
     "elapsed": 110628,
     "status": "aborted",
     "timestamp": 1684262536723,
     "user": {
      "displayName": "Girleide de Araujo Silva",
      "userId": "16954863466274623397"
     },
     "user_tz": 180
    },
    "id": "sUYAol0h4z1X"
   },
   "outputs": [
    {
     "data": {
      "text/plain": [
       "2345752    1\n",
       "573149     1\n",
       "2705805    1\n",
       "3795886    1\n",
       "2105848    1\n",
       "          ..\n",
       "4259997    1\n",
       "2493987    1\n",
       "2964470    1\n",
       "1871232    1\n",
       "4276203    1\n",
       "Name: fips, Length: 4376004, dtype: int64"
      ]
     },
     "execution_count": 36,
     "metadata": {},
     "output_type": "execute_result"
    }
   ],
   "source": [
    "crimes_inside_chicago['fips'].value_counts()"
   ]
  },
  {
   "cell_type": "code",
   "execution_count": 42,
   "metadata": {},
   "outputs": [
    {
     "ename": "KeyboardInterrupt",
     "evalue": "",
     "output_type": "error",
     "traceback": [
      "\u001b[1;31m---------------------------------------------------------------------------\u001b[0m",
      "\u001b[1;31mKeyboardInterrupt\u001b[0m                         Traceback (most recent call last)",
      "Cell \u001b[1;32mIn[42], line 1\u001b[0m\n\u001b[1;32m----> 1\u001b[0m \u001b[43mcrimes_inside_chicago\u001b[49m\u001b[38;5;241;43m.\u001b[39;49m\u001b[43mto_csv\u001b[49m\u001b[43m(\u001b[49m\u001b[38;5;124;43m'\u001b[39;49m\u001b[38;5;124;43m./new_dfs/chicago-crimes-2008-2022.csv\u001b[39;49m\u001b[38;5;124;43m'\u001b[39;49m\u001b[43m)\u001b[49m\n",
      "File \u001b[1;32m~\\anaconda3\\lib\\site-packages\\pandas\\util\\_decorators.py:211\u001b[0m, in \u001b[0;36mdeprecate_kwarg.<locals>._deprecate_kwarg.<locals>.wrapper\u001b[1;34m(*args, **kwargs)\u001b[0m\n\u001b[0;32m    209\u001b[0m     \u001b[38;5;28;01melse\u001b[39;00m:\n\u001b[0;32m    210\u001b[0m         kwargs[new_arg_name] \u001b[38;5;241m=\u001b[39m new_arg_value\n\u001b[1;32m--> 211\u001b[0m \u001b[38;5;28;01mreturn\u001b[39;00m func(\u001b[38;5;241m*\u001b[39margs, \u001b[38;5;241m*\u001b[39m\u001b[38;5;241m*\u001b[39mkwargs)\n",
      "File \u001b[1;32m~\\anaconda3\\lib\\site-packages\\pandas\\core\\generic.py:3720\u001b[0m, in \u001b[0;36mNDFrame.to_csv\u001b[1;34m(self, path_or_buf, sep, na_rep, float_format, columns, header, index, index_label, mode, encoding, compression, quoting, quotechar, lineterminator, chunksize, date_format, doublequote, escapechar, decimal, errors, storage_options)\u001b[0m\n\u001b[0;32m   3709\u001b[0m df \u001b[38;5;241m=\u001b[39m \u001b[38;5;28mself\u001b[39m \u001b[38;5;28;01mif\u001b[39;00m \u001b[38;5;28misinstance\u001b[39m(\u001b[38;5;28mself\u001b[39m, ABCDataFrame) \u001b[38;5;28;01melse\u001b[39;00m \u001b[38;5;28mself\u001b[39m\u001b[38;5;241m.\u001b[39mto_frame()\n\u001b[0;32m   3711\u001b[0m formatter \u001b[38;5;241m=\u001b[39m DataFrameFormatter(\n\u001b[0;32m   3712\u001b[0m     frame\u001b[38;5;241m=\u001b[39mdf,\n\u001b[0;32m   3713\u001b[0m     header\u001b[38;5;241m=\u001b[39mheader,\n\u001b[1;32m   (...)\u001b[0m\n\u001b[0;32m   3717\u001b[0m     decimal\u001b[38;5;241m=\u001b[39mdecimal,\n\u001b[0;32m   3718\u001b[0m )\n\u001b[1;32m-> 3720\u001b[0m \u001b[38;5;28;01mreturn\u001b[39;00m \u001b[43mDataFrameRenderer\u001b[49m\u001b[43m(\u001b[49m\u001b[43mformatter\u001b[49m\u001b[43m)\u001b[49m\u001b[38;5;241;43m.\u001b[39;49m\u001b[43mto_csv\u001b[49m\u001b[43m(\u001b[49m\n\u001b[0;32m   3721\u001b[0m \u001b[43m    \u001b[49m\u001b[43mpath_or_buf\u001b[49m\u001b[43m,\u001b[49m\n\u001b[0;32m   3722\u001b[0m \u001b[43m    \u001b[49m\u001b[43mlineterminator\u001b[49m\u001b[38;5;241;43m=\u001b[39;49m\u001b[43mlineterminator\u001b[49m\u001b[43m,\u001b[49m\n\u001b[0;32m   3723\u001b[0m \u001b[43m    \u001b[49m\u001b[43msep\u001b[49m\u001b[38;5;241;43m=\u001b[39;49m\u001b[43msep\u001b[49m\u001b[43m,\u001b[49m\n\u001b[0;32m   3724\u001b[0m \u001b[43m    \u001b[49m\u001b[43mencoding\u001b[49m\u001b[38;5;241;43m=\u001b[39;49m\u001b[43mencoding\u001b[49m\u001b[43m,\u001b[49m\n\u001b[0;32m   3725\u001b[0m \u001b[43m    \u001b[49m\u001b[43merrors\u001b[49m\u001b[38;5;241;43m=\u001b[39;49m\u001b[43merrors\u001b[49m\u001b[43m,\u001b[49m\n\u001b[0;32m   3726\u001b[0m \u001b[43m    \u001b[49m\u001b[43mcompression\u001b[49m\u001b[38;5;241;43m=\u001b[39;49m\u001b[43mcompression\u001b[49m\u001b[43m,\u001b[49m\n\u001b[0;32m   3727\u001b[0m \u001b[43m    \u001b[49m\u001b[43mquoting\u001b[49m\u001b[38;5;241;43m=\u001b[39;49m\u001b[43mquoting\u001b[49m\u001b[43m,\u001b[49m\n\u001b[0;32m   3728\u001b[0m \u001b[43m    \u001b[49m\u001b[43mcolumns\u001b[49m\u001b[38;5;241;43m=\u001b[39;49m\u001b[43mcolumns\u001b[49m\u001b[43m,\u001b[49m\n\u001b[0;32m   3729\u001b[0m \u001b[43m    \u001b[49m\u001b[43mindex_label\u001b[49m\u001b[38;5;241;43m=\u001b[39;49m\u001b[43mindex_label\u001b[49m\u001b[43m,\u001b[49m\n\u001b[0;32m   3730\u001b[0m \u001b[43m    \u001b[49m\u001b[43mmode\u001b[49m\u001b[38;5;241;43m=\u001b[39;49m\u001b[43mmode\u001b[49m\u001b[43m,\u001b[49m\n\u001b[0;32m   3731\u001b[0m \u001b[43m    \u001b[49m\u001b[43mchunksize\u001b[49m\u001b[38;5;241;43m=\u001b[39;49m\u001b[43mchunksize\u001b[49m\u001b[43m,\u001b[49m\n\u001b[0;32m   3732\u001b[0m \u001b[43m    \u001b[49m\u001b[43mquotechar\u001b[49m\u001b[38;5;241;43m=\u001b[39;49m\u001b[43mquotechar\u001b[49m\u001b[43m,\u001b[49m\n\u001b[0;32m   3733\u001b[0m \u001b[43m    \u001b[49m\u001b[43mdate_format\u001b[49m\u001b[38;5;241;43m=\u001b[39;49m\u001b[43mdate_format\u001b[49m\u001b[43m,\u001b[49m\n\u001b[0;32m   3734\u001b[0m \u001b[43m    \u001b[49m\u001b[43mdoublequote\u001b[49m\u001b[38;5;241;43m=\u001b[39;49m\u001b[43mdoublequote\u001b[49m\u001b[43m,\u001b[49m\n\u001b[0;32m   3735\u001b[0m \u001b[43m    \u001b[49m\u001b[43mescapechar\u001b[49m\u001b[38;5;241;43m=\u001b[39;49m\u001b[43mescapechar\u001b[49m\u001b[43m,\u001b[49m\n\u001b[0;32m   3736\u001b[0m \u001b[43m    \u001b[49m\u001b[43mstorage_options\u001b[49m\u001b[38;5;241;43m=\u001b[39;49m\u001b[43mstorage_options\u001b[49m\u001b[43m,\u001b[49m\n\u001b[0;32m   3737\u001b[0m \u001b[43m\u001b[49m\u001b[43m)\u001b[49m\n",
      "File \u001b[1;32m~\\anaconda3\\lib\\site-packages\\pandas\\util\\_decorators.py:211\u001b[0m, in \u001b[0;36mdeprecate_kwarg.<locals>._deprecate_kwarg.<locals>.wrapper\u001b[1;34m(*args, **kwargs)\u001b[0m\n\u001b[0;32m    209\u001b[0m     \u001b[38;5;28;01melse\u001b[39;00m:\n\u001b[0;32m    210\u001b[0m         kwargs[new_arg_name] \u001b[38;5;241m=\u001b[39m new_arg_value\n\u001b[1;32m--> 211\u001b[0m \u001b[38;5;28;01mreturn\u001b[39;00m func(\u001b[38;5;241m*\u001b[39margs, \u001b[38;5;241m*\u001b[39m\u001b[38;5;241m*\u001b[39mkwargs)\n",
      "File \u001b[1;32m~\\anaconda3\\lib\\site-packages\\pandas\\io\\formats\\format.py:1189\u001b[0m, in \u001b[0;36mDataFrameRenderer.to_csv\u001b[1;34m(self, path_or_buf, encoding, sep, columns, index_label, mode, compression, quoting, quotechar, lineterminator, chunksize, date_format, doublequote, escapechar, errors, storage_options)\u001b[0m\n\u001b[0;32m   1168\u001b[0m     created_buffer \u001b[38;5;241m=\u001b[39m \u001b[38;5;28;01mFalse\u001b[39;00m\n\u001b[0;32m   1170\u001b[0m csv_formatter \u001b[38;5;241m=\u001b[39m CSVFormatter(\n\u001b[0;32m   1171\u001b[0m     path_or_buf\u001b[38;5;241m=\u001b[39mpath_or_buf,\n\u001b[0;32m   1172\u001b[0m     lineterminator\u001b[38;5;241m=\u001b[39mlineterminator,\n\u001b[1;32m   (...)\u001b[0m\n\u001b[0;32m   1187\u001b[0m     formatter\u001b[38;5;241m=\u001b[39m\u001b[38;5;28mself\u001b[39m\u001b[38;5;241m.\u001b[39mfmt,\n\u001b[0;32m   1188\u001b[0m )\n\u001b[1;32m-> 1189\u001b[0m \u001b[43mcsv_formatter\u001b[49m\u001b[38;5;241;43m.\u001b[39;49m\u001b[43msave\u001b[49m\u001b[43m(\u001b[49m\u001b[43m)\u001b[49m\n\u001b[0;32m   1191\u001b[0m \u001b[38;5;28;01mif\u001b[39;00m created_buffer:\n\u001b[0;32m   1192\u001b[0m     \u001b[38;5;28;01massert\u001b[39;00m \u001b[38;5;28misinstance\u001b[39m(path_or_buf, StringIO)\n",
      "File \u001b[1;32m~\\anaconda3\\lib\\site-packages\\pandas\\io\\formats\\csvs.py:261\u001b[0m, in \u001b[0;36mCSVFormatter.save\u001b[1;34m(self)\u001b[0m\n\u001b[0;32m    241\u001b[0m \u001b[38;5;28;01mwith\u001b[39;00m get_handle(\n\u001b[0;32m    242\u001b[0m     \u001b[38;5;28mself\u001b[39m\u001b[38;5;241m.\u001b[39mfilepath_or_buffer,\n\u001b[0;32m    243\u001b[0m     \u001b[38;5;28mself\u001b[39m\u001b[38;5;241m.\u001b[39mmode,\n\u001b[1;32m   (...)\u001b[0m\n\u001b[0;32m    249\u001b[0m \n\u001b[0;32m    250\u001b[0m     \u001b[38;5;66;03m# Note: self.encoding is irrelevant here\u001b[39;00m\n\u001b[0;32m    251\u001b[0m     \u001b[38;5;28mself\u001b[39m\u001b[38;5;241m.\u001b[39mwriter \u001b[38;5;241m=\u001b[39m csvlib\u001b[38;5;241m.\u001b[39mwriter(\n\u001b[0;32m    252\u001b[0m         handles\u001b[38;5;241m.\u001b[39mhandle,\n\u001b[0;32m    253\u001b[0m         lineterminator\u001b[38;5;241m=\u001b[39m\u001b[38;5;28mself\u001b[39m\u001b[38;5;241m.\u001b[39mlineterminator,\n\u001b[1;32m   (...)\u001b[0m\n\u001b[0;32m    258\u001b[0m         quotechar\u001b[38;5;241m=\u001b[39m\u001b[38;5;28mself\u001b[39m\u001b[38;5;241m.\u001b[39mquotechar,\n\u001b[0;32m    259\u001b[0m     )\n\u001b[1;32m--> 261\u001b[0m     \u001b[38;5;28;43mself\u001b[39;49m\u001b[38;5;241;43m.\u001b[39;49m\u001b[43m_save\u001b[49m\u001b[43m(\u001b[49m\u001b[43m)\u001b[49m\n",
      "File \u001b[1;32m~\\anaconda3\\lib\\site-packages\\pandas\\io\\formats\\csvs.py:266\u001b[0m, in \u001b[0;36mCSVFormatter._save\u001b[1;34m(self)\u001b[0m\n\u001b[0;32m    264\u001b[0m \u001b[38;5;28;01mif\u001b[39;00m \u001b[38;5;28mself\u001b[39m\u001b[38;5;241m.\u001b[39m_need_to_save_header:\n\u001b[0;32m    265\u001b[0m     \u001b[38;5;28mself\u001b[39m\u001b[38;5;241m.\u001b[39m_save_header()\n\u001b[1;32m--> 266\u001b[0m \u001b[38;5;28;43mself\u001b[39;49m\u001b[38;5;241;43m.\u001b[39;49m\u001b[43m_save_body\u001b[49m\u001b[43m(\u001b[49m\u001b[43m)\u001b[49m\n",
      "File \u001b[1;32m~\\anaconda3\\lib\\site-packages\\pandas\\io\\formats\\csvs.py:304\u001b[0m, in \u001b[0;36mCSVFormatter._save_body\u001b[1;34m(self)\u001b[0m\n\u001b[0;32m    302\u001b[0m \u001b[38;5;28;01mif\u001b[39;00m start_i \u001b[38;5;241m>\u001b[39m\u001b[38;5;241m=\u001b[39m end_i:\n\u001b[0;32m    303\u001b[0m     \u001b[38;5;28;01mbreak\u001b[39;00m\n\u001b[1;32m--> 304\u001b[0m \u001b[38;5;28;43mself\u001b[39;49m\u001b[38;5;241;43m.\u001b[39;49m\u001b[43m_save_chunk\u001b[49m\u001b[43m(\u001b[49m\u001b[43mstart_i\u001b[49m\u001b[43m,\u001b[49m\u001b[43m \u001b[49m\u001b[43mend_i\u001b[49m\u001b[43m)\u001b[49m\n",
      "File \u001b[1;32m~\\anaconda3\\lib\\site-packages\\pandas\\io\\formats\\csvs.py:315\u001b[0m, in \u001b[0;36mCSVFormatter._save_chunk\u001b[1;34m(self, start_i, end_i)\u001b[0m\n\u001b[0;32m    312\u001b[0m data \u001b[38;5;241m=\u001b[39m [res\u001b[38;5;241m.\u001b[39miget_values(i) \u001b[38;5;28;01mfor\u001b[39;00m i \u001b[38;5;129;01min\u001b[39;00m \u001b[38;5;28mrange\u001b[39m(\u001b[38;5;28mlen\u001b[39m(res\u001b[38;5;241m.\u001b[39mitems))]\n\u001b[0;32m    314\u001b[0m ix \u001b[38;5;241m=\u001b[39m \u001b[38;5;28mself\u001b[39m\u001b[38;5;241m.\u001b[39mdata_index[slicer]\u001b[38;5;241m.\u001b[39m_format_native_types(\u001b[38;5;241m*\u001b[39m\u001b[38;5;241m*\u001b[39m\u001b[38;5;28mself\u001b[39m\u001b[38;5;241m.\u001b[39m_number_format)\n\u001b[1;32m--> 315\u001b[0m \u001b[43mlibwriters\u001b[49m\u001b[38;5;241;43m.\u001b[39;49m\u001b[43mwrite_csv_rows\u001b[49m\u001b[43m(\u001b[49m\n\u001b[0;32m    316\u001b[0m \u001b[43m    \u001b[49m\u001b[43mdata\u001b[49m\u001b[43m,\u001b[49m\n\u001b[0;32m    317\u001b[0m \u001b[43m    \u001b[49m\u001b[43mix\u001b[49m\u001b[43m,\u001b[49m\n\u001b[0;32m    318\u001b[0m \u001b[43m    \u001b[49m\u001b[38;5;28;43mself\u001b[39;49m\u001b[38;5;241;43m.\u001b[39;49m\u001b[43mnlevels\u001b[49m\u001b[43m,\u001b[49m\n\u001b[0;32m    319\u001b[0m \u001b[43m    \u001b[49m\u001b[38;5;28;43mself\u001b[39;49m\u001b[38;5;241;43m.\u001b[39;49m\u001b[43mcols\u001b[49m\u001b[43m,\u001b[49m\n\u001b[0;32m    320\u001b[0m \u001b[43m    \u001b[49m\u001b[38;5;28;43mself\u001b[39;49m\u001b[38;5;241;43m.\u001b[39;49m\u001b[43mwriter\u001b[49m\u001b[43m,\u001b[49m\n\u001b[0;32m    321\u001b[0m \u001b[43m\u001b[49m\u001b[43m)\u001b[49m\n",
      "File \u001b[1;32m~\\anaconda3\\lib\\site-packages\\pandas\\_libs\\writers.pyx:55\u001b[0m, in \u001b[0;36mpandas._libs.writers.write_csv_rows\u001b[1;34m()\u001b[0m\n",
      "\u001b[1;31mKeyboardInterrupt\u001b[0m: "
     ]
    }
   ],
   "source": [
    "crimes_inside_chicago.to_csv('./new_dfs/chicago-crimes-2008-2022.csv')"
   ]
  },
  {
   "cell_type": "code",
   "execution_count": null,
   "metadata": {
    "executionInfo": {
     "elapsed": 110345,
     "status": "aborted",
     "timestamp": 1684262536723,
     "user": {
      "displayName": "Girleide de Araujo Silva",
      "userId": "16954863466274623397"
     },
     "user_tz": 180
    },
    "id": "Svp5wNz5a00E"
   },
   "outputs": [],
   "source": [
    "df_part1 = crimes_inside_chicago.loc[crimes_inside_chicago['Year'] <= 2009]\n",
    "df_part1.to_csv('./new_dfs/chicago-crimes-2008-2009.csv')\n",
    "# !cp chicago-crimes-2008-2010.csv '/content/drive/MyDrive/Pessoal/girleide/'"
   ]
  },
  {
   "cell_type": "code",
   "execution_count": null,
   "metadata": {},
   "outputs": [],
   "source": [
    "df_part2 = crimes_inside_chicago.loc[(crimes_inside_chicago['Year'] > 2010) and (crimes_inside_chicago['Year'] <= 2015)]\n",
    "df_part2.to_csv('chicago-crimes-2008-2010.csv')"
   ]
  },
  {
   "cell_type": "code",
   "execution_count": null,
   "metadata": {},
   "outputs": [],
   "source": [
    "df_part3 = crimes_inside_chicago.loc[(crimes_inside_chicago['Year'] > 2015) and (crimes_inside_chicago['Year'] < 2019)]\n",
    "df_part3.to_csv('chicago-crimes-2008-2010.csv')"
   ]
  },
  {
   "cell_type": "code",
   "execution_count": null,
   "metadata": {
    "executionInfo": {
     "elapsed": 39,
     "status": "aborted",
     "timestamp": 1684262334760,
     "user": {
      "displayName": "Girleide de Araujo Silva",
      "userId": "16954863466274623397"
     },
     "user_tz": 180
    },
    "id": "TsMTou7YHCKK"
   },
   "outputs": [],
   "source": [
    "#crimes_inside_chicago.to_csv('chicago-crimes-2008-2022.csv')\n",
    "#!cp chicago-crimes-2008-2022.csv '/content/drive/MyDrive/Pessoal/girleide/'"
   ]
  },
  {
   "cell_type": "code",
   "execution_count": null,
   "metadata": {
    "executionInfo": {
     "elapsed": 39,
     "status": "aborted",
     "timestamp": 1684262334760,
     "user": {
      "displayName": "Girleide de Araujo Silva",
      "userId": "16954863466274623397"
     },
     "user_tz": 180
    },
    "id": "_P5OCQZ-56OO"
   },
   "outputs": [],
   "source": [
    "df_part4 = crimes_inside_chicago[(crimes_inside_chicago['Year'] >= 2019) & (crimes_inside_chicago['Year'] <= 2022 )]\n",
    "df_part4.to_csv('chicago-crimes-2019-2022.csv')\n",
    "# !cp chicago-crimes-2019-2022.csv '/content/drive/MyDrive/Pessoal/girleide/'"
   ]
  },
  {
   "cell_type": "code",
   "execution_count": null,
   "metadata": {
    "executionInfo": {
     "elapsed": 40,
     "status": "aborted",
     "timestamp": 1684262334761,
     "user": {
      "displayName": "Girleide de Araujo Silva",
      "userId": "16954863466274623397"
     },
     "user_tz": 180
    },
    "id": "tq4ZcC77xslY"
   },
   "outputs": [],
   "source": [
    "#!cp chicago-crimes-2011-2022.csv '/content/drive/MyDrive/Pessoal/girleide/'"
   ]
  }
 ],
 "metadata": {
  "accelerator": "GPU",
  "colab": {
   "machine_shape": "hm",
   "provenance": []
  },
  "gpuClass": "premium",
  "kernelspec": {
   "display_name": "Python 3 (ipykernel)",
   "language": "python",
   "name": "python3"
  },
  "language_info": {
   "codemirror_mode": {
    "name": "ipython",
    "version": 3
   },
   "file_extension": ".py",
   "mimetype": "text/x-python",
   "name": "python",
   "nbconvert_exporter": "python",
   "pygments_lexer": "ipython3",
   "version": "3.10.9"
  }
 },
 "nbformat": 4,
 "nbformat_minor": 1
}
