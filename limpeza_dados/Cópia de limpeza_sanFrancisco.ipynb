{
 "cells": [
  {
   "cell_type": "code",
   "execution_count": 1,
   "metadata": {
    "id": "KruxdgS-HxkG"
   },
   "outputs": [],
   "source": [
    "import pandas as pd"
   ]
  },
  {
   "cell_type": "code",
   "execution_count": null,
   "metadata": {
    "colab": {
     "base_uri": "https://localhost:8080/"
    },
    "executionInfo": {
     "elapsed": 2065,
     "status": "ok",
     "timestamp": 1680471064004,
     "user": {
      "displayName": "Priscylla Maria da Silva Sousa",
      "userId": "01315819574684442147"
     },
     "user_tz": 180
    },
    "id": "3unB7Yepiisq",
    "outputId": "5517e5ff-03c6-4607-9030-3dd7e032cc8a"
   },
   "outputs": [
    {
     "name": "stdout",
     "output_type": "stream",
     "text": [
      "Drive already mounted at /content/drive; to attempt to forcibly remount, call drive.mount(\"/content/drive\", force_remount=True).\n"
     ]
    }
   ],
   "source": [
    "from google.colab import drive\n",
    "drive.mount('/content/drive')"
   ]
  },
  {
   "cell_type": "code",
   "execution_count": 2,
   "metadata": {
    "id": "JjCamyU8NCZO"
   },
   "outputs": [],
   "source": [
    "df = pd.read_csv('./SF_2003_present_novo.csv')\n",
    "#df = pd.read_csv('/content/drive/MyDrive/Pessoal/girleide/SF_2003_present_novo.csv')"
   ]
  },
  {
   "cell_type": "code",
   "execution_count": 3,
   "metadata": {
    "colab": {
     "base_uri": "https://localhost:8080/",
     "height": 835
    },
    "executionInfo": {
     "elapsed": 14,
     "status": "ok",
     "timestamp": 1680469586643,
     "user": {
      "displayName": "Priscylla Maria da Silva Sousa",
      "userId": "01315819574684442147"
     },
     "user_tz": 180
    },
    "id": "x6QZUbtrv29i",
    "outputId": "6a61109f-680d-4ff5-cc3c-02b0ea7329aa"
   },
   "outputs": [
    {
     "data": {
      "text/html": [
       "<div>\n",
       "<style scoped>\n",
       "    .dataframe tbody tr th:only-of-type {\n",
       "        vertical-align: middle;\n",
       "    }\n",
       "\n",
       "    .dataframe tbody tr th {\n",
       "        vertical-align: top;\n",
       "    }\n",
       "\n",
       "    .dataframe thead th {\n",
       "        text-align: right;\n",
       "    }\n",
       "</style>\n",
       "<table border=\"1\" class=\"dataframe\">\n",
       "  <thead>\n",
       "    <tr style=\"text-align: right;\">\n",
       "      <th></th>\n",
       "      <th>Incident_Number</th>\n",
       "      <th>Incident_Code</th>\n",
       "      <th>Incident_Category</th>\n",
       "      <th>Incident_Description</th>\n",
       "      <th>DayOfWeek</th>\n",
       "      <th>Date</th>\n",
       "      <th>Time</th>\n",
       "      <th>Police_District</th>\n",
       "      <th>Resolution</th>\n",
       "      <th>Longitude</th>\n",
       "      <th>Latitude</th>\n",
       "      <th>Point</th>\n",
       "    </tr>\n",
       "  </thead>\n",
       "  <tbody>\n",
       "    <tr>\n",
       "      <th>0</th>\n",
       "      <td>41334220.0</td>\n",
       "      <td>3074.0</td>\n",
       "      <td>ROBBERY</td>\n",
       "      <td>ROBBERY, BODILY FORCE</td>\n",
       "      <td>Monday</td>\n",
       "      <td>2004-11-22</td>\n",
       "      <td>17:50</td>\n",
       "      <td>INGLESIDE</td>\n",
       "      <td>NONE</td>\n",
       "      <td>-122.420084</td>\n",
       "      <td>37.708311</td>\n",
       "      <td>POINT (-122.420084075249 37.7083109744362)</td>\n",
       "    </tr>\n",
       "    <tr>\n",
       "      <th>1</th>\n",
       "      <td>51185358.0</td>\n",
       "      <td>7021.0</td>\n",
       "      <td>VEHICLE THEFT</td>\n",
       "      <td>STOLEN AUTOMOBILE</td>\n",
       "      <td>Tuesday</td>\n",
       "      <td>2005-10-18</td>\n",
       "      <td>20:00</td>\n",
       "      <td>PARK</td>\n",
       "      <td>NONE</td>\n",
       "      <td>-120.500000</td>\n",
       "      <td>90.000000</td>\n",
       "      <td>POINT (-120.50000000000001 90)</td>\n",
       "    </tr>\n",
       "    <tr>\n",
       "      <th>2</th>\n",
       "      <td>40188309.0</td>\n",
       "      <td>7021.0</td>\n",
       "      <td>VEHICLE THEFT</td>\n",
       "      <td>STOLEN AUTOMOBILE</td>\n",
       "      <td>Sunday</td>\n",
       "      <td>2004-02-15</td>\n",
       "      <td>02:00</td>\n",
       "      <td>SOUTHERN</td>\n",
       "      <td>NONE</td>\n",
       "      <td>-120.500000</td>\n",
       "      <td>90.000000</td>\n",
       "      <td>POINT (-120.50000000000001 90)</td>\n",
       "    </tr>\n",
       "    <tr>\n",
       "      <th>3</th>\n",
       "      <td>110145431.0</td>\n",
       "      <td>26030.0</td>\n",
       "      <td>ARSON</td>\n",
       "      <td>ARSON</td>\n",
       "      <td>Friday</td>\n",
       "      <td>2011-02-18</td>\n",
       "      <td>05:27</td>\n",
       "      <td>INGLESIDE</td>\n",
       "      <td>NONE</td>\n",
       "      <td>-122.436220</td>\n",
       "      <td>37.724377</td>\n",
       "      <td>POINT (-122.43622001281001 37.7243766140428)</td>\n",
       "    </tr>\n",
       "    <tr>\n",
       "      <th>4</th>\n",
       "      <td>101081080.0</td>\n",
       "      <td>4134.0</td>\n",
       "      <td>ASSAULT</td>\n",
       "      <td>BATTERY</td>\n",
       "      <td>Sunday</td>\n",
       "      <td>2010-11-21</td>\n",
       "      <td>17:00</td>\n",
       "      <td>SOUTHERN</td>\n",
       "      <td>NONE</td>\n",
       "      <td>-122.410541</td>\n",
       "      <td>37.770913</td>\n",
       "      <td>POINT (-122.410541166987 37.7709130566165)</td>\n",
       "    </tr>\n",
       "    <tr>\n",
       "      <th>...</th>\n",
       "      <td>...</td>\n",
       "      <td>...</td>\n",
       "      <td>...</td>\n",
       "      <td>...</td>\n",
       "      <td>...</td>\n",
       "      <td>...</td>\n",
       "      <td>...</td>\n",
       "      <td>...</td>\n",
       "      <td>...</td>\n",
       "      <td>...</td>\n",
       "      <td>...</td>\n",
       "      <td>...</td>\n",
       "    </tr>\n",
       "    <tr>\n",
       "      <th>2586241</th>\n",
       "      <td>230132742.0</td>\n",
       "      <td>28160.0</td>\n",
       "      <td>Malicious Mischief</td>\n",
       "      <td>Malicious Mischief, Vandalism to Vehicle</td>\n",
       "      <td>Wednesday</td>\n",
       "      <td>2023-01-25</td>\n",
       "      <td>00:00</td>\n",
       "      <td>Mission</td>\n",
       "      <td>Open or Active</td>\n",
       "      <td>-122.472717</td>\n",
       "      <td>37.756282</td>\n",
       "      <td>POINT (-122.47271682474599 37.75628156313287)</td>\n",
       "    </tr>\n",
       "    <tr>\n",
       "      <th>2586242</th>\n",
       "      <td>230134061.0</td>\n",
       "      <td>6242.0</td>\n",
       "      <td>Larceny Theft</td>\n",
       "      <td>Theft, From Locked Vehicle, $50-$200</td>\n",
       "      <td>Thursday</td>\n",
       "      <td>2023-02-23</td>\n",
       "      <td>18:05</td>\n",
       "      <td>Taraval</td>\n",
       "      <td>Open or Active</td>\n",
       "      <td>-122.476039</td>\n",
       "      <td>37.726950</td>\n",
       "      <td>POINT (-122.47603947349434 37.72694991292525)</td>\n",
       "    </tr>\n",
       "    <tr>\n",
       "      <th>2586243</th>\n",
       "      <td>230130348.0</td>\n",
       "      <td>9029.0</td>\n",
       "      <td>Fraud</td>\n",
       "      <td>False Personation to Receive Money or Property</td>\n",
       "      <td>Monday</td>\n",
       "      <td>2022-10-31</td>\n",
       "      <td>00:00</td>\n",
       "      <td>Northern</td>\n",
       "      <td>Open or Active</td>\n",
       "      <td>-122.443792</td>\n",
       "      <td>37.804638</td>\n",
       "      <td>POINT (-122.44379196842536 37.80463787175557)</td>\n",
       "    </tr>\n",
       "    <tr>\n",
       "      <th>2586244</th>\n",
       "      <td>230133944.0</td>\n",
       "      <td>6223.0</td>\n",
       "      <td>Larceny Theft</td>\n",
       "      <td>Theft, From Unlocked Vehicle, $200-$950</td>\n",
       "      <td>Wednesday</td>\n",
       "      <td>2022-02-23</td>\n",
       "      <td>13:10</td>\n",
       "      <td>Northern</td>\n",
       "      <td>Open or Active</td>\n",
       "      <td>-122.427546</td>\n",
       "      <td>37.774388</td>\n",
       "      <td>POINT (-122.42754641814665 37.7743884667864)</td>\n",
       "    </tr>\n",
       "    <tr>\n",
       "      <th>2586245</th>\n",
       "      <td>230133392.0</td>\n",
       "      <td>64070.0</td>\n",
       "      <td>Suspicious Occ</td>\n",
       "      <td>Suspicious Occurrence</td>\n",
       "      <td>Thursday</td>\n",
       "      <td>2023-02-23</td>\n",
       "      <td>08:00</td>\n",
       "      <td>Southern</td>\n",
       "      <td>Open or Active</td>\n",
       "      <td>-122.405425</td>\n",
       "      <td>37.771296</td>\n",
       "      <td>POINT (-122.40542473566995 37.77129635185078)</td>\n",
       "    </tr>\n",
       "  </tbody>\n",
       "</table>\n",
       "<p>2586246 rows × 12 columns</p>\n",
       "</div>"
      ],
      "text/plain": [
       "         Incident_Number  Incident_Code   Incident_Category  \\\n",
       "0             41334220.0         3074.0             ROBBERY   \n",
       "1             51185358.0         7021.0       VEHICLE THEFT   \n",
       "2             40188309.0         7021.0       VEHICLE THEFT   \n",
       "3            110145431.0        26030.0               ARSON   \n",
       "4            101081080.0         4134.0             ASSAULT   \n",
       "...                  ...            ...                 ...   \n",
       "2586241      230132742.0        28160.0  Malicious Mischief   \n",
       "2586242      230134061.0         6242.0       Larceny Theft   \n",
       "2586243      230130348.0         9029.0               Fraud   \n",
       "2586244      230133944.0         6223.0       Larceny Theft   \n",
       "2586245      230133392.0        64070.0      Suspicious Occ   \n",
       "\n",
       "                                   Incident_Description  DayOfWeek  \\\n",
       "0                                 ROBBERY, BODILY FORCE     Monday   \n",
       "1                                     STOLEN AUTOMOBILE    Tuesday   \n",
       "2                                     STOLEN AUTOMOBILE     Sunday   \n",
       "3                                                 ARSON     Friday   \n",
       "4                                               BATTERY     Sunday   \n",
       "...                                                 ...        ...   \n",
       "2586241        Malicious Mischief, Vandalism to Vehicle  Wednesday   \n",
       "2586242            Theft, From Locked Vehicle, $50-$200   Thursday   \n",
       "2586243  False Personation to Receive Money or Property     Monday   \n",
       "2586244         Theft, From Unlocked Vehicle, $200-$950  Wednesday   \n",
       "2586245                           Suspicious Occurrence   Thursday   \n",
       "\n",
       "               Date   Time Police_District      Resolution   Longitude  \\\n",
       "0        2004-11-22  17:50       INGLESIDE            NONE -122.420084   \n",
       "1        2005-10-18  20:00            PARK            NONE -120.500000   \n",
       "2        2004-02-15  02:00        SOUTHERN            NONE -120.500000   \n",
       "3        2011-02-18  05:27       INGLESIDE            NONE -122.436220   \n",
       "4        2010-11-21  17:00        SOUTHERN            NONE -122.410541   \n",
       "...             ...    ...             ...             ...         ...   \n",
       "2586241  2023-01-25  00:00         Mission  Open or Active -122.472717   \n",
       "2586242  2023-02-23  18:05         Taraval  Open or Active -122.476039   \n",
       "2586243  2022-10-31  00:00        Northern  Open or Active -122.443792   \n",
       "2586244  2022-02-23  13:10        Northern  Open or Active -122.427546   \n",
       "2586245  2023-02-23  08:00        Southern  Open or Active -122.405425   \n",
       "\n",
       "          Latitude                                          Point  \n",
       "0        37.708311     POINT (-122.420084075249 37.7083109744362)  \n",
       "1        90.000000                 POINT (-120.50000000000001 90)  \n",
       "2        90.000000                 POINT (-120.50000000000001 90)  \n",
       "3        37.724377   POINT (-122.43622001281001 37.7243766140428)  \n",
       "4        37.770913     POINT (-122.410541166987 37.7709130566165)  \n",
       "...            ...                                            ...  \n",
       "2586241  37.756282  POINT (-122.47271682474599 37.75628156313287)  \n",
       "2586242  37.726950  POINT (-122.47603947349434 37.72694991292525)  \n",
       "2586243  37.804638  POINT (-122.44379196842536 37.80463787175557)  \n",
       "2586244  37.774388   POINT (-122.42754641814665 37.7743884667864)  \n",
       "2586245  37.771296  POINT (-122.40542473566995 37.77129635185078)  \n",
       "\n",
       "[2586246 rows x 12 columns]"
      ]
     },
     "execution_count": 3,
     "metadata": {},
     "output_type": "execute_result"
    }
   ],
   "source": [
    "df"
   ]
  },
  {
   "cell_type": "code",
   "execution_count": 4,
   "metadata": {
    "id": "FC9ukS2ANkxl"
   },
   "outputs": [],
   "source": [
    "dfSanFran = df"
   ]
  },
  {
   "cell_type": "code",
   "execution_count": 5,
   "metadata": {
    "colab": {
     "base_uri": "https://localhost:8080/"
    },
    "executionInfo": {
     "elapsed": 9,
     "status": "ok",
     "timestamp": 1680469586643,
     "user": {
      "displayName": "Priscylla Maria da Silva Sousa",
      "userId": "01315819574684442147"
     },
     "user_tz": 180
    },
    "id": "jsFwNti3OhkU",
    "outputId": "9099e7ae-39b3-4313-a01d-3c6c112319fb"
   },
   "outputs": [
    {
     "data": {
      "text/plain": [
       "4"
      ]
     },
     "execution_count": 5,
     "metadata": {},
     "output_type": "execute_result"
    }
   ],
   "source": [
    "df['Date'].isnull().sum()"
   ]
  },
  {
   "cell_type": "code",
   "execution_count": 6,
   "metadata": {
    "colab": {
     "base_uri": "https://localhost:8080/"
    },
    "executionInfo": {
     "elapsed": 2653,
     "status": "ok",
     "timestamp": 1680469589290,
     "user": {
      "displayName": "Priscylla Maria da Silva Sousa",
      "userId": "01315819574684442147"
     },
     "user_tz": 180
    },
    "id": "R9CFy4pHNTUq",
    "outputId": "7c97e28a-ff69-480e-8acb-d86368f4bafc"
   },
   "outputs": [
    {
     "data": {
      "text/plain": [
       "Incident_Number             4\n",
       "Incident_Code               4\n",
       "Incident_Category         589\n",
       "Incident_Description        4\n",
       "DayOfWeek                   4\n",
       "Date                        4\n",
       "Time                        4\n",
       "Police_District             5\n",
       "Resolution                  4\n",
       "Longitude               37315\n",
       "Latitude                37315\n",
       "Point                   37315\n",
       "dtype: int64"
      ]
     },
     "execution_count": 6,
     "metadata": {},
     "output_type": "execute_result"
    }
   ],
   "source": [
    "dfSanFran.isnull().sum()"
   ]
  },
  {
   "cell_type": "code",
   "execution_count": null,
   "metadata": {
    "colab": {
     "base_uri": "https://localhost:8080/"
    },
    "executionInfo": {
     "elapsed": 8,
     "status": "ok",
     "timestamp": 1680469589290,
     "user": {
      "displayName": "Priscylla Maria da Silva Sousa",
      "userId": "01315819574684442147"
     },
     "user_tz": 180
    },
    "id": "mArRZGMbNxE-",
    "outputId": "5716167e-5e8c-4f72-df45-7bccc4489619"
   },
   "outputs": [
    {
     "data": {
      "text/plain": [
       "Index(['Incident_Number', 'Incident_Code', 'Incident_Category',\n",
       "       'Incident_Description', 'DayOfWeek', 'Date', 'Time', 'Police_District',\n",
       "       'Resolution', 'Longitude', 'Latitude', 'Point'],\n",
       "      dtype='object')"
      ]
     },
     "execution_count": 42,
     "metadata": {},
     "output_type": "execute_result"
    }
   ],
   "source": [
    "dfSanFran.columns"
   ]
  },
  {
   "cell_type": "code",
   "execution_count": 7,
   "metadata": {
    "id": "1Z_PeeJlN5rn"
   },
   "outputs": [],
   "source": [
    "### colunas importantes\n",
    "dfSanFran = df.filter(['Incident_Category', 'DayOfWeek', 'Date', 'Time', 'Longitude', 'Latitude'])"
   ]
  },
  {
   "cell_type": "code",
   "execution_count": null,
   "metadata": {
    "colab": {
     "base_uri": "https://localhost:8080/",
     "height": 424
    },
    "executionInfo": {
     "elapsed": 4,
     "status": "ok",
     "timestamp": 1680469590871,
     "user": {
      "displayName": "Priscylla Maria da Silva Sousa",
      "userId": "01315819574684442147"
     },
     "user_tz": 180
    },
    "id": "Sr9YgGc2Fqsk",
    "outputId": "6d48ee7e-f46d-4217-8332-4002ef126f65"
   },
   "outputs": [
    {
     "data": {
      "text/html": [
       "\n",
       "  <div id=\"df-b78d0b53-eda1-4d03-94b5-aed33c9ec91b\">\n",
       "    <div class=\"colab-df-container\">\n",
       "      <div>\n",
       "<style scoped>\n",
       "    .dataframe tbody tr th:only-of-type {\n",
       "        vertical-align: middle;\n",
       "    }\n",
       "\n",
       "    .dataframe tbody tr th {\n",
       "        vertical-align: top;\n",
       "    }\n",
       "\n",
       "    .dataframe thead th {\n",
       "        text-align: right;\n",
       "    }\n",
       "</style>\n",
       "<table border=\"1\" class=\"dataframe\">\n",
       "  <thead>\n",
       "    <tr style=\"text-align: right;\">\n",
       "      <th></th>\n",
       "      <th>Incident_Category</th>\n",
       "      <th>DayOfWeek</th>\n",
       "      <th>Date</th>\n",
       "      <th>Time</th>\n",
       "      <th>Longitude</th>\n",
       "      <th>Latitude</th>\n",
       "    </tr>\n",
       "  </thead>\n",
       "  <tbody>\n",
       "    <tr>\n",
       "      <th>0</th>\n",
       "      <td>ROBBERY</td>\n",
       "      <td>Monday</td>\n",
       "      <td>2004-11-22</td>\n",
       "      <td>17:50</td>\n",
       "      <td>-122.420084</td>\n",
       "      <td>37.708311</td>\n",
       "    </tr>\n",
       "    <tr>\n",
       "      <th>1</th>\n",
       "      <td>VEHICLE THEFT</td>\n",
       "      <td>Tuesday</td>\n",
       "      <td>2005-10-18</td>\n",
       "      <td>20:00</td>\n",
       "      <td>-120.500000</td>\n",
       "      <td>90.000000</td>\n",
       "    </tr>\n",
       "    <tr>\n",
       "      <th>2</th>\n",
       "      <td>VEHICLE THEFT</td>\n",
       "      <td>Sunday</td>\n",
       "      <td>2004-02-15</td>\n",
       "      <td>02:00</td>\n",
       "      <td>-120.500000</td>\n",
       "      <td>90.000000</td>\n",
       "    </tr>\n",
       "    <tr>\n",
       "      <th>3</th>\n",
       "      <td>ARSON</td>\n",
       "      <td>Friday</td>\n",
       "      <td>2011-02-18</td>\n",
       "      <td>05:27</td>\n",
       "      <td>-122.436220</td>\n",
       "      <td>37.724377</td>\n",
       "    </tr>\n",
       "    <tr>\n",
       "      <th>4</th>\n",
       "      <td>ASSAULT</td>\n",
       "      <td>Sunday</td>\n",
       "      <td>2010-11-21</td>\n",
       "      <td>17:00</td>\n",
       "      <td>-122.410541</td>\n",
       "      <td>37.770913</td>\n",
       "    </tr>\n",
       "    <tr>\n",
       "      <th>...</th>\n",
       "      <td>...</td>\n",
       "      <td>...</td>\n",
       "      <td>...</td>\n",
       "      <td>...</td>\n",
       "      <td>...</td>\n",
       "      <td>...</td>\n",
       "    </tr>\n",
       "    <tr>\n",
       "      <th>2586241</th>\n",
       "      <td>Malicious Mischief</td>\n",
       "      <td>Wednesday</td>\n",
       "      <td>2023-01-25</td>\n",
       "      <td>00:00</td>\n",
       "      <td>-122.472717</td>\n",
       "      <td>37.756282</td>\n",
       "    </tr>\n",
       "    <tr>\n",
       "      <th>2586242</th>\n",
       "      <td>Larceny Theft</td>\n",
       "      <td>Thursday</td>\n",
       "      <td>2023-02-23</td>\n",
       "      <td>18:05</td>\n",
       "      <td>-122.476039</td>\n",
       "      <td>37.726950</td>\n",
       "    </tr>\n",
       "    <tr>\n",
       "      <th>2586243</th>\n",
       "      <td>Fraud</td>\n",
       "      <td>Monday</td>\n",
       "      <td>2022-10-31</td>\n",
       "      <td>00:00</td>\n",
       "      <td>-122.443792</td>\n",
       "      <td>37.804638</td>\n",
       "    </tr>\n",
       "    <tr>\n",
       "      <th>2586244</th>\n",
       "      <td>Larceny Theft</td>\n",
       "      <td>Wednesday</td>\n",
       "      <td>2022-02-23</td>\n",
       "      <td>13:10</td>\n",
       "      <td>-122.427546</td>\n",
       "      <td>37.774388</td>\n",
       "    </tr>\n",
       "    <tr>\n",
       "      <th>2586245</th>\n",
       "      <td>Suspicious Occ</td>\n",
       "      <td>Thursday</td>\n",
       "      <td>2023-02-23</td>\n",
       "      <td>08:00</td>\n",
       "      <td>-122.405425</td>\n",
       "      <td>37.771296</td>\n",
       "    </tr>\n",
       "  </tbody>\n",
       "</table>\n",
       "<p>2586246 rows × 6 columns</p>\n",
       "</div>\n",
       "      <button class=\"colab-df-convert\" onclick=\"convertToInteractive('df-b78d0b53-eda1-4d03-94b5-aed33c9ec91b')\"\n",
       "              title=\"Convert this dataframe to an interactive table.\"\n",
       "              style=\"display:none;\">\n",
       "        \n",
       "  <svg xmlns=\"http://www.w3.org/2000/svg\" height=\"24px\"viewBox=\"0 0 24 24\"\n",
       "       width=\"24px\">\n",
       "    <path d=\"M0 0h24v24H0V0z\" fill=\"none\"/>\n",
       "    <path d=\"M18.56 5.44l.94 2.06.94-2.06 2.06-.94-2.06-.94-.94-2.06-.94 2.06-2.06.94zm-11 1L8.5 8.5l.94-2.06 2.06-.94-2.06-.94L8.5 2.5l-.94 2.06-2.06.94zm10 10l.94 2.06.94-2.06 2.06-.94-2.06-.94-.94-2.06-.94 2.06-2.06.94z\"/><path d=\"M17.41 7.96l-1.37-1.37c-.4-.4-.92-.59-1.43-.59-.52 0-1.04.2-1.43.59L10.3 9.45l-7.72 7.72c-.78.78-.78 2.05 0 2.83L4 21.41c.39.39.9.59 1.41.59.51 0 1.02-.2 1.41-.59l7.78-7.78 2.81-2.81c.8-.78.8-2.07 0-2.86zM5.41 20L4 18.59l7.72-7.72 1.47 1.35L5.41 20z\"/>\n",
       "  </svg>\n",
       "      </button>\n",
       "      \n",
       "  <style>\n",
       "    .colab-df-container {\n",
       "      display:flex;\n",
       "      flex-wrap:wrap;\n",
       "      gap: 12px;\n",
       "    }\n",
       "\n",
       "    .colab-df-convert {\n",
       "      background-color: #E8F0FE;\n",
       "      border: none;\n",
       "      border-radius: 50%;\n",
       "      cursor: pointer;\n",
       "      display: none;\n",
       "      fill: #1967D2;\n",
       "      height: 32px;\n",
       "      padding: 0 0 0 0;\n",
       "      width: 32px;\n",
       "    }\n",
       "\n",
       "    .colab-df-convert:hover {\n",
       "      background-color: #E2EBFA;\n",
       "      box-shadow: 0px 1px 2px rgba(60, 64, 67, 0.3), 0px 1px 3px 1px rgba(60, 64, 67, 0.15);\n",
       "      fill: #174EA6;\n",
       "    }\n",
       "\n",
       "    [theme=dark] .colab-df-convert {\n",
       "      background-color: #3B4455;\n",
       "      fill: #D2E3FC;\n",
       "    }\n",
       "\n",
       "    [theme=dark] .colab-df-convert:hover {\n",
       "      background-color: #434B5C;\n",
       "      box-shadow: 0px 1px 3px 1px rgba(0, 0, 0, 0.15);\n",
       "      filter: drop-shadow(0px 1px 2px rgba(0, 0, 0, 0.3));\n",
       "      fill: #FFFFFF;\n",
       "    }\n",
       "  </style>\n",
       "\n",
       "      <script>\n",
       "        const buttonEl =\n",
       "          document.querySelector('#df-b78d0b53-eda1-4d03-94b5-aed33c9ec91b button.colab-df-convert');\n",
       "        buttonEl.style.display =\n",
       "          google.colab.kernel.accessAllowed ? 'block' : 'none';\n",
       "\n",
       "        async function convertToInteractive(key) {\n",
       "          const element = document.querySelector('#df-b78d0b53-eda1-4d03-94b5-aed33c9ec91b');\n",
       "          const dataTable =\n",
       "            await google.colab.kernel.invokeFunction('convertToInteractive',\n",
       "                                                     [key], {});\n",
       "          if (!dataTable) return;\n",
       "\n",
       "          const docLinkHtml = 'Like what you see? Visit the ' +\n",
       "            '<a target=\"_blank\" href=https://colab.research.google.com/notebooks/data_table.ipynb>data table notebook</a>'\n",
       "            + ' to learn more about interactive tables.';\n",
       "          element.innerHTML = '';\n",
       "          dataTable['output_type'] = 'display_data';\n",
       "          await google.colab.output.renderOutput(dataTable, element);\n",
       "          const docLink = document.createElement('div');\n",
       "          docLink.innerHTML = docLinkHtml;\n",
       "          element.appendChild(docLink);\n",
       "        }\n",
       "      </script>\n",
       "    </div>\n",
       "  </div>\n",
       "  "
      ],
      "text/plain": [
       "          Incident_Category  DayOfWeek        Date   Time   Longitude  \\\n",
       "0                   ROBBERY     Monday  2004-11-22  17:50 -122.420084   \n",
       "1             VEHICLE THEFT    Tuesday  2005-10-18  20:00 -120.500000   \n",
       "2             VEHICLE THEFT     Sunday  2004-02-15  02:00 -120.500000   \n",
       "3                     ARSON     Friday  2011-02-18  05:27 -122.436220   \n",
       "4                   ASSAULT     Sunday  2010-11-21  17:00 -122.410541   \n",
       "...                     ...        ...         ...    ...         ...   \n",
       "2586241  Malicious Mischief  Wednesday  2023-01-25  00:00 -122.472717   \n",
       "2586242       Larceny Theft   Thursday  2023-02-23  18:05 -122.476039   \n",
       "2586243               Fraud     Monday  2022-10-31  00:00 -122.443792   \n",
       "2586244       Larceny Theft  Wednesday  2022-02-23  13:10 -122.427546   \n",
       "2586245      Suspicious Occ   Thursday  2023-02-23  08:00 -122.405425   \n",
       "\n",
       "          Latitude  \n",
       "0        37.708311  \n",
       "1        90.000000  \n",
       "2        90.000000  \n",
       "3        37.724377  \n",
       "4        37.770913  \n",
       "...            ...  \n",
       "2586241  37.756282  \n",
       "2586242  37.726950  \n",
       "2586243  37.804638  \n",
       "2586244  37.774388  \n",
       "2586245  37.771296  \n",
       "\n",
       "[2586246 rows x 6 columns]"
      ]
     },
     "execution_count": 44,
     "metadata": {},
     "output_type": "execute_result"
    }
   ],
   "source": [
    "dfSanFran"
   ]
  },
  {
   "cell_type": "code",
   "execution_count": null,
   "metadata": {
    "colab": {
     "base_uri": "https://localhost:8080/",
     "height": 206
    },
    "executionInfo": {
     "elapsed": 6,
     "status": "ok",
     "timestamp": 1680469592627,
     "user": {
      "displayName": "Priscylla Maria da Silva Sousa",
      "userId": "01315819574684442147"
     },
     "user_tz": 180
    },
    "id": "vmlguetFG7Rv",
    "outputId": "955d3a6f-13e9-429a-c346-7aeaacaa4509"
   },
   "outputs": [
    {
     "data": {
      "text/html": [
       "\n",
       "  <div id=\"df-90592c54-1633-4fc5-a806-e2ddb720ffef\">\n",
       "    <div class=\"colab-df-container\">\n",
       "      <div>\n",
       "<style scoped>\n",
       "    .dataframe tbody tr th:only-of-type {\n",
       "        vertical-align: middle;\n",
       "    }\n",
       "\n",
       "    .dataframe tbody tr th {\n",
       "        vertical-align: top;\n",
       "    }\n",
       "\n",
       "    .dataframe thead th {\n",
       "        text-align: right;\n",
       "    }\n",
       "</style>\n",
       "<table border=\"1\" class=\"dataframe\">\n",
       "  <thead>\n",
       "    <tr style=\"text-align: right;\">\n",
       "      <th></th>\n",
       "      <th>Incident_Category</th>\n",
       "      <th>DayOfWeek</th>\n",
       "      <th>Date</th>\n",
       "      <th>Time</th>\n",
       "      <th>Longitude</th>\n",
       "      <th>Latitude</th>\n",
       "    </tr>\n",
       "  </thead>\n",
       "  <tbody>\n",
       "    <tr>\n",
       "      <th>0</th>\n",
       "      <td>ROBBERY</td>\n",
       "      <td>Monday</td>\n",
       "      <td>2004-11-22</td>\n",
       "      <td>17:50</td>\n",
       "      <td>-122.420084</td>\n",
       "      <td>37.708311</td>\n",
       "    </tr>\n",
       "    <tr>\n",
       "      <th>1</th>\n",
       "      <td>VEHICLE THEFT</td>\n",
       "      <td>Tuesday</td>\n",
       "      <td>2005-10-18</td>\n",
       "      <td>20:00</td>\n",
       "      <td>-120.500000</td>\n",
       "      <td>90.000000</td>\n",
       "    </tr>\n",
       "    <tr>\n",
       "      <th>2</th>\n",
       "      <td>VEHICLE THEFT</td>\n",
       "      <td>Sunday</td>\n",
       "      <td>2004-02-15</td>\n",
       "      <td>02:00</td>\n",
       "      <td>-120.500000</td>\n",
       "      <td>90.000000</td>\n",
       "    </tr>\n",
       "    <tr>\n",
       "      <th>3</th>\n",
       "      <td>ARSON</td>\n",
       "      <td>Friday</td>\n",
       "      <td>2011-02-18</td>\n",
       "      <td>05:27</td>\n",
       "      <td>-122.436220</td>\n",
       "      <td>37.724377</td>\n",
       "    </tr>\n",
       "    <tr>\n",
       "      <th>4</th>\n",
       "      <td>ASSAULT</td>\n",
       "      <td>Sunday</td>\n",
       "      <td>2010-11-21</td>\n",
       "      <td>17:00</td>\n",
       "      <td>-122.410541</td>\n",
       "      <td>37.770913</td>\n",
       "    </tr>\n",
       "  </tbody>\n",
       "</table>\n",
       "</div>\n",
       "      <button class=\"colab-df-convert\" onclick=\"convertToInteractive('df-90592c54-1633-4fc5-a806-e2ddb720ffef')\"\n",
       "              title=\"Convert this dataframe to an interactive table.\"\n",
       "              style=\"display:none;\">\n",
       "        \n",
       "  <svg xmlns=\"http://www.w3.org/2000/svg\" height=\"24px\"viewBox=\"0 0 24 24\"\n",
       "       width=\"24px\">\n",
       "    <path d=\"M0 0h24v24H0V0z\" fill=\"none\"/>\n",
       "    <path d=\"M18.56 5.44l.94 2.06.94-2.06 2.06-.94-2.06-.94-.94-2.06-.94 2.06-2.06.94zm-11 1L8.5 8.5l.94-2.06 2.06-.94-2.06-.94L8.5 2.5l-.94 2.06-2.06.94zm10 10l.94 2.06.94-2.06 2.06-.94-2.06-.94-.94-2.06-.94 2.06-2.06.94z\"/><path d=\"M17.41 7.96l-1.37-1.37c-.4-.4-.92-.59-1.43-.59-.52 0-1.04.2-1.43.59L10.3 9.45l-7.72 7.72c-.78.78-.78 2.05 0 2.83L4 21.41c.39.39.9.59 1.41.59.51 0 1.02-.2 1.41-.59l7.78-7.78 2.81-2.81c.8-.78.8-2.07 0-2.86zM5.41 20L4 18.59l7.72-7.72 1.47 1.35L5.41 20z\"/>\n",
       "  </svg>\n",
       "      </button>\n",
       "      \n",
       "  <style>\n",
       "    .colab-df-container {\n",
       "      display:flex;\n",
       "      flex-wrap:wrap;\n",
       "      gap: 12px;\n",
       "    }\n",
       "\n",
       "    .colab-df-convert {\n",
       "      background-color: #E8F0FE;\n",
       "      border: none;\n",
       "      border-radius: 50%;\n",
       "      cursor: pointer;\n",
       "      display: none;\n",
       "      fill: #1967D2;\n",
       "      height: 32px;\n",
       "      padding: 0 0 0 0;\n",
       "      width: 32px;\n",
       "    }\n",
       "\n",
       "    .colab-df-convert:hover {\n",
       "      background-color: #E2EBFA;\n",
       "      box-shadow: 0px 1px 2px rgba(60, 64, 67, 0.3), 0px 1px 3px 1px rgba(60, 64, 67, 0.15);\n",
       "      fill: #174EA6;\n",
       "    }\n",
       "\n",
       "    [theme=dark] .colab-df-convert {\n",
       "      background-color: #3B4455;\n",
       "      fill: #D2E3FC;\n",
       "    }\n",
       "\n",
       "    [theme=dark] .colab-df-convert:hover {\n",
       "      background-color: #434B5C;\n",
       "      box-shadow: 0px 1px 3px 1px rgba(0, 0, 0, 0.15);\n",
       "      filter: drop-shadow(0px 1px 2px rgba(0, 0, 0, 0.3));\n",
       "      fill: #FFFFFF;\n",
       "    }\n",
       "  </style>\n",
       "\n",
       "      <script>\n",
       "        const buttonEl =\n",
       "          document.querySelector('#df-90592c54-1633-4fc5-a806-e2ddb720ffef button.colab-df-convert');\n",
       "        buttonEl.style.display =\n",
       "          google.colab.kernel.accessAllowed ? 'block' : 'none';\n",
       "\n",
       "        async function convertToInteractive(key) {\n",
       "          const element = document.querySelector('#df-90592c54-1633-4fc5-a806-e2ddb720ffef');\n",
       "          const dataTable =\n",
       "            await google.colab.kernel.invokeFunction('convertToInteractive',\n",
       "                                                     [key], {});\n",
       "          if (!dataTable) return;\n",
       "\n",
       "          const docLinkHtml = 'Like what you see? Visit the ' +\n",
       "            '<a target=\"_blank\" href=https://colab.research.google.com/notebooks/data_table.ipynb>data table notebook</a>'\n",
       "            + ' to learn more about interactive tables.';\n",
       "          element.innerHTML = '';\n",
       "          dataTable['output_type'] = 'display_data';\n",
       "          await google.colab.output.renderOutput(dataTable, element);\n",
       "          const docLink = document.createElement('div');\n",
       "          docLink.innerHTML = docLinkHtml;\n",
       "          element.appendChild(docLink);\n",
       "        }\n",
       "      </script>\n",
       "    </div>\n",
       "  </div>\n",
       "  "
      ],
      "text/plain": [
       "  Incident_Category DayOfWeek        Date   Time   Longitude   Latitude\n",
       "0           ROBBERY    Monday  2004-11-22  17:50 -122.420084  37.708311\n",
       "1     VEHICLE THEFT   Tuesday  2005-10-18  20:00 -120.500000  90.000000\n",
       "2     VEHICLE THEFT    Sunday  2004-02-15  02:00 -120.500000  90.000000\n",
       "3             ARSON    Friday  2011-02-18  05:27 -122.436220  37.724377\n",
       "4           ASSAULT    Sunday  2010-11-21  17:00 -122.410541  37.770913"
      ]
     },
     "execution_count": 45,
     "metadata": {},
     "output_type": "execute_result"
    }
   ],
   "source": [
    "dfSanFran.head()"
   ]
  },
  {
   "cell_type": "code",
   "execution_count": 8,
   "metadata": {
    "id": "lBClYSSmIaiP"
   },
   "outputs": [],
   "source": [
    "dfSanFran = dfSanFran.dropna(axis=0)"
   ]
  },
  {
   "cell_type": "code",
   "execution_count": 9,
   "metadata": {
    "id": "havYuFzwImYF"
   },
   "outputs": [],
   "source": [
    "dfSanFran.reset_index().drop(['index'], axis=1, inplace=True)"
   ]
  },
  {
   "cell_type": "code",
   "execution_count": 10,
   "metadata": {
    "colab": {
     "base_uri": "https://localhost:8080/"
    },
    "executionInfo": {
     "elapsed": 1720,
     "status": "ok",
     "timestamp": 1680469599272,
     "user": {
      "displayName": "Priscylla Maria da Silva Sousa",
      "userId": "01315819574684442147"
     },
     "user_tz": 180
    },
    "id": "fEQp4540JWpO",
    "outputId": "1a3db675-6358-42c5-db53-61469daf4166"
   },
   "outputs": [],
   "source": [
    "### separando datas\n",
    "dfSanFran['Date'] = pd.to_datetime(dfSanFran['Date'])\n",
    "\n",
    "dfSanFran['Year'] = dfSanFran['Date'].dt.year\n",
    "dfSanFran['Month'] = dfSanFran['Date'].dt.month\n",
    "dfSanFran['Day'] = dfSanFran['Date'].dt.day\n",
    "\n",
    "dfSanFran['Time'] = pd.to_datetime(dfSanFran['Time'])\n",
    "dfSanFran['Time'] = dfSanFran['Time'] = dfSanFran['Time'].dt.hour"
   ]
  },
  {
   "cell_type": "code",
   "execution_count": 11,
   "metadata": {
    "colab": {
     "base_uri": "https://localhost:8080/"
    },
    "executionInfo": {
     "elapsed": 2200,
     "status": "ok",
     "timestamp": 1680469603623,
     "user": {
      "displayName": "Priscylla Maria da Silva Sousa",
      "userId": "01315819574684442147"
     },
     "user_tz": 180
    },
    "id": "2xl8YYtWKYUz",
    "outputId": "86add748-5b4e-441d-d1c3-bbd5eb026b11"
   },
   "outputs": [],
   "source": [
    "### tirando duplicatas\n",
    "dfSanFran.drop_duplicates(ignore_index = True, inplace = True)"
   ]
  },
  {
   "cell_type": "code",
   "execution_count": null,
   "metadata": {
    "colab": {
     "base_uri": "https://localhost:8080/"
    },
    "executionInfo": {
     "elapsed": 8,
     "status": "ok",
     "timestamp": 1680469603624,
     "user": {
      "displayName": "Priscylla Maria da Silva Sousa",
      "userId": "01315819574684442147"
     },
     "user_tz": 180
    },
    "id": "ZBpYFfImLWa3",
    "outputId": "ce784973-e5a5-4482-b98a-ac7e901a97bb"
   },
   "outputs": [
    {
     "data": {
      "text/plain": [
       "(2368078, 9)"
      ]
     },
     "execution_count": 50,
     "metadata": {},
     "output_type": "execute_result"
    }
   ],
   "source": [
    "dfSanFran.shape"
   ]
  },
  {
   "cell_type": "code",
   "execution_count": 12,
   "metadata": {
    "id": "kBcRbzpxMnMq"
   },
   "outputs": [],
   "source": [
    "indexDf = [index for index, row in dfSanFran.iterrows() if row.Year in [*range(2008, 2023)]]"
   ]
  },
  {
   "cell_type": "code",
   "execution_count": 13,
   "metadata": {
    "colab": {
     "base_uri": "https://localhost:8080/"
    },
    "executionInfo": {
     "elapsed": 26,
     "status": "ok",
     "timestamp": 1680469699526,
     "user": {
      "displayName": "Priscylla Maria da Silva Sousa",
      "userId": "01315819574684442147"
     },
     "user_tz": 180
    },
    "id": "0syDY8xeObAV",
    "outputId": "8f1369ad-09c4-4c4a-d403-16718b025bc8"
   },
   "outputs": [
    {
     "data": {
      "text/plain": [
       "2008    117374\n",
       "2009    115168\n",
       "2010    109164\n",
       "2011    108890\n",
       "2012    116437\n",
       "2013    126400\n",
       "2014    134649\n",
       "2015    140398\n",
       "2016     89815\n",
       "2017     83586\n",
       "2018    163638\n",
       "2019    128877\n",
       "2020    104110\n",
       "2021    112118\n",
       "2022    115241\n",
       "Name: Year, dtype: int64"
      ]
     },
     "execution_count": 13,
     "metadata": {},
     "output_type": "execute_result"
    }
   ],
   "source": [
    "rangeDf = dfSanFran.loc[indexDf, :]\n",
    "rangeDf['Year'].value_counts().sort_index()"
   ]
  },
  {
   "cell_type": "code",
   "execution_count": null,
   "metadata": {
    "colab": {
     "base_uri": "https://localhost:8080/"
    },
    "executionInfo": {
     "elapsed": 5,
     "status": "ok",
     "timestamp": 1680469699527,
     "user": {
      "displayName": "Priscylla Maria da Silva Sousa",
      "userId": "01315819574684442147"
     },
     "user_tz": 180
    },
    "id": "fQVPTsU-qwpG",
    "outputId": "3f46a8a4-ff8a-4c8c-afb6-d701510a6c08"
   },
   "outputs": [
    {
     "name": "stdout",
     "output_type": "stream",
     "text": [
      "<class 'pandas.core.frame.DataFrame'>\n",
      "RangeIndex: 2368078 entries, 0 to 2368077\n",
      "Data columns (total 9 columns):\n",
      " #   Column             Dtype         \n",
      "---  ------             -----         \n",
      " 0   Incident_Category  object        \n",
      " 1   DayOfWeek          object        \n",
      " 2   Date               datetime64[ns]\n",
      " 3   Time               int64         \n",
      " 4   Longitude          float64       \n",
      " 5   Latitude           float64       \n",
      " 6   Year               int64         \n",
      " 7   Month              int64         \n",
      " 8   Day                int64         \n",
      "dtypes: datetime64[ns](1), float64(2), int64(4), object(2)\n",
      "memory usage: 162.6+ MB\n"
     ]
    }
   ],
   "source": [
    "#2368078, 9\n",
    "dfSanFran.info()"
   ]
  },
  {
   "cell_type": "code",
   "execution_count": 14,
   "metadata": {
    "colab": {
     "base_uri": "https://localhost:8080/"
    },
    "executionInfo": {
     "elapsed": 10034,
     "status": "ok",
     "timestamp": 1680468852319,
     "user": {
      "displayName": "Priscylla Maria da Silva Sousa",
      "userId": "01315819574684442147"
     },
     "user_tz": 180
    },
    "id": "aDaA77JGxtqs",
    "outputId": "1eb6009f-5449-4f2f-8c10-c0c8b36d4c4b"
   },
   "outputs": [
    {
     "name": "stdout",
     "output_type": "stream",
     "text": [
      "Requirement already satisfied: geopandas in c:\\users\\geniar\\anaconda3\\lib\\site-packages (0.12.2)\n",
      "Requirement already satisfied: fiona>=1.8 in c:\\users\\geniar\\anaconda3\\lib\\site-packages (from geopandas) (1.9.3)\n",
      "Requirement already satisfied: packaging in c:\\users\\geniar\\anaconda3\\lib\\site-packages (from geopandas) (22.0)\n",
      "Requirement already satisfied: shapely>=1.7 in c:\\users\\geniar\\anaconda3\\lib\\site-packages (from geopandas) (2.0.1)\n",
      "Requirement already satisfied: pyproj>=2.6.1.post1 in c:\\users\\geniar\\anaconda3\\lib\\site-packages (from geopandas) (3.5.0)\n",
      "Requirement already satisfied: pandas>=1.0.0 in c:\\users\\geniar\\anaconda3\\lib\\site-packages (from geopandas) (1.5.3)\n",
      "Requirement already satisfied: munch>=2.3.2 in c:\\users\\geniar\\anaconda3\\lib\\site-packages (from fiona>=1.8->geopandas) (2.5.0)\n",
      "Requirement already satisfied: attrs>=19.2.0 in c:\\users\\geniar\\anaconda3\\lib\\site-packages (from fiona>=1.8->geopandas) (22.1.0)\n",
      "Requirement already satisfied: certifi in c:\\users\\geniar\\anaconda3\\lib\\site-packages (from fiona>=1.8->geopandas) (2022.12.7)\n",
      "Requirement already satisfied: click~=8.0 in c:\\users\\geniar\\anaconda3\\lib\\site-packages (from fiona>=1.8->geopandas) (8.0.4)\n",
      "Requirement already satisfied: click-plugins>=1.0 in c:\\users\\geniar\\anaconda3\\lib\\site-packages (from fiona>=1.8->geopandas) (1.1.1)\n",
      "Requirement already satisfied: cligj>=0.5 in c:\\users\\geniar\\anaconda3\\lib\\site-packages (from fiona>=1.8->geopandas) (0.7.2)\n",
      "Requirement already satisfied: python-dateutil>=2.8.1 in c:\\users\\geniar\\anaconda3\\lib\\site-packages (from pandas>=1.0.0->geopandas) (2.8.2)\n",
      "Requirement already satisfied: pytz>=2020.1 in c:\\users\\geniar\\anaconda3\\lib\\site-packages (from pandas>=1.0.0->geopandas) (2022.7)\n",
      "Requirement already satisfied: numpy>=1.21.0 in c:\\users\\geniar\\anaconda3\\lib\\site-packages (from pandas>=1.0.0->geopandas) (1.23.5)\n",
      "Requirement already satisfied: colorama in c:\\users\\geniar\\anaconda3\\lib\\site-packages (from click~=8.0->fiona>=1.8->geopandas) (0.4.6)\n",
      "Requirement already satisfied: six in c:\\users\\geniar\\anaconda3\\lib\\site-packages (from munch>=2.3.2->fiona>=1.8->geopandas) (1.16.0)\n",
      "Note: you may need to restart the kernel to use updated packages.\n"
     ]
    }
   ],
   "source": [
    "pip install geopandas"
   ]
  },
  {
   "cell_type": "code",
   "execution_count": 15,
   "metadata": {
    "id": "yq2FYYVYxyBa"
   },
   "outputs": [],
   "source": [
    "import geopandas as gpd\n",
    "from shapely.geometry import Point"
   ]
  },
  {
   "cell_type": "code",
   "execution_count": 16,
   "metadata": {
    "colab": {
     "base_uri": "https://localhost:8080/"
    },
    "executionInfo": {
     "elapsed": 1183,
     "status": "ok",
     "timestamp": 1680469700707,
     "user": {
      "displayName": "Priscylla Maria da Silva Sousa",
      "userId": "01315819574684442147"
     },
     "user_tz": 180
    },
    "id": "2T9RnxJGzHsU",
    "outputId": "914176ff-4ae5-4615-a255-40b6bf560088"
   },
   "outputs": [
    {
     "data": {
      "text/plain": [
       "<Projected CRS: EPSG:7131>\n",
       "Name: NAD83(2011) / San Francisco CS13\n",
       "Axis Info [cartesian]:\n",
       "- X[east]: Easting (metre)\n",
       "- Y[north]: Northing (metre)\n",
       "Area of Use:\n",
       "- name: United States (USA) - California - San Francisco bay area - counties of Alameda, Contra Costa, Marin, Napa, San Francisco, San Mateo, Santa Clara, Santa Cruz, Solano and Sonoma.\n",
       "- bounds: (-123.56, 36.85, -121.2, 38.87)\n",
       "Coordinate Operation:\n",
       "- name: City and County of San Francisco CS13 (meters)\n",
       "- method: Transverse Mercator\n",
       "Datum: NAD83 (National Spatial Reference System 2011)\n",
       "- Ellipsoid: GRS 1980\n",
       "- Prime Meridian: Greenwich"
      ]
     },
     "execution_count": 16,
     "metadata": {},
     "output_type": "execute_result"
    }
   ],
   "source": [
    "coord = gpd.GeoDataFrame(rangeDf, geometry=gpd.points_from_xy(rangeDf.Latitude, rangeDf.Longitude))\n",
    "coord.crs = 'EPSG:7131'\n",
    "coord.crs"
   ]
  },
  {
   "cell_type": "code",
   "execution_count": 20,
   "metadata": {
    "id": "AuNDkp_m0fa6"
   },
   "outputs": [],
   "source": [
    "#unzip '/content/drive/MyDrive/Pessoal/girleide/SF Find Neighborhoods.zip'\n",
    "mapa = gpd.read_file('./SF Find Neighborhoods.zip (Unzipped Files)/geo_export_1e0a72d7-85f1-4091-924b-eb8389c0d1d7.shp')\n",
    "\n",
    "#mapa = gpd.read_file('/content/drive/MyDrive/SF Find Neighborhoods.zip (Unzipped Files)/geo_export_1e0a72d7-85f1-4091-924b-eb8389c0d1d7.shp')"
   ]
  },
  {
   "cell_type": "code",
   "execution_count": 21,
   "metadata": {
    "colab": {
     "base_uri": "https://localhost:8080/"
    },
    "executionInfo": {
     "elapsed": 69099,
     "status": "ok",
     "timestamp": 1680469769803,
     "user": {
      "displayName": "Priscylla Maria da Silva Sousa",
      "userId": "01315819574684442147"
     },
     "user_tz": 180
    },
    "id": "Ho3BuA4yx1iR",
    "outputId": "800012d8-f114-42c5-fb99-464584610e2a"
   },
   "outputs": [
    {
     "name": "stderr",
     "output_type": "stream",
     "text": [
      "C:\\Users\\Geniar\\anaconda3\\lib\\site-packages\\pyproj\\crs\\crs.py:141: FutureWarning: '+init=<authority>:<code>' syntax is deprecated. '<authority>:<code>' is the preferred initialization method. When making the change, be mindful of axis order changes: https://pyproj4.github.io/pyproj/stable/gotchas.html#axis-order-changes-in-proj-6\n",
      "  in_crs_string = _prepare_from_proj_string(in_crs_string)\n",
      "C:\\Users\\Geniar\\anaconda3\\lib\\site-packages\\IPython\\core\\interactiveshell.py:3400: FutureWarning: The `op` parameter is deprecated and will be removed in a future release. Please use the `predicate` parameter instead.\n",
      "  if await self.run_code(code, result, async_=asy):\n",
      "C:\\Users\\Geniar\\AppData\\Local\\Temp\\ipykernel_5108\\3296484654.py:4: UserWarning: CRS mismatch between the CRS of left geometries and the CRS of right geometries.\n",
      "Use `to_crs()` to reproject one of the input geometries to match the CRS of the other.\n",
      "\n",
      "Left CRS: GEOGCS[\"WGS84(DD)\",DATUM[\"WGS84\",SPHEROID[\"WGS84\", ...\n",
      "Right CRS: EPSG:7131\n",
      "\n",
      "  crimes_inside_sanfran = gpd.sjoin(mapa, geo_crimes, op = 'intersects') #filtro\n"
     ]
    }
   ],
   "source": [
    "rangeDf['geometry'] = rangeDf.apply(lambda x: Point((x.Longitude, x.Latitude)), axis = 1)\n",
    "crimes_crs = {'init': 'epsg:7131'}\n",
    "geo_crimes = gpd.GeoDataFrame(rangeDf,crs = crimes_crs,geometry = rangeDf.geometry)\n",
    "crimes_inside_sanfran = gpd.sjoin(mapa, geo_crimes, op = 'intersects') #filtro"
   ]
  },
  {
   "cell_type": "code",
   "execution_count": null,
   "metadata": {
    "colab": {
     "base_uri": "https://localhost:8080/",
     "height": 1000
    },
    "executionInfo": {
     "elapsed": 14,
     "status": "ok",
     "timestamp": 1680469769803,
     "user": {
      "displayName": "Priscylla Maria da Silva Sousa",
      "userId": "01315819574684442147"
     },
     "user_tz": 180
    },
    "id": "CKfObFHaKtRb",
    "outputId": "40c39cdd-aac0-47e8-b568-98bd8567546f"
   },
   "outputs": [
    {
     "data": {
      "text/html": [
       "\n",
       "  <div id=\"df-909ef355-0962-476a-8bf7-8a84a8d39827\">\n",
       "    <div class=\"colab-df-container\">\n",
       "      <div>\n",
       "<style scoped>\n",
       "    .dataframe tbody tr th:only-of-type {\n",
       "        vertical-align: middle;\n",
       "    }\n",
       "\n",
       "    .dataframe tbody tr th {\n",
       "        vertical-align: top;\n",
       "    }\n",
       "\n",
       "    .dataframe thead th {\n",
       "        text-align: right;\n",
       "    }\n",
       "</style>\n",
       "<table border=\"1\" class=\"dataframe\">\n",
       "  <thead>\n",
       "    <tr style=\"text-align: right;\">\n",
       "      <th></th>\n",
       "      <th>link</th>\n",
       "      <th>name</th>\n",
       "      <th>geometry</th>\n",
       "      <th>index_right</th>\n",
       "      <th>Incident_Category</th>\n",
       "      <th>DayOfWeek</th>\n",
       "      <th>Date</th>\n",
       "      <th>Time</th>\n",
       "      <th>Longitude</th>\n",
       "      <th>Latitude</th>\n",
       "      <th>Year</th>\n",
       "      <th>Month</th>\n",
       "      <th>Day</th>\n",
       "    </tr>\n",
       "  </thead>\n",
       "  <tbody>\n",
       "    <tr>\n",
       "      <th>0</th>\n",
       "      <td>http://en.wikipedia.org/wiki/Sea_Cliff,_San_Fr...</td>\n",
       "      <td>Seacliff</td>\n",
       "      <td>POLYGON ((-122.49346 37.78352, -122.49373 37.7...</td>\n",
       "      <td>22868</td>\n",
       "      <td>LARCENY/THEFT</td>\n",
       "      <td>Saturday</td>\n",
       "      <td>2013-12-14</td>\n",
       "      <td>18</td>\n",
       "      <td>-122.488768</td>\n",
       "      <td>37.783767</td>\n",
       "      <td>2013</td>\n",
       "      <td>12</td>\n",
       "      <td>14</td>\n",
       "    </tr>\n",
       "    <tr>\n",
       "      <th>0</th>\n",
       "      <td>http://en.wikipedia.org/wiki/Sea_Cliff,_San_Fr...</td>\n",
       "      <td>Seacliff</td>\n",
       "      <td>POLYGON ((-122.49346 37.78352, -122.49373 37.7...</td>\n",
       "      <td>1564351</td>\n",
       "      <td>VEHICLE THEFT</td>\n",
       "      <td>Sunday</td>\n",
       "      <td>2015-09-13</td>\n",
       "      <td>21</td>\n",
       "      <td>-122.488768</td>\n",
       "      <td>37.783767</td>\n",
       "      <td>2015</td>\n",
       "      <td>9</td>\n",
       "      <td>13</td>\n",
       "    </tr>\n",
       "    <tr>\n",
       "      <th>0</th>\n",
       "      <td>http://en.wikipedia.org/wiki/Sea_Cliff,_San_Fr...</td>\n",
       "      <td>Seacliff</td>\n",
       "      <td>POLYGON ((-122.49346 37.78352, -122.49373 37.7...</td>\n",
       "      <td>467883</td>\n",
       "      <td>LARCENY/THEFT</td>\n",
       "      <td>Wednesday</td>\n",
       "      <td>2009-04-22</td>\n",
       "      <td>15</td>\n",
       "      <td>-122.493014</td>\n",
       "      <td>37.783575</td>\n",
       "      <td>2009</td>\n",
       "      <td>4</td>\n",
       "      <td>22</td>\n",
       "    </tr>\n",
       "    <tr>\n",
       "      <th>0</th>\n",
       "      <td>http://en.wikipedia.org/wiki/Sea_Cliff,_San_Fr...</td>\n",
       "      <td>Seacliff</td>\n",
       "      <td>POLYGON ((-122.49346 37.78352, -122.49373 37.7...</td>\n",
       "      <td>1730755</td>\n",
       "      <td>SUSPICIOUS OCC</td>\n",
       "      <td>Thursday</td>\n",
       "      <td>2008-01-17</td>\n",
       "      <td>16</td>\n",
       "      <td>-122.493014</td>\n",
       "      <td>37.783575</td>\n",
       "      <td>2008</td>\n",
       "      <td>1</td>\n",
       "      <td>17</td>\n",
       "    </tr>\n",
       "    <tr>\n",
       "      <th>0</th>\n",
       "      <td>http://en.wikipedia.org/wiki/Sea_Cliff,_San_Fr...</td>\n",
       "      <td>Seacliff</td>\n",
       "      <td>POLYGON ((-122.49346 37.78352, -122.49373 37.7...</td>\n",
       "      <td>580383</td>\n",
       "      <td>LARCENY/THEFT</td>\n",
       "      <td>Monday</td>\n",
       "      <td>2009-08-31</td>\n",
       "      <td>11</td>\n",
       "      <td>-122.493014</td>\n",
       "      <td>37.783575</td>\n",
       "      <td>2009</td>\n",
       "      <td>8</td>\n",
       "      <td>31</td>\n",
       "    </tr>\n",
       "    <tr>\n",
       "      <th>...</th>\n",
       "      <td>...</td>\n",
       "      <td>...</td>\n",
       "      <td>...</td>\n",
       "      <td>...</td>\n",
       "      <td>...</td>\n",
       "      <td>...</td>\n",
       "      <td>...</td>\n",
       "      <td>...</td>\n",
       "      <td>...</td>\n",
       "      <td>...</td>\n",
       "      <td>...</td>\n",
       "      <td>...</td>\n",
       "      <td>...</td>\n",
       "    </tr>\n",
       "    <tr>\n",
       "      <th>116</th>\n",
       "      <td>http://en.wikipedia.org/wiki/Neighborhoods_in_...</td>\n",
       "      <td>Sherwood Forest</td>\n",
       "      <td>POLYGON ((-122.45890 37.74054, -122.45877 37.7...</td>\n",
       "      <td>1874885</td>\n",
       "      <td>Other Miscellaneous</td>\n",
       "      <td>Wednesday</td>\n",
       "      <td>2022-05-25</td>\n",
       "      <td>22</td>\n",
       "      <td>-122.458905</td>\n",
       "      <td>37.740535</td>\n",
       "      <td>2022</td>\n",
       "      <td>5</td>\n",
       "      <td>25</td>\n",
       "    </tr>\n",
       "    <tr>\n",
       "      <th>116</th>\n",
       "      <td>http://en.wikipedia.org/wiki/Neighborhoods_in_...</td>\n",
       "      <td>Sherwood Forest</td>\n",
       "      <td>POLYGON ((-122.45890 37.74054, -122.45877 37.7...</td>\n",
       "      <td>1800707</td>\n",
       "      <td>Motor Vehicle Theft</td>\n",
       "      <td>Tuesday</td>\n",
       "      <td>2021-07-27</td>\n",
       "      <td>20</td>\n",
       "      <td>-122.458905</td>\n",
       "      <td>37.740535</td>\n",
       "      <td>2021</td>\n",
       "      <td>7</td>\n",
       "      <td>27</td>\n",
       "    </tr>\n",
       "    <tr>\n",
       "      <th>116</th>\n",
       "      <td>http://en.wikipedia.org/wiki/Neighborhoods_in_...</td>\n",
       "      <td>Sherwood Forest</td>\n",
       "      <td>POLYGON ((-122.45890 37.74054, -122.45877 37.7...</td>\n",
       "      <td>1859059</td>\n",
       "      <td>Weapons Offense</td>\n",
       "      <td>Sunday</td>\n",
       "      <td>2022-07-03</td>\n",
       "      <td>23</td>\n",
       "      <td>-122.458905</td>\n",
       "      <td>37.740535</td>\n",
       "      <td>2022</td>\n",
       "      <td>7</td>\n",
       "      <td>3</td>\n",
       "    </tr>\n",
       "    <tr>\n",
       "      <th>116</th>\n",
       "      <td>http://en.wikipedia.org/wiki/Neighborhoods_in_...</td>\n",
       "      <td>Sherwood Forest</td>\n",
       "      <td>POLYGON ((-122.45890 37.74054, -122.45877 37.7...</td>\n",
       "      <td>1951729</td>\n",
       "      <td>Recovered Vehicle</td>\n",
       "      <td>Saturday</td>\n",
       "      <td>2018-01-27</td>\n",
       "      <td>15</td>\n",
       "      <td>-122.458905</td>\n",
       "      <td>37.740535</td>\n",
       "      <td>2018</td>\n",
       "      <td>1</td>\n",
       "      <td>27</td>\n",
       "    </tr>\n",
       "    <tr>\n",
       "      <th>116</th>\n",
       "      <td>http://en.wikipedia.org/wiki/Neighborhoods_in_...</td>\n",
       "      <td>Sherwood Forest</td>\n",
       "      <td>POLYGON ((-122.45890 37.74054, -122.45877 37.7...</td>\n",
       "      <td>1948418</td>\n",
       "      <td>Burglary</td>\n",
       "      <td>Tuesday</td>\n",
       "      <td>2021-02-16</td>\n",
       "      <td>4</td>\n",
       "      <td>-122.458905</td>\n",
       "      <td>37.740535</td>\n",
       "      <td>2021</td>\n",
       "      <td>2</td>\n",
       "      <td>16</td>\n",
       "    </tr>\n",
       "  </tbody>\n",
       "</table>\n",
       "<p>1776238 rows × 13 columns</p>\n",
       "</div>\n",
       "      <button class=\"colab-df-convert\" onclick=\"convertToInteractive('df-909ef355-0962-476a-8bf7-8a84a8d39827')\"\n",
       "              title=\"Convert this dataframe to an interactive table.\"\n",
       "              style=\"display:none;\">\n",
       "        \n",
       "  <svg xmlns=\"http://www.w3.org/2000/svg\" height=\"24px\"viewBox=\"0 0 24 24\"\n",
       "       width=\"24px\">\n",
       "    <path d=\"M0 0h24v24H0V0z\" fill=\"none\"/>\n",
       "    <path d=\"M18.56 5.44l.94 2.06.94-2.06 2.06-.94-2.06-.94-.94-2.06-.94 2.06-2.06.94zm-11 1L8.5 8.5l.94-2.06 2.06-.94-2.06-.94L8.5 2.5l-.94 2.06-2.06.94zm10 10l.94 2.06.94-2.06 2.06-.94-2.06-.94-.94-2.06-.94 2.06-2.06.94z\"/><path d=\"M17.41 7.96l-1.37-1.37c-.4-.4-.92-.59-1.43-.59-.52 0-1.04.2-1.43.59L10.3 9.45l-7.72 7.72c-.78.78-.78 2.05 0 2.83L4 21.41c.39.39.9.59 1.41.59.51 0 1.02-.2 1.41-.59l7.78-7.78 2.81-2.81c.8-.78.8-2.07 0-2.86zM5.41 20L4 18.59l7.72-7.72 1.47 1.35L5.41 20z\"/>\n",
       "  </svg>\n",
       "      </button>\n",
       "      \n",
       "  <style>\n",
       "    .colab-df-container {\n",
       "      display:flex;\n",
       "      flex-wrap:wrap;\n",
       "      gap: 12px;\n",
       "    }\n",
       "\n",
       "    .colab-df-convert {\n",
       "      background-color: #E8F0FE;\n",
       "      border: none;\n",
       "      border-radius: 50%;\n",
       "      cursor: pointer;\n",
       "      display: none;\n",
       "      fill: #1967D2;\n",
       "      height: 32px;\n",
       "      padding: 0 0 0 0;\n",
       "      width: 32px;\n",
       "    }\n",
       "\n",
       "    .colab-df-convert:hover {\n",
       "      background-color: #E2EBFA;\n",
       "      box-shadow: 0px 1px 2px rgba(60, 64, 67, 0.3), 0px 1px 3px 1px rgba(60, 64, 67, 0.15);\n",
       "      fill: #174EA6;\n",
       "    }\n",
       "\n",
       "    [theme=dark] .colab-df-convert {\n",
       "      background-color: #3B4455;\n",
       "      fill: #D2E3FC;\n",
       "    }\n",
       "\n",
       "    [theme=dark] .colab-df-convert:hover {\n",
       "      background-color: #434B5C;\n",
       "      box-shadow: 0px 1px 3px 1px rgba(0, 0, 0, 0.15);\n",
       "      filter: drop-shadow(0px 1px 2px rgba(0, 0, 0, 0.3));\n",
       "      fill: #FFFFFF;\n",
       "    }\n",
       "  </style>\n",
       "\n",
       "      <script>\n",
       "        const buttonEl =\n",
       "          document.querySelector('#df-909ef355-0962-476a-8bf7-8a84a8d39827 button.colab-df-convert');\n",
       "        buttonEl.style.display =\n",
       "          google.colab.kernel.accessAllowed ? 'block' : 'none';\n",
       "\n",
       "        async function convertToInteractive(key) {\n",
       "          const element = document.querySelector('#df-909ef355-0962-476a-8bf7-8a84a8d39827');\n",
       "          const dataTable =\n",
       "            await google.colab.kernel.invokeFunction('convertToInteractive',\n",
       "                                                     [key], {});\n",
       "          if (!dataTable) return;\n",
       "\n",
       "          const docLinkHtml = 'Like what you see? Visit the ' +\n",
       "            '<a target=\"_blank\" href=https://colab.research.google.com/notebooks/data_table.ipynb>data table notebook</a>'\n",
       "            + ' to learn more about interactive tables.';\n",
       "          element.innerHTML = '';\n",
       "          dataTable['output_type'] = 'display_data';\n",
       "          await google.colab.output.renderOutput(dataTable, element);\n",
       "          const docLink = document.createElement('div');\n",
       "          docLink.innerHTML = docLinkHtml;\n",
       "          element.appendChild(docLink);\n",
       "        }\n",
       "      </script>\n",
       "    </div>\n",
       "  </div>\n",
       "  "
      ],
      "text/plain": [
       "                                                  link             name  \\\n",
       "0    http://en.wikipedia.org/wiki/Sea_Cliff,_San_Fr...         Seacliff   \n",
       "0    http://en.wikipedia.org/wiki/Sea_Cliff,_San_Fr...         Seacliff   \n",
       "0    http://en.wikipedia.org/wiki/Sea_Cliff,_San_Fr...         Seacliff   \n",
       "0    http://en.wikipedia.org/wiki/Sea_Cliff,_San_Fr...         Seacliff   \n",
       "0    http://en.wikipedia.org/wiki/Sea_Cliff,_San_Fr...         Seacliff   \n",
       "..                                                 ...              ...   \n",
       "116  http://en.wikipedia.org/wiki/Neighborhoods_in_...  Sherwood Forest   \n",
       "116  http://en.wikipedia.org/wiki/Neighborhoods_in_...  Sherwood Forest   \n",
       "116  http://en.wikipedia.org/wiki/Neighborhoods_in_...  Sherwood Forest   \n",
       "116  http://en.wikipedia.org/wiki/Neighborhoods_in_...  Sherwood Forest   \n",
       "116  http://en.wikipedia.org/wiki/Neighborhoods_in_...  Sherwood Forest   \n",
       "\n",
       "                                              geometry  index_right  \\\n",
       "0    POLYGON ((-122.49346 37.78352, -122.49373 37.7...        22868   \n",
       "0    POLYGON ((-122.49346 37.78352, -122.49373 37.7...      1564351   \n",
       "0    POLYGON ((-122.49346 37.78352, -122.49373 37.7...       467883   \n",
       "0    POLYGON ((-122.49346 37.78352, -122.49373 37.7...      1730755   \n",
       "0    POLYGON ((-122.49346 37.78352, -122.49373 37.7...       580383   \n",
       "..                                                 ...          ...   \n",
       "116  POLYGON ((-122.45890 37.74054, -122.45877 37.7...      1874885   \n",
       "116  POLYGON ((-122.45890 37.74054, -122.45877 37.7...      1800707   \n",
       "116  POLYGON ((-122.45890 37.74054, -122.45877 37.7...      1859059   \n",
       "116  POLYGON ((-122.45890 37.74054, -122.45877 37.7...      1951729   \n",
       "116  POLYGON ((-122.45890 37.74054, -122.45877 37.7...      1948418   \n",
       "\n",
       "       Incident_Category  DayOfWeek       Date  Time   Longitude   Latitude  \\\n",
       "0          LARCENY/THEFT   Saturday 2013-12-14    18 -122.488768  37.783767   \n",
       "0          VEHICLE THEFT     Sunday 2015-09-13    21 -122.488768  37.783767   \n",
       "0          LARCENY/THEFT  Wednesday 2009-04-22    15 -122.493014  37.783575   \n",
       "0         SUSPICIOUS OCC   Thursday 2008-01-17    16 -122.493014  37.783575   \n",
       "0          LARCENY/THEFT     Monday 2009-08-31    11 -122.493014  37.783575   \n",
       "..                   ...        ...        ...   ...         ...        ...   \n",
       "116  Other Miscellaneous  Wednesday 2022-05-25    22 -122.458905  37.740535   \n",
       "116  Motor Vehicle Theft    Tuesday 2021-07-27    20 -122.458905  37.740535   \n",
       "116      Weapons Offense     Sunday 2022-07-03    23 -122.458905  37.740535   \n",
       "116    Recovered Vehicle   Saturday 2018-01-27    15 -122.458905  37.740535   \n",
       "116             Burglary    Tuesday 2021-02-16     4 -122.458905  37.740535   \n",
       "\n",
       "     Year  Month  Day  \n",
       "0    2013     12   14  \n",
       "0    2015      9   13  \n",
       "0    2009      4   22  \n",
       "0    2008      1   17  \n",
       "0    2009      8   31  \n",
       "..    ...    ...  ...  \n",
       "116  2022      5   25  \n",
       "116  2021      7   27  \n",
       "116  2022      7    3  \n",
       "116  2018      1   27  \n",
       "116  2021      2   16  \n",
       "\n",
       "[1776238 rows x 13 columns]"
      ]
     },
     "execution_count": 58,
     "metadata": {},
     "output_type": "execute_result"
    }
   ],
   "source": [
    "crimes_inside_sanfran"
   ]
  },
  {
   "cell_type": "code",
   "execution_count": null,
   "metadata": {
    "id": "_m1xirNN2gFP"
   },
   "outputs": [],
   "source": [
    "crimes_inside_sanfran.drop_duplicates(ignore_index = True, inplace = True)"
   ]
  },
  {
   "cell_type": "code",
   "execution_count": 23,
   "metadata": {
    "id": "7MCtRXRW3W9P"
   },
   "outputs": [],
   "source": [
    "crimes_inside_sanfran.rename(columns={'index_right':'fips'}, inplace= True)"
   ]
  },
  {
   "cell_type": "code",
   "execution_count": null,
   "metadata": {
    "colab": {
     "base_uri": "https://localhost:8080/"
    },
    "executionInfo": {
     "elapsed": 4,
     "status": "ok",
     "timestamp": 1680469883433,
     "user": {
      "displayName": "Priscylla Maria da Silva Sousa",
      "userId": "01315819574684442147"
     },
     "user_tz": 180
    },
    "id": "AQM7_cuBy3Sy",
    "outputId": "2bbe48fe-303e-420e-9db5-f2de4c35a1ff"
   },
   "outputs": [
    {
     "name": "stdout",
     "output_type": "stream",
     "text": [
      "<class 'geopandas.geodataframe.GeoDataFrame'>\n",
      "RangeIndex: 1776238 entries, 0 to 1776237\n",
      "Data columns (total 13 columns):\n",
      " #   Column       Dtype         \n",
      "---  ------       -----         \n",
      " 0   link         object        \n",
      " 1   name         object        \n",
      " 2   geometry     geometry      \n",
      " 3   index_right  int64         \n",
      " 4   Category     object        \n",
      " 5   DayOfWeek    object        \n",
      " 6   Date         datetime64[ns]\n",
      " 7   Time         int64         \n",
      " 8   Longitude    float64       \n",
      " 9   Latitude     float64       \n",
      " 10  Year         int64         \n",
      " 11  Month        int64         \n",
      " 12  Day          int64         \n",
      "dtypes: datetime64[ns](1), float64(2), geometry(1), int64(5), object(4)\n",
      "memory usage: 176.2+ MB\n"
     ]
    }
   ],
   "source": [
    "crimes_inside_sanfran.info()"
   ]
  },
  {
   "cell_type": "code",
   "execution_count": null,
   "metadata": {
    "id": "ywKjgU2j6Eiz"
   },
   "outputs": [],
   "source": [
    "import matplotlib.pyplot as plt"
   ]
  },
  {
   "cell_type": "code",
   "execution_count": null,
   "metadata": {
    "colab": {
     "base_uri": "https://localhost:8080/",
     "height": 466
    },
    "executionInfo": {
     "elapsed": 6329,
     "status": "ok",
     "timestamp": 1680470052391,
     "user": {
      "displayName": "Priscylla Maria da Silva Sousa",
      "userId": "01315819574684442147"
     },
     "user_tz": 180
    },
    "id": "caPfBWU56K6b",
    "outputId": "3f062f54-d006-4722-aaa7-6b2c1d1a3491"
   },
   "outputs": [
    {
     "data": {
      "text/plain": [
       "Text(0, 0.5, 'Latitude')"
      ]
     },
     "execution_count": 64,
     "metadata": {},
     "output_type": "execute_result"
    },
    {
     "data": {
      "image/png": "[encoded data removed]",
      "text/plain": [
       "<Figure size 640x480 with 1 Axes>"
      ]
     },
     "metadata": {},
     "output_type": "display_data"
    }
   ],
   "source": [
    "plt.scatter(crimes_inside_sanfran.Longitude, crimes_inside_sanfran.Latitude,\n",
    "            c = 'darkgreen', marker = 'p')\n",
    "plt.xlabel('Longitude')\n",
    "plt.ylabel('Latitude')"
   ]
  },
  {
   "cell_type": "code",
   "execution_count": 24,
   "metadata": {
    "id": "3HdaLYjTKgAp"
   },
   "outputs": [],
   "source": [
    "crimes_inside_sanfran = crimes_inside_sanfran.filter(['Category', 'Date', 'Year', 'Latitude',\n",
    "       'Longitude', 'Month', 'Day', 'Time', 'DayOfWeek', 'geometry', 'name','fips']).reset_index().drop(['index'], axis=1)"
   ]
  },
  {
   "cell_type": "code",
   "execution_count": null,
   "metadata": {
    "colab": {
     "base_uri": "https://localhost:8080/"
    },
    "executionInfo": {
     "elapsed": 4,
     "status": "ok",
     "timestamp": 1680470100417,
     "user": {
      "displayName": "Priscylla Maria da Silva Sousa",
      "userId": "01315819574684442147"
     },
     "user_tz": 180
    },
    "id": "B7OXlDraxiuC",
    "outputId": "0a3094e9-8124-4498-b98e-77d45b8aa165"
   },
   "outputs": [
    {
     "name": "stdout",
     "output_type": "stream",
     "text": [
      "<class 'geopandas.geodataframe.GeoDataFrame'>\n",
      "RangeIndex: 1776238 entries, 0 to 1776237\n",
      "Data columns (total 10 columns):\n",
      " #   Column     Dtype         \n",
      "---  ------     -----         \n",
      " 0   Category   object        \n",
      " 1   Date       datetime64[ns]\n",
      " 2   Year       int64         \n",
      " 3   Latitude   float64       \n",
      " 4   Longitude  float64       \n",
      " 5   Month      int64         \n",
      " 6   Day        int64         \n",
      " 7   Time       int64         \n",
      " 8   DayOfWeek  object        \n",
      " 9   geometry   geometry      \n",
      "dtypes: datetime64[ns](1), float64(2), geometry(1), int64(4), object(2)\n",
      "memory usage: 135.5+ MB\n"
     ]
    }
   ],
   "source": [
    "crimes_inside_sanfran.info()"
   ]
  },
  {
   "cell_type": "code",
   "execution_count": 26,
   "metadata": {
    "id": "jKnQCnBnPtb2"
   },
   "outputs": [],
   "source": [
    "crimes_inside_sanfran.to_csv('san-francisco-crimes-2008-2022_2.csv')"
   ]
  },
  {
   "cell_type": "code",
   "execution_count": null,
   "metadata": {
    "id": "RYHlq8nQ4Div"
   },
   "outputs": [],
   "source": [
    "!cp san-francisco-crimes-2008-2022.csv '/content/drive/MyDrive/Pessoal/girleide/'"
   ]
  }
 ],
 "metadata": {
  "accelerator": "GPU",
  "colab": {
   "machine_shape": "hm",
   "provenance": []
  },
  "gpuClass": "premium",
  "kernelspec": {
   "display_name": "Python 3 (ipykernel)",
   "language": "python",
   "name": "python3"
  },
  "language_info": {
   "codemirror_mode": {
    "name": "ipython",
    "version": 3
   },
   "file_extension": ".py",
   "mimetype": "text/x-python",
   "name": "python",
   "nbconvert_exporter": "python",
   "pygments_lexer": "ipython3",
   "version": "3.10.9"
  }
 },
 "nbformat": 4,
 "nbformat_minor": 1
}
