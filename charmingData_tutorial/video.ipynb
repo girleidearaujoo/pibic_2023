{
 "cells": [
  {
   "cell_type": "code",
   "execution_count": 1,
   "id": "f320874a",
   "metadata": {},
   "outputs": [],
   "source": [
    "### Hello World\n",
    "\n",
    "from dash import Dash, dcc, Output, Input\n",
    "import dash_bootstrap_components as dbc\n",
    "import plotly.express as px\n",
    "import pandas as pd"
   ]
  },
  {
   "cell_type": "code",
   "execution_count": 3,
   "id": "7ed44837",
   "metadata": {},
   "outputs": [],
   "source": [
    "app = Dash(__name__, external_stylesheets=[dbc.themes.BOOTSTRAP])\n",
    "mytext = dcc.Markdown(children='# Hello World')"
   ]
  },
  {
   "cell_type": "code",
   "execution_count": 4,
   "id": "4a14461b",
   "metadata": {},
   "outputs": [],
   "source": [
    "app.layout = dbc.Container([mytext])"
   ]
  },
  {
   "cell_type": "code",
   "execution_count": 5,
   "id": "049bf0cc",
   "metadata": {},
   "outputs": [],
   "source": [
    "### App Interativo\n",
    "\n",
    "app = Dash(__name__, external_stylesheets=[dbc.themes.SOLAR])\n",
    "mytext = dcc.Markdown(children='')\n",
    "myinput = dcc.Input(value='# Hello World')\n",
    "\n",
    "app.layout = dbc.Container([mytext, myinput])\n",
    "\n",
    "@app.callback(\n",
    "    Output(mytext, component_property='children'),\n",
    "    Input(myinput, component_property='value')\n",
    ")\n",
    "\n",
    "def update_title(user_input):\n",
    "    return user_input"
   ]
  },
  {
   "cell_type": "code",
   "execution_count": null,
   "id": "f1bf101d",
   "metadata": {
    "scrolled": true
   },
   "outputs": [
    {
     "name": "stdout",
     "output_type": "stream",
     "text": [
      "Dash is running on http://127.0.0.1:8051/\n",
      "\n",
      " * Serving Flask app '__main__'\n",
      " * Debug mode: off\n"
     ]
    },
    {
     "name": "stderr",
     "output_type": "stream",
     "text": [
      "WARNING: This is a development server. Do not use it in a production deployment. Use a production WSGI server instead.\n",
      " * Running on http://127.0.0.1:8051\n",
      "Press CTRL+C to quit\n",
      "127.0.0.1 - - [10/Jul/2023 13:10:41] \"GET / HTTP/1.1\" 200 -\n",
      "127.0.0.1 - - [10/Jul/2023 13:10:42] \"GET /_dash-layout HTTP/1.1\" 200 -\n",
      "127.0.0.1 - - [10/Jul/2023 13:10:42] \"GET /_dash-dependencies HTTP/1.1\" 200 -\n",
      "127.0.0.1 - - [10/Jul/2023 13:10:42] \"GET /_dash-component-suites/dash/dcc/async-markdown.js HTTP/1.1\" 304 -\n",
      "127.0.0.1 - - [10/Jul/2023 13:10:42] \"POST /_dash-update-component HTTP/1.1\" 200 -\n",
      "127.0.0.1 - - [10/Jul/2023 13:10:42] \"GET /_dash-component-suites/dash/dcc/async-highlight.js HTTP/1.1\" 304 -\n",
      "127.0.0.1 - - [10/Jul/2023 13:10:46] \"POST /_dash-update-component HTTP/1.1\" 200 -\n",
      "127.0.0.1 - - [10/Jul/2023 13:10:49] \"POST /_dash-update-component HTTP/1.1\" 200 -\n",
      "127.0.0.1 - - [10/Jul/2023 13:10:50] \"POST /_dash-update-component HTTP/1.1\" 200 -\n",
      "127.0.0.1 - - [10/Jul/2023 13:10:51] \"POST /_dash-update-component HTTP/1.1\" 200 -\n",
      "127.0.0.1 - - [10/Jul/2023 13:10:52] \"POST /_dash-update-component HTTP/1.1\" 200 -\n"
     ]
    }
   ],
   "source": [
    "if __name__ == '__main__':\n",
    "    app.run_server(port=8051)"
   ]
  },
  {
   "cell_type": "code",
   "execution_count": null,
   "id": "ab64bf92",
   "metadata": {},
   "outputs": [
    {
     "name": "stdout",
     "output_type": "stream",
     "text": [
      "Dash is running on http://127.0.0.1:8053/\n",
      "\n",
      " * Serving Flask app '__main__'\n",
      " * Debug mode: off\n"
     ]
    },
    {
     "name": "stderr",
     "output_type": "stream",
     "text": [
      "WARNING: This is a development server. Do not use it in a production deployment. Use a production WSGI server instead.\n",
      " * Running on http://127.0.0.1:8053\n",
      "Press CTRL+C to quit\n",
      "127.0.0.1 - - [10/Jul/2023 13:21:12] \"GET / HTTP/1.1\" 200 -\n",
      "127.0.0.1 - - [10/Jul/2023 13:21:12] \"GET /_dash-component-suites/dash/deps/polyfill@7.v2_10_0m1685465327.12.1.min.js HTTP/1.1\" 200 -\n",
      "127.0.0.1 - - [10/Jul/2023 13:21:12] \"GET /_dash-component-suites/dash/deps/react@16.v2_10_0m1685465327.14.0.min.js HTTP/1.1\" 200 -\n",
      "127.0.0.1 - - [10/Jul/2023 13:21:12] \"GET /_dash-component-suites/dash/deps/react-dom@16.v2_10_0m1685465327.14.0.min.js HTTP/1.1\" 200 -\n",
      "127.0.0.1 - - [10/Jul/2023 13:21:12] \"GET /_dash-component-suites/dash/deps/prop-types@15.v2_10_0m1685465327.8.1.min.js HTTP/1.1\" 200 -\n",
      "127.0.0.1 - - [10/Jul/2023 13:21:12] \"GET /_dash-component-suites/dash_bootstrap_components/_components/dash_bootstrap_components.v1_4_1m1687887717.min.js HTTP/1.1\" 200 -\n",
      "127.0.0.1 - - [10/Jul/2023 13:21:12] \"GET /_dash-component-suites/dash/dash-renderer/build/dash_renderer.v2_10_0m1685465326.min.js HTTP/1.1\" 200 -\n",
      "127.0.0.1 - - [10/Jul/2023 13:21:12] \"GET /_dash-component-suites/dash/dcc/dash_core_components.v2_10_0m1685465327.js HTTP/1.1\" 200 -\n",
      "127.0.0.1 - - [10/Jul/2023 13:21:12] \"GET /_dash-component-suites/dash/dcc/dash_core_components-shared.v2_10_0m1685465327.js HTTP/1.1\" 200 -\n",
      "127.0.0.1 - - [10/Jul/2023 13:21:12] \"GET /_dash-component-suites/dash/html/dash_html_components.v2_0_12m1685465327.min.js HTTP/1.1\" 200 -\n",
      "127.0.0.1 - - [10/Jul/2023 13:21:12] \"GET /_dash-component-suites/dash/dash_table/bundle.v5_2_5m1685465326.js HTTP/1.1\" 200 -\n",
      "127.0.0.1 - - [10/Jul/2023 13:21:14] \"GET /_dash-layout HTTP/1.1\" 200 -\n",
      "127.0.0.1 - - [10/Jul/2023 13:21:14] \"GET /_dash-dependencies HTTP/1.1\" 200 -\n",
      "127.0.0.1 - - [10/Jul/2023 13:21:14] \"GET /_dash-component-suites/dash/dcc/async-markdown.js HTTP/1.1\" 200 -\n",
      "127.0.0.1 - - [10/Jul/2023 13:21:14] \"GET /_dash-component-suites/dash/dcc/async-graph.js HTTP/1.1\" 200 -\n",
      "127.0.0.1 - - [10/Jul/2023 13:21:14] \"GET /_dash-component-suites/dash/dcc/async-dropdown.js HTTP/1.1\" 200 -\n",
      "127.0.0.1 - - [10/Jul/2023 13:21:14] \"GET /_dash-component-suites/dash/dcc/async-plotlyjs.js HTTP/1.1\" 200 -\n",
      "127.0.0.1 - - [10/Jul/2023 13:21:14] \"GET /_dash-component-suites/dash/dcc/async-highlight.js HTTP/1.1\" 200 -\n",
      "127.0.0.1 - - [10/Jul/2023 13:21:15] \"GET /_favicon.ico?v=2.10.0 HTTP/1.1\" 200 -\n",
      "127.0.0.1 - - [10/Jul/2023 13:21:16] \"POST /_dash-update-component HTTP/1.1\" 200 -\n",
      "127.0.0.1 - - [10/Jul/2023 13:21:20] \"POST /_dash-update-component HTTP/1.1\" 200 -\n",
      "127.0.0.1 - - [10/Jul/2023 13:21:26] \"POST /_dash-update-component HTTP/1.1\" 200 -\n"
     ]
    }
   ],
   "source": [
    "### App com grafico\n",
    "\n",
    "# incorporate data into app\n",
    "df = px.data.medals_long()\n",
    "\n",
    "# Build your components\n",
    "app = Dash(__name__, external_stylesheets=[dbc.themes.VAPOR])\n",
    "mytitle = dcc.Markdown(children='# App that analyzes Olympic medals')\n",
    "mygraph = dcc.Graph(figure={})\n",
    "dropdown = dcc.Dropdown(options=['Bar Plot', 'Scatter Plot',],\n",
    "                        value='Bar Plot',  # initial value displayed when page first loads\n",
    "                        clearable=False)\n",
    "\n",
    "# Customize your own Layout\n",
    "app.layout = dbc.Container([mytitle, mygraph, dropdown])\n",
    "\n",
    "# Callback allows components to interact\n",
    "@app.callback(\n",
    "    Output(mygraph, component_property='figure'),\n",
    "    Input(dropdown, component_property='value')\n",
    ")\n",
    "def update_graph(user_input):  # function arguments come from the component property of the Input\n",
    "    if user_input == 'Bar Plot':\n",
    "        fig = px.bar(data_frame=df, x=\"nation\", y=\"count\", color=\"medal\")\n",
    "\n",
    "    elif user_input == 'Scatter Plot':\n",
    "        fig = px.scatter(data_frame=df, x=\"count\", y=\"nation\", color=\"medal\",\n",
    "                         symbol=\"medal\")\n",
    "\n",
    "    return fig  # returned objects are assigned to the component property of the Output\n",
    "\n",
    "\n",
    "# Run app\n",
    "if __name__=='__main__':\n",
    "    app.run_server(port=8053)"
   ]
  },
  {
   "cell_type": "code",
   "execution_count": null,
   "id": "25224dfd",
   "metadata": {},
   "outputs": [
    {
     "name": "stdout",
     "output_type": "stream",
     "text": [
      "Dash is running on http://127.0.0.1:8054/\n",
      "\n",
      " * Serving Flask app '__main__'\n",
      " * Debug mode: off\n"
     ]
    },
    {
     "name": "stderr",
     "output_type": "stream",
     "text": [
      "WARNING: This is a development server. Do not use it in a production deployment. Use a production WSGI server instead.\n",
      " * Running on http://127.0.0.1:8054\n",
      "Press CTRL+C to quit\n",
      "127.0.0.1 - - [10/Jul/2023 13:39:30] \"GET / HTTP/1.1\" 200 -\n",
      "127.0.0.1 - - [10/Jul/2023 13:39:30] \"GET /_dash-component-suites/dash/deps/polyfill@7.v2_10_0m1685465327.12.1.min.js HTTP/1.1\" 200 -\n",
      "127.0.0.1 - - [10/Jul/2023 13:39:30] \"GET /_dash-component-suites/dash/deps/react@16.v2_10_0m1685465327.14.0.min.js HTTP/1.1\" 200 -\n",
      "127.0.0.1 - - [10/Jul/2023 13:39:30] \"GET /_dash-component-suites/dash/deps/react-dom@16.v2_10_0m1685465327.14.0.min.js HTTP/1.1\" 200 -\n",
      "127.0.0.1 - - [10/Jul/2023 13:39:31] \"GET /_dash-component-suites/dash/deps/prop-types@15.v2_10_0m1685465327.8.1.min.js HTTP/1.1\" 200 -\n",
      "127.0.0.1 - - [10/Jul/2023 13:39:31] \"GET /_dash-component-suites/dash/dash-renderer/build/dash_renderer.v2_10_0m1685465326.min.js HTTP/1.1\" 200 -\n",
      "127.0.0.1 - - [10/Jul/2023 13:39:31] \"GET /_dash-component-suites/dash_bootstrap_components/_components/dash_bootstrap_components.v1_4_1m1687887717.min.js HTTP/1.1\" 200 -\n",
      "127.0.0.1 - - [10/Jul/2023 13:39:31] \"GET /_dash-component-suites/dash/dcc/dash_core_components.v2_10_0m1685465327.js HTTP/1.1\" 200 -\n",
      "127.0.0.1 - - [10/Jul/2023 13:39:31] \"GET /_dash-component-suites/dash/dcc/dash_core_components-shared.v2_10_0m1685465327.js HTTP/1.1\" 200 -\n",
      "127.0.0.1 - - [10/Jul/2023 13:39:31] \"GET /_dash-component-suites/dash/html/dash_html_components.v2_0_12m1685465327.min.js HTTP/1.1\" 200 -\n",
      "127.0.0.1 - - [10/Jul/2023 13:39:31] \"GET /_dash-component-suites/dash/dash_table/bundle.v5_2_5m1685465326.js HTTP/1.1\" 200 -\n",
      "127.0.0.1 - - [10/Jul/2023 13:39:33] \"GET /_dash-dependencies HTTP/1.1\" 200 -\n",
      "127.0.0.1 - - [10/Jul/2023 13:39:33] \"GET /_dash-layout HTTP/1.1\" 200 -\n",
      "127.0.0.1 - - [10/Jul/2023 13:39:33] \"GET /_dash-component-suites/dash/dcc/async-markdown.js HTTP/1.1\" 200 -\n",
      "127.0.0.1 - - [10/Jul/2023 13:39:33] \"GET /_dash-component-suites/dash/dcc/async-graph.js HTTP/1.1\" 200 -\n",
      "127.0.0.1 - - [10/Jul/2023 13:39:33] \"GET /_dash-component-suites/dash/dcc/async-plotlyjs.js HTTP/1.1\" 200 -\n",
      "127.0.0.1 - - [10/Jul/2023 13:39:33] \"GET /_dash-component-suites/dash/dcc/async-dropdown.js HTTP/1.1\" 200 -\n",
      "127.0.0.1 - - [10/Jul/2023 13:39:33] \"GET /_dash-component-suites/dash/dcc/async-highlight.js HTTP/1.1\" 200 -\n"
     ]
    },
    {
     "name": "stdout",
     "output_type": "stream",
     "text": [
      "Cesarean Delivery Rate\n",
      "<class 'str'>\n"
     ]
    },
    {
     "name": "stderr",
     "output_type": "stream",
     "text": [
      "127.0.0.1 - - [10/Jul/2023 13:39:34] \"POST /_dash-update-component HTTP/1.1\" 200 -\n",
      "127.0.0.1 - - [10/Jul/2023 13:39:34] \"GET /_favicon.ico?v=2.10.0 HTTP/1.1\" 200 -\n",
      "127.0.0.1 - - [10/Jul/2023 13:39:55] \"POST /_dash-update-component HTTP/1.1\" 200 -\n"
     ]
    },
    {
     "name": "stdout",
     "output_type": "stream",
     "text": [
      "Drug Overdose Mortality per 100,000\n",
      "<class 'str'>\n"
     ]
    },
    {
     "name": "stderr",
     "output_type": "stream",
     "text": [
      "127.0.0.1 - - [10/Jul/2023 13:40:03] \"POST /_dash-update-component HTTP/1.1\" 200 -\n"
     ]
    },
    {
     "name": "stdout",
     "output_type": "stream",
     "text": [
      "Suicide Mortality per 100,000\n",
      "<class 'str'>\n"
     ]
    }
   ],
   "source": [
    "\n",
    "# incorporate data into app\n",
    "# Source - https://www.cdc.gov/nchs/pressroom/stats_of_the_states.htm\n",
    "df = pd.read_csv(\"./social_capital.csv\")\n",
    "df.head()\n",
    "\n",
    "# Build your components\n",
    "app = Dash(__name__, external_stylesheets=[dbc.themes.LUX])\n",
    "mytitle = dcc.Markdown(children='')\n",
    "mygraph = dcc.Graph(figure={})\n",
    "dropdown = dcc.Dropdown(options=df.columns.values[2:],\n",
    "                        value='Cesarean Delivery Rate',  # initial value displayed when page first loads\n",
    "                        clearable=False)\n",
    "\n",
    "# Customize your own Layout\n",
    "app.layout = dbc.Container([\n",
    "    dbc.Row([\n",
    "        dbc.Col([mytitle], width=6)\n",
    "    ], justify='center'),\n",
    "    dbc.Row([\n",
    "        dbc.Col([mygraph], width=12)\n",
    "    ]),\n",
    "    dbc.Row([\n",
    "        dbc.Col([dropdown], width=6)\n",
    "    ], justify='center'),\n",
    "\n",
    "], fluid=True)\n",
    "\n",
    "# Callback allows components to interact\n",
    "@app.callback(\n",
    "    Output(mygraph, 'figure'),\n",
    "    Output(mytitle, 'children'),\n",
    "    Input(dropdown, 'value')\n",
    ")\n",
    "def update_graph(column_name):  # function arguments come from the component property of the Input\n",
    "\n",
    "    print(column_name)\n",
    "    print(type(column_name))\n",
    "    # https://plotly.com/python/choropleth-maps/\n",
    "    fig = px.choropleth(data_frame=df,\n",
    "                        locations='STATE',\n",
    "                        locationmode=\"USA-states\",\n",
    "                        scope=\"usa\",\n",
    "                        height=600,\n",
    "                        color=column_name,\n",
    "                        animation_frame='YEAR')\n",
    "\n",
    "    return fig, '# '+column_name  # returned objects are assigned to the component property of the Output\n",
    "\n",
    "\n",
    "# Run app\n",
    "if __name__=='__main__':\n",
    "    app.run_server( port=8054)"
   ]
  },
  {
   "cell_type": "code",
   "execution_count": null,
   "id": "ec5f901b",
   "metadata": {},
   "outputs": [],
   "source": []
  }
 ],
 "metadata": {
  "kernelspec": {
   "display_name": "Python 3 (ipykernel)",
   "language": "python",
   "name": "python3"
  },
  "language_info": {
   "codemirror_mode": {
    "name": "ipython",
    "version": 3
   },
   "file_extension": ".py",
   "mimetype": "text/x-python",
   "name": "python",
   "nbconvert_exporter": "python",
   "pygments_lexer": "ipython3",
   "version": "3.10.9"
  }
 },
 "nbformat": 4,
 "nbformat_minor": 5
}
